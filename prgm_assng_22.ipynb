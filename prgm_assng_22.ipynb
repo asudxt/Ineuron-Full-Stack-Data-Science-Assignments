{
 "cells": [
  {
   "cell_type": "markdown",
   "id": "74f5fd6f-9698-45ed-a8c2-b02e9d2407d1",
   "metadata": {},
   "source": [
    "Question1\n",
    "Create a function that takes three parameters where:\n",
    " x is the start of the range (inclusive).\n",
    " y is the end of the range (inclusive).\n",
    " n is the divisor to be checked against.\n",
    "Return an ordered list with numbers in the range that are divisible by the third parameter n.\n",
    "Return an empty list if there are no numbers that are divisible by n.\n",
    "Examples\n",
    "list_operation(1, 10, 3) ➞ [3, 6, 9]\n",
    "list_operation(7, 9, 2) ➞ [8]\n",
    "list_operation(15, 20, 7) ➞ []"
   ]
  },
  {
   "cell_type": "code",
   "execution_count": 1,
   "id": "2b1e33d8-d2bd-4120-910f-e6d1c20d39c4",
   "metadata": {},
   "outputs": [
    {
     "name": "stdout",
     "output_type": "stream",
     "text": [
      "[3, 6, 9]\n",
      "[8]\n",
      "[]\n"
     ]
    }
   ],
   "source": [
    "def list_operation(x, y, n):\n",
    "    return [num for num in range(x, y+1) if num % n == 0]\n",
    "\n",
    "print(list_operation(1, 10, 3))\n",
    "\n",
    "\n",
    "print(list_operation(7, 9, 2))\n",
    "\n",
    "\n",
    "print(list_operation(15, 20, 7))\n",
    "\n"
   ]
  },
  {
   "cell_type": "markdown",
   "id": "3c7f5bab-8a9c-4cdf-84fd-6dab7307b1de",
   "metadata": {},
   "source": [
    "Question2\n",
    "Create a function that takes in two lists and returns True if the second list follows the first list\n",
    "by one element, and False otherwise. In other words, determine if the second list is the first\n",
    "list shifted to the right by 1.\n",
    "Examples\n",
    "simon_says([1, 2], [5, 1]) ➞ True\n",
    "simon_says([1, 2], [5, 5]) ➞ False\n",
    "simon_says([1, 2, 3, 4, 5], [0, 1, 2, 3, 4]) ➞ True\n",
    "simon_says([1, 2, 3, 4, 5], [5, 5, 1, 2, 3]) ➞ False\n",
    "Notes\n",
    " Both input lists will be of the same length, and will have a minimum length of 2.\n",
    " The values of the 0-indexed element in the second list and the n-1th indexed element\n",
    "in the first list do not matter."
   ]
  },
  {
   "cell_type": "code",
   "execution_count": 2,
   "id": "85fc2eb2-8148-4fd8-a107-0da5db6443d5",
   "metadata": {},
   "outputs": [
    {
     "name": "stdout",
     "output_type": "stream",
     "text": [
      "True\n",
      "False\n",
      "True\n",
      "False\n"
     ]
    }
   ],
   "source": [
    "def simon_says(list1, list2):\n",
    "    return list1[:-1] == list2[1:]\n",
    "\n",
    "print(simon_says([1, 2], [5, 1]))\n",
    "\n",
    "\n",
    "print(simon_says([1, 2], [5, 5]))\n",
    "\n",
    "\n",
    "print(simon_says([1, 2, 3, 4, 5], [0, 1, 2, 3, 4]))\n",
    "\n",
    "\n",
    "print(simon_says([1, 2, 3, 4, 5], [5, 5, 1, 2, 3]))\n",
    "\n"
   ]
  },
  {
   "cell_type": "markdown",
   "id": "2a71c463-6a30-4a0b-b248-909476f01be8",
   "metadata": {},
   "source": [
    "Question3\n",
    "A group of friends have decided to start a secret society. The name will be the first letter of\n",
    "each of their names, sorted in alphabetical order.\n",
    "Create a function that takes in a list of names and returns the name of the secret society.\n",
    "\n",
    "Examples\n",
    "society_name([&quot;Adam&quot;, &quot;Sarah&quot;, &quot;Malcolm&quot;]) ➞ &quot;AMS&quot;\n",
    "society_name([&quot;Harry&quot;, &quot;Newt&quot;, &quot;Luna&quot;, &quot;Cho&quot;]) ➞ &quot;CHLN&quot;\n",
    "society_name([&quot;Phoebe&quot;, &quot;Chandler&quot;, &quot;Rachel&quot;, &quot;Ross&quot;, &quot;Monica&quot;, &quot;Joey&quot;])"
   ]
  },
  {
   "cell_type": "code",
   "execution_count": 7,
   "id": "527d920a-e4b3-4adc-9333-b77966642aad",
   "metadata": {},
   "outputs": [
    {
     "name": "stdout",
     "output_type": "stream",
     "text": [
      "AMS\n",
      "CHLN\n",
      "CJMPRR\n"
     ]
    }
   ],
   "source": [
    "def society_name(names):\n",
    "    return ''.join(sorted([name[0] for name in names]))\n",
    "\n",
    "print(society_name([\"Adam\", \"Sarah\", \"Malcolm\"]))\n",
    "print(society_name([\"Harry\", \"Newt\", \"Luna\", \"Cho\"]))  \n",
    "print(society_name([\"Phoebe\", \"Chandler\", \"Rachel\", \"Ross\", \"Monica\", \"Joey\"]))  \n"
   ]
  },
  {
   "cell_type": "markdown",
   "id": "5a74fd7f-ab72-4cb1-a7c6-f9f17d14557f",
   "metadata": {},
   "source": [
    "Question4\n",
    "An isogram is a word that has no duplicate letters. Create a function that takes a string and\n",
    "returns either True or False depending on whether or not it&#39;s an &quot;isogram&quot;.\n",
    "Examples\n",
    "is_isogram(&quot;Algorism&quot;) ➞ True\n",
    "is_isogram(&quot;PasSword&quot;) ➞ False\n",
    "# Not case sensitive.\n",
    "is_isogram(&quot;Consecutive&quot;) ➞ False\n",
    "Notes\n",
    " Ignore letter case (should not be case sensitive).\n",
    " All test cases contain valid one word strings."
   ]
  },
  {
   "cell_type": "code",
   "execution_count": 8,
   "id": "a4647d94-edf1-4e03-9fa5-985f3655375a",
   "metadata": {},
   "outputs": [
    {
     "name": "stdout",
     "output_type": "stream",
     "text": [
      "True\n",
      "False\n",
      "False\n"
     ]
    }
   ],
   "source": [
    "def is_isogram(string):\n",
    "    lowercase_string = string.lower()\n",
    "    return len(set(lowercase_string)) == len(lowercase_string)\n",
    "\n",
    "print(is_isogram(\"Algorism\"))  \n",
    "print(is_isogram(\"PasSword\"))  \n",
    "print(is_isogram(\"Consecutive\"))  "
   ]
  },
  {
   "cell_type": "markdown",
   "id": "b02306b4-8bd7-4d0a-abc8-ff696addeb00",
   "metadata": {},
   "source": [
    "Question5\n",
    "Create a function that takes a string and returns True or False, depending on whether the\n",
    "characters are in order or not.\n",
    "Examples\n",
    "is_in_order(&quot;abc&quot;) ➞ True\n",
    "is_in_order(&quot;edabit&quot;) ➞ False\n",
    "is_in_order(&quot;123&quot;) ➞ True\n",
    "is_in_order(&quot;xyzz&quot;) ➞ True\n",
    "Notes\n",
    "You don&#39;t have to handle empty strings."
   ]
  },
  {
   "cell_type": "code",
   "execution_count": 9,
   "id": "5820549d-8dfa-444a-b892-4267e6f8b52b",
   "metadata": {},
   "outputs": [
    {
     "name": "stdout",
     "output_type": "stream",
     "text": [
      "True\n",
      "False\n",
      "True\n",
      "True\n"
     ]
    }
   ],
   "source": [
    "def is_in_order(string):\n",
    "    for i in range(len(string) - 1):\n",
    "        if string[i] > string[i + 1]:\n",
    "            return False\n",
    "    return True\n",
    "\n",
    "print(is_in_order(\"abc\"))  \n",
    "print(is_in_order(\"edabit\"))  \n",
    "print(is_in_order(\"123\")) \n",
    "print(is_in_order(\"xyzz\")) \n"
   ]
  }
 ],
 "metadata": {
  "kernelspec": {
   "display_name": "Python 3 (ipykernel)",
   "language": "python",
   "name": "python3"
  },
  "language_info": {
   "codemirror_mode": {
    "name": "ipython",
    "version": 3
   },
   "file_extension": ".py",
   "mimetype": "text/x-python",
   "name": "python",
   "nbconvert_exporter": "python",
   "pygments_lexer": "ipython3",
   "version": "3.10.6"
  }
 },
 "nbformat": 4,
 "nbformat_minor": 5
}
