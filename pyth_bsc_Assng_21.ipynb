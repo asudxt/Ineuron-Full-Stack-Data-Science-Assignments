{
 "cells": [
  {
   "cell_type": "raw",
   "id": "e95ca279-b536-4b5f-8db5-935c74ee7e24",
   "metadata": {},
   "source": [
    "1. Add the current date to the text file today.txt as a string."
   ]
  },
  {
   "cell_type": "code",
   "execution_count": 2,
   "id": "ec33432e-cda2-409a-b7e9-a6b0085f9908",
   "metadata": {},
   "outputs": [
    {
     "data": {
      "text/plain": [
       "'2023-04-24'"
      ]
     },
     "execution_count": 2,
     "metadata": {},
     "output_type": "execute_result"
    }
   ],
   "source": [
    "import datetime\n",
    "from datetime import date\n",
    "now = date.today()\n",
    "cur_date = now.isoformat()\n",
    "cur_date     "
   ]
  },
  {
   "cell_type": "code",
   "execution_count": 3,
   "id": "61daf29c-ec6a-4a92-80e5-4163f61f5396",
   "metadata": {},
   "outputs": [],
   "source": [
    "with open('today.txt','w') as file:\n",
    "    file.write(cur_date)"
   ]
  },
  {
   "cell_type": "raw",
   "id": "a8a4c7dd-c2df-4190-9b8f-09a8dae3acb8",
   "metadata": {},
   "source": [
    "2. Read the text file today.txt into the string today_string"
   ]
  },
  {
   "cell_type": "code",
   "execution_count": 2,
   "id": "1f127073-e8fa-4511-9190-d37d9a70c997",
   "metadata": {},
   "outputs": [
    {
     "data": {
      "text/plain": [
       "'2023-04-24'"
      ]
     },
     "execution_count": 2,
     "metadata": {},
     "output_type": "execute_result"
    }
   ],
   "source": [
    "with open('today.txt', 'r') as f:\n",
    "    today_string = f.read()\n",
    "today_string\n",
    "    "
   ]
  },
  {
   "cell_type": "raw",
   "id": "d546e122-a6f3-4c35-8f74-fa7624d2eba9",
   "metadata": {},
   "source": [
    "3. Parse the date from today_string."
   ]
  },
  {
   "cell_type": "code",
   "execution_count": 3,
   "id": "03cbe8a5-ea5a-4882-972e-c56bb06c66c3",
   "metadata": {},
   "outputs": [
    {
     "data": {
      "text/plain": [
       "datetime.datetime(2023, 4, 24, 0, 0)"
      ]
     },
     "execution_count": 3,
     "metadata": {},
     "output_type": "execute_result"
    }
   ],
   "source": [
    "from datetime import datetime\n",
    "format = '%Y-%m-%d'\n",
    "datetime.strptime(today_string,format)"
   ]
  },
  {
   "cell_type": "code",
   "execution_count": null,
   "id": "9e85a062-0343-4849-90f2-0a38bec7092e",
   "metadata": {},
   "outputs": [],
   "source": [
    "4. List the files in your current directory"
   ]
  },
  {
   "cell_type": "code",
   "execution_count": 4,
   "id": "dde6e085-baf4-42e8-8572-445ffca3956d",
   "metadata": {},
   "outputs": [
    {
     "data": {
      "text/plain": [
       "['geeksforgeeks.txt',\n",
       " 'pyth bsc Assng_8.ipynb',\n",
       " 'pyth_bsc_Assng_20.ipynb',\n",
       " 'test.txt',\n",
       " 'Python basic Assignment_2.ipynb',\n",
       " 'pyth_bsc_Assng_15.ipynb',\n",
       " 'Untitled Folder',\n",
       " 'zoo.py',\n",
       " 'test.png',\n",
       " 'test.docx.docx',\n",
       " 'pyth bsc assng11.ipynb',\n",
       " 'pyth_bsc_Assng_17.ipynb',\n",
       " 'assignment_3.ipynb',\n",
       " '.git',\n",
       " 'Logger2.log',\n",
       " 'pyth bsc Assng_18.ipynb',\n",
       " 'pyth bsc assng_.ipynb',\n",
       " 'pyth bsc Assngmnt_5.ipynb',\n",
       " ';pyth bsc Assng_12.ipynb',\n",
       " 'pyth_bsc_Assng_21.ipynb',\n",
       " 'pyth_bsc_assng_19.ipynb',\n",
       " 'ashutosh.pdf',\n",
       " 'Assignment_1.ipynb',\n",
       " 'python basic Assignment_3.ipynb',\n",
       " 'Untitled1.ipynb',\n",
       " 'pyth bsc Assng_16.ipynb',\n",
       " 'pyth bsc Assngmnt_4.ipynb',\n",
       " '__pycache__',\n",
       " 'books.db',\n",
       " 'pyth bsc Assng_09.ipynb',\n",
       " 'pyth bsc Assngmnt_6.ipynb',\n",
       " 'EmployeeData.csv',\n",
       " 'pyth bsc Assng_10.ipynb',\n",
       " 'Assignment_2.ipynb',\n",
       " '.ipynb_checkpoints',\n",
       " 'pyth bsc Assng_14.ipynb',\n",
       " 'today.txt',\n",
       " 'pyth bsc Assngnmnt_7.ipynb',\n",
       " 'output.csv',\n",
       " 'books.csv',\n",
       " 'Untitled2.ipynb']"
      ]
     },
     "execution_count": 4,
     "metadata": {},
     "output_type": "execute_result"
    }
   ],
   "source": [
    "import os\n",
    "os.listdir('.')"
   ]
  },
  {
   "cell_type": "raw",
   "id": "79fe0349-b7a4-4548-bd73-c3d05c3298aa",
   "metadata": {},
   "source": [
    "5. Create a list of all of the files in your parent directory (minimum five files should be available)."
   ]
  },
  {
   "cell_type": "code",
   "execution_count": 5,
   "id": "60099479-f47b-45f2-956a-2325cefe2f27",
   "metadata": {},
   "outputs": [
    {
     "name": "stdout",
     "output_type": "stream",
     "text": [
      "['.profile', '.bash_logout', '.bashrc', '.ipython', '.cache', '.jupyter', '.local', '.conda', '.config', '.npm', '.wget-hsts', 'work']\n"
     ]
    }
   ],
   "source": [
    "import os\n",
    "\n",
    "# get the current directory\n",
    "current_dir = os.getcwd()\n",
    "\n",
    "# get the parent directory\n",
    "parent_dir = os.path.dirname(current_dir)\n",
    "\n",
    "# get the list of files in the parent directory\n",
    "file_list = os.listdir(parent_dir)\n",
    "\n",
    "# print the list of files\n",
    "print(file_list)"
   ]
  },
  {
   "cell_type": "raw",
   "id": "161c6ffe-d376-4565-887c-08477dea1f6e",
   "metadata": {},
   "source": [
    "6. Use multiprocessing to create three separate processes. Make each one wait a random number of seconds between one and five, print the current time, and then exit."
   ]
  },
  {
   "cell_type": "code",
   "execution_count": 6,
   "id": "dc3d6aa6-9c6d-4e46-9e68-25addf7ff367",
   "metadata": {},
   "outputs": [
    {
     "name": "stdout",
     "output_type": "stream",
     "text": [
      "wait 0.1665557429103608 seconds, time is 2023-04-24 14:07:49.730435\n",
      "wait 0.26316978646574174 seconds, time is 2023-04-24 14:07:49.766634\n",
      "wait 0.30044839489873554 seconds, time is 2023-04-24 14:07:49.861533\n"
     ]
    }
   ],
   "source": [
    "import multiprocessing\n",
    "\n",
    "def printsec(seconds):\n",
    "    from datetime import datetime\n",
    "    from time import sleep\n",
    "    sleep(seconds)\n",
    "    print('wait', seconds, 'seconds, time is', datetime.utcnow())\n",
    "    \n",
    "if __name__ == '__main__':\n",
    "    import random    \n",
    "    for n in range(3):\n",
    "        seconds = random.random()\n",
    "        proc = multiprocessing.Process(target=printsec, args=(seconds,))\n",
    "        proc.start()"
   ]
  },
  {
   "cell_type": "code",
   "execution_count": null,
   "id": "b01fac14-14de-4743-9f05-d7b24dd2f02c",
   "metadata": {},
   "outputs": [],
   "source": []
  },
  {
   "cell_type": "code",
   "execution_count": null,
   "id": "d4dbce6e-b705-409d-b9ce-18f182f32d84",
   "metadata": {},
   "outputs": [],
   "source": [
    "7. Create a date object of your day of birth."
   ]
  },
  {
   "cell_type": "code",
   "execution_count": 2,
   "id": "d51eb5ed-422a-4527-a56d-71f5ce5bb596",
   "metadata": {},
   "outputs": [
    {
     "name": "stdout",
     "output_type": "stream",
     "text": [
      "2000-10-20\n"
     ]
    }
   ],
   "source": [
    "from datetime import date\n",
    "\n",
    "dob = date(2000, 10, 20)\n",
    "print(dob)\n"
   ]
  },
  {
   "cell_type": "code",
   "execution_count": null,
   "id": "7806848f-705d-4b42-a8cc-f1a871f11f5f",
   "metadata": {},
   "outputs": [],
   "source": [
    "8. What day of the week was your day of birth?"
   ]
  },
  {
   "cell_type": "code",
   "execution_count": 3,
   "id": "70fb913b-37b6-47eb-926c-b2eb0b1a5d53",
   "metadata": {},
   "outputs": [
    {
     "data": {
      "text/plain": [
       "4"
      ]
     },
     "execution_count": 3,
     "metadata": {},
     "output_type": "execute_result"
    }
   ],
   "source": [
    "dob.weekday()"
   ]
  },
  {
   "cell_type": "code",
   "execution_count": null,
   "id": "0a0a5620-044c-4ebb-86bb-bd5cd9dd3c77",
   "metadata": {},
   "outputs": [],
   "source": [
    "9. When will you be (or when were you) 10,000 days old?"
   ]
  },
  {
   "cell_type": "code",
   "execution_count": 5,
   "id": "211b329c-a9c5-4763-b1e2-2b2cf7a05f5f",
   "metadata": {},
   "outputs": [
    {
     "data": {
      "text/plain": [
       "datetime.date(2028, 3, 7)"
      ]
     },
     "execution_count": 5,
     "metadata": {},
     "output_type": "execute_result"
    }
   ],
   "source": [
    "from datetime import timedelta\n",
    "day10000 = dob + timedelta(days=10000)\n",
    "day10000"
   ]
  }
 ],
 "metadata": {
  "kernelspec": {
   "display_name": "Python 3 (ipykernel)",
   "language": "python",
   "name": "python3"
  },
  "language_info": {
   "codemirror_mode": {
    "name": "ipython",
    "version": 3
   },
   "file_extension": ".py",
   "mimetype": "text/x-python",
   "name": "python",
   "nbconvert_exporter": "python",
   "pygments_lexer": "ipython3",
   "version": "3.10.6"
  }
 },
 "nbformat": 4,
 "nbformat_minor": 5
}
