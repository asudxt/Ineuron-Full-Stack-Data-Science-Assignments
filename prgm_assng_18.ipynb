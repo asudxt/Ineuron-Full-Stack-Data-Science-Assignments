{
 "cells": [
  {
   "cell_type": "markdown",
   "id": "9ed55e23-11cc-41c3-8e59-7434c3c79c3c",
   "metadata": {},
   "source": [
    "Question 1\n",
    "Create a function that takes a list of non-negative integers and strings and return a new list\n",
    "without the strings.\n",
    "Examples\n",
    "filter_list([1, 2, &quot;a&quot;, &quot;b&quot;]) ➞ [1, 2]\n",
    "filter_list([1, &quot;a&quot;, &quot;b&quot;, 0, 15]) ➞ [1, 0, 15]\n",
    "filter_list([1, 2, &quot;aasf&quot;, &quot;1&quot;, &quot;123&quot;, 123]) ➞ [1, 2, 123]"
   ]
  },
  {
   "cell_type": "code",
   "execution_count": null,
   "id": "60f7812a-854b-4260-925d-de7a188c4226",
   "metadata": {},
   "outputs": [],
   "source": [
    "def filter_list(lst):\n",
    "    return [x for x in lst if isinstance(x, int)]\n",
    "\n",
    "\n",
    "# Example usage\n",
    "input_list = [1, 2, \"a\", \"b\"]\n",
    "filtered_list = filter_list(input_list)\n",
    "print(f\"Filtered list: {filtered_list}\")\n",
    "\n",
    "input_list = [1, \"a\", \"b\", 0, 15]\n",
    "filtered_list = filter_list(input_list)\n",
    "print(f\"Filtered list: {filtered_list}\")\n",
    "\n",
    "input_list = [1, 2, \"aasf\", \"1\", \"123\", 123]\n",
    "filtered_list = filter_list(input_list)\n",
    "print(f\"Filtered list: {filtered_list}\")\n"
   ]
  },
  {
   "cell_type": "markdown",
   "id": "7979e939-d2e8-4dc1-b232-4af0799f1af9",
   "metadata": {},
   "source": [
    "Question 2\n",
    "The &quot;Reverser&quot; takes a string as input and returns that string in reverse order, with the\n",
    "opposite case.\n",
    "Examples\n",
    "reverse(&quot;Hello World&quot;) ➞ &quot;DLROw OLLEh&quot;\n",
    "reverse(&quot;ReVeRsE&quot;) ➞ &quot;eSrEvEr&quot;\n",
    "reverse(&quot;Radar&quot;) ➞ &quot;RADAr&quot;"
   ]
  },
  {
   "cell_type": "code",
   "execution_count": 17,
   "id": "37f5b58c-5627-4ef9-8e45-79e9f95836c5",
   "metadata": {},
   "outputs": [
    {
     "name": "stdout",
     "output_type": "stream",
     "text": [
      "DLROw OLLEh\n",
      "eSrEvEr\n",
      "RADAr\n"
     ]
    }
   ],
   "source": [
    "def reverse(text):\n",
    "    reversed_text = text[::-1]\n",
    "    return reversed_text.swapcase()  \n",
    "\n",
    "print(reverse(\"Hello World\"))  \n",
    "print(reverse(\"ReVeRsE\")) \n",
    "print(reverse(\"Radar\")) \n",
    "\n"
   ]
  },
  {
   "cell_type": "markdown",
   "id": "73998ec3-b744-4a11-8244-5e83d667f192",
   "metadata": {},
   "source": [
    "Question 3\n",
    "You can assign variables from lists like this:\n",
    "lst = [1, 2, 3, 4, 5, 6]\n",
    "first = lst[0]\n",
    "middle = lst[1:-1]\n",
    "last = lst[-1]\n",
    "print(first) ➞ outputs 1\n",
    "print(middle) ➞ outputs [2, 3, 4, 5]\n",
    "print(last) ➞ outputs 6\n",
    "With Python 3, you can assign variables from lists in a much more succinct way. Create\n",
    "variables first, middle and last from the given list using destructuring assignment\n",
    "(check the Resources tab for some examples), where:\n",
    "first ➞ 1\n",
    "middle ➞ [2, 3, 4, 5]\n",
    "last ➞ 6\n",
    "\n",
    "Your task is to unpack the list writeyourcodehere into three variables, being first,\n",
    "middle, and last, with middle being everything in between the first and last element. Then\n",
    "print all three variables."
   ]
  },
  {
   "cell_type": "code",
   "execution_count": 20,
   "id": "21a23a6f-552f-4f9c-905f-89305353dc3c",
   "metadata": {},
   "outputs": [
    {
     "name": "stdout",
     "output_type": "stream",
     "text": [
      "1\n",
      "[2, 3, 4, 5]\n",
      "6\n"
     ]
    }
   ],
   "source": [
    "writeyourcodehere = [1, 2, 3, 4, 5, 6]\n",
    "first, *middle, last = writeyourcodehere\n",
    "\n",
    "print(first)  \n",
    "print(middle)  \n",
    "print(last)  "
   ]
  },
  {
   "cell_type": "markdown",
   "id": "c376a573-26c2-4bca-a336-0f840f3ee60a",
   "metadata": {},
   "source": [
    "Question 4\n",
    "Write a function that calculates the factorial of a number recursively.\n",
    "Examples\n",
    "factorial(5) ➞ 120\n",
    "factorial(3) ➞ 6\n",
    "factorial(1) ➞ 1\n",
    "factorial(0) ➞ 1\n",
    "\n",
    "print(factorial(5))  # Output: 120\n",
    "print(factorial(3))  # Output: 6\n",
    "print(factorial(1))  # Output: 1\n",
    "print(factorial(0))  # Output: 1\n"
   ]
  },
  {
   "cell_type": "code",
   "execution_count": 21,
   "id": "5f97e98c-0dbb-4534-82c6-870fa8a12ba4",
   "metadata": {},
   "outputs": [
    {
     "name": "stdout",
     "output_type": "stream",
     "text": [
      "120\n",
      "6\n",
      "1\n",
      "1\n"
     ]
    }
   ],
   "source": [
    "def factorial(n):\n",
    "    if n == 0 or n == 1:\n",
    "        return 1\n",
    "    else:\n",
    "        return n * factorial(n - 1)\n",
    "    \n",
    "print(factorial(5))  # Output: 120\n",
    "print(factorial(3))  # Output: 6\n",
    "print(factorial(1))  # Output: 1\n",
    "print(factorial(0))  # Output: 1\n",
    "    \n"
   ]
  },
  {
   "cell_type": "markdown",
   "id": "daf8ece3-402c-4f22-a4ab-78708875b742",
   "metadata": {},
   "source": [
    "Question 5\n",
    "Write a function that moves all elements of one type to the end of the list.\n",
    "Examples\n",
    "move_to_end([1, 3, 2, 4, 4, 1], 1) ➞ [3, 2, 4, 4, 1, 1]\n",
    "# Move all the 1s to the end of the array.\n",
    "move_to_end([7, 8, 9, 1, 2, 3, 4], 9) ➞ [7, 8, 1, 2, 3, 4, 9]\n",
    "move_to_end([&quot;a&quot;, &quot;a&quot;, &quot;a&quot;, &quot;b&quot;], &quot;a&quot;) ➞ [&quot;b&quot;, &quot;a&quot;, &quot;a&quot;, &quot;a&quot;]"
   ]
  },
  {
   "cell_type": "code",
   "execution_count": null,
   "id": "5fc48dde-37cc-4548-81ad-a4f23e588ea8",
   "metadata": {},
   "outputs": [],
   "source": [
    "def move_to_end(lst, element):\n",
    "    end_elements = []\n",
    "    remaining_elements = []\n",
    "\n",
    "    for item in lst:\n",
    "        if item == element:\n",
    "            end_elements.append(item)\n",
    "        else:\n",
    "            remaining_elements.append(item)\n",
    "\n",
    "    return remaining_elements + end_elements\n"
   ]
  }
 ],
 "metadata": {
  "kernelspec": {
   "display_name": "Python 3 (ipykernel)",
   "language": "python",
   "name": "python3"
  },
  "language_info": {
   "codemirror_mode": {
    "name": "ipython",
    "version": 3
   },
   "file_extension": ".py",
   "mimetype": "text/x-python",
   "name": "python",
   "nbconvert_exporter": "python",
   "pygments_lexer": "ipython3",
   "version": "3.10.6"
  }
 },
 "nbformat": 4,
 "nbformat_minor": 5
}
