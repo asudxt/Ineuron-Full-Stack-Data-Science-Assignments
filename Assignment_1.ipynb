{
 "cells": [
  {
   "cell_type": "raw",
   "id": "71735fe5-3b5a-4767-837e-6f04924390a9",
   "metadata": {},
   "source": [
    "1. In the below elements which of them are values or an expression? eg:- values can be integer or string and expressions will be mathematical operators.\n",
    "*\n",
    "'hello'\n",
    "-87.8\n",
    "-\n",
    "/\n",
    "+\n",
    "6"
   ]
  },
  {
   "cell_type": "raw",
   "id": "12329274-f77d-4fcb-aed4-c492417ae48e",
   "metadata": {},
   "source": [
    "values can be integer or string which will be:\n",
    "\n",
    "'hello'\n",
    "-87.8\n",
    " 6\n",
    " \n",
    "expressions will be mathematical operators which will be:\n",
    "\n",
    "*\n",
    "-\n",
    "/\n",
    "+"
   ]
  },
  {
   "cell_type": "raw",
   "id": "5a93fee5-03e4-4cb7-aee1-ff77c8e6e27a",
   "metadata": {},
   "source": [
    "2. What is the difference between string and variable?"
   ]
  },
  {
   "cell_type": "raw",
   "id": "93644605-4816-4fe0-8407-44739fe25de7",
   "metadata": {},
   "source": [
    "String: A string is a literal text string, i.e. \"hello\".\n",
    "\n",
    "\n",
    "variable: A variable is something that stores data - it can store a string, int, float, class, etc.\n",
    "\n",
    "A = \"Hello\"\n",
    "\n",
    "\n",
    "A is variable that can store a data \"Hello\" as string.\n",
    "\n",
    "\n",
    "    "
   ]
  },
  {
   "cell_type": "raw",
   "id": "5b9bc854-9528-48fa-ac4e-7c63e43d1b49",
   "metadata": {},
   "source": [
    "3. Describe three different data types."
   ]
  },
  {
   "cell_type": "raw",
   "id": "af963054-25c9-4fef-89ef-4347ab5551df",
   "metadata": {
    "tags": []
   },
   "source": [
    "1) Integer: Integer data type contain whole numbers i.e 01234, This value is represented by int class."
   ]
  },
  {
   "cell_type": "code",
   "execution_count": 2,
   "id": "601b813a-2994-4f93-952d-9f4425b271c6",
   "metadata": {},
   "outputs": [
    {
     "data": {
      "text/plain": [
       "int"
      ]
     },
     "execution_count": 2,
     "metadata": {},
     "output_type": "execute_result"
    }
   ],
   "source": [
    "A = 1255\n",
    "type(A)"
   ]
  },
  {
   "cell_type": "raw",
   "id": "0bc7ee97-09ed-4049-a5b2-5fe6f51d0aff",
   "metadata": {},
   "source": [
    "2) Boolean: Boolean data type contain True (for Yes) and False (for NO) value.\n",
    "   Note – True and False with capital ‘T’ and ‘F’ are valid booleans otherwise python will throw an error. \n"
   ]
  },
  {
   "cell_type": "code",
   "execution_count": 1,
   "id": "167195c1-5485-4e90-8a61-b2ec2d46c61a",
   "metadata": {},
   "outputs": [
    {
     "name": "stdout",
     "output_type": "stream",
     "text": [
      "<class 'bool'>\n"
     ]
    }
   ],
   "source": [
    "B = True\n",
    "print(type(B))"
   ]
  },
  {
   "cell_type": "raw",
   "id": "7dc8444f-997b-4d13-94cc-85d794f64176",
   "metadata": {},
   "source": [
    "\n",
    "3) Float: This type of data type contain decimal numbers or fraction values i.e 22.2,56.5"
   ]
  },
  {
   "cell_type": "code",
   "execution_count": 2,
   "id": "932d889f-49eb-48fd-8520-0124da954f2e",
   "metadata": {},
   "outputs": [
    {
     "name": "stdout",
     "output_type": "stream",
     "text": [
      "<class 'float'>\n"
     ]
    }
   ],
   "source": [
    "c = 55.5\n",
    "print(type(c))"
   ]
  },
  {
   "cell_type": "raw",
   "id": "80be0093-a802-4220-bd19-00d7ac4035bf",
   "metadata": {},
   "source": [
    "4. What is an expression made up of? What do all expressions do?"
   ]
  },
  {
   "cell_type": "raw",
   "id": "9f1c5fb8-1288-4b66-a8a3-167946f449bf",
   "metadata": {},
   "source": [
    "An expression is made up of operators and operands. An operators is a special symbol that perform the logical computation on the operands \n",
    "And operand is an object that is operated on.\n",
    "\n",
    "The expression in python produces result to a single value after being \n",
    "interpreted by python interpreter "
   ]
  },
  {
   "cell_type": "code",
   "execution_count": 3,
   "id": "5fb6696c-a81e-4386-a8b5-ddd6b99eb1e9",
   "metadata": {},
   "outputs": [
    {
     "name": "stdout",
     "output_type": "stream",
     "text": [
      "22\n"
     ]
    }
   ],
   "source": [
    "x = 12     # IT is an statement\n",
    "y = x+10   # It is an expression \n",
    "print(y)   # IN this x and 10 is a operands and '+' is a operator\n"
   ]
  },
  {
   "cell_type": "raw",
   "id": "44a5bc93-22c8-435e-9db0-3a5bcacea6e3",
   "metadata": {},
   "source": [
    "5. This assignment statements, like spam = 10. What is the difference between an\n",
    "expression and a statement?"
   ]
  },
  {
   "cell_type": "raw",
   "id": "be0d42a0-82d3-45c2-9c63-b7c9cb46b963",
   "metadata": {},
   "source": [
    "An expression evaluate(that is, reduce) to a single value but, statement does not as we see in above example.\n"
   ]
  },
  {
   "cell_type": "code",
   "execution_count": null,
   "id": "42b346fe-397d-4e7e-8826-293af48c325e",
   "metadata": {},
   "outputs": [],
   "source": [
    "6. After running the following code, what does the variable bacon contain?\n",
    "bacon = 22\n",
    "bacon + 1"
   ]
  },
  {
   "cell_type": "raw",
   "id": "47568e84-1a1a-4dee-8184-0d8d1e5755cc",
   "metadata": {},
   "source": [
    "The bacon variable is set to 22. The bacon + 1 expression does not reassign the value in bacon (that would need an assignment statement: bacon = bacon + 1)."
   ]
  },
  {
   "cell_type": "raw",
   "id": "0ecac47d-f418-4b20-838a-7261282f5baa",
   "metadata": {},
   "source": [
    "7. What should the values of the following two terms be?\n",
    "'spam' + 'spamspam'\n",
    "'spam' * 3"
   ]
  },
  {
   "cell_type": "raw",
   "id": "5bfd8c75-9d9a-418e-b358-d048832782f3",
   "metadata": {},
   "source": [
    "The value of following two term would we same because both of them give the same output as see below"
   ]
  },
  {
   "cell_type": "code",
   "execution_count": 5,
   "id": "6f8837d9-513a-477f-ac07-42342a90289a",
   "metadata": {},
   "outputs": [],
   "source": [
    "a = 'spam' + 'spamspam'\n",
    "b = 'spam' * 3"
   ]
  },
  {
   "cell_type": "code",
   "execution_count": 8,
   "id": "f5a59abc-4cb2-49db-a657-38a9147adeca",
   "metadata": {},
   "outputs": [
    {
     "name": "stdout",
     "output_type": "stream",
     "text": [
      "spamspamspam\n",
      "spamspamspam\n"
     ]
    }
   ],
   "source": [
    "print(a)\n",
    "print(b)"
   ]
  },
  {
   "cell_type": "raw",
   "id": "4cfacb35-452f-4848-b9e7-18a7b97eef80",
   "metadata": {},
   "source": [
    "8. Why is eggs a valid variable name while 100 is invalid?"
   ]
  },
  {
   "cell_type": "raw",
   "id": "2adf5636-f9c2-4747-928c-3698162b720f",
   "metadata": {},
   "source": [
    "Because variable name cannot being with a number as seen below"
   ]
  },
  {
   "cell_type": "code",
   "execution_count": 24,
   "id": "4794eaf9-eb8c-43ff-81a0-f1c84aa48210",
   "metadata": {},
   "outputs": [
    {
     "name": "stdout",
     "output_type": "stream",
     "text": [
      "10\n"
     ]
    }
   ],
   "source": [
    "eggs = 10\n",
    "print(eggs)"
   ]
  },
  {
   "cell_type": "code",
   "execution_count": 27,
   "id": "73be6d98-0579-4203-acf3-82d438390068",
   "metadata": {},
   "outputs": [
    {
     "ename": "SyntaxError",
     "evalue": "invalid decimal literal (1042569322.py, line 1)",
     "output_type": "error",
     "traceback": [
      "\u001b[0;36m  Cell \u001b[0;32mIn [27], line 1\u001b[0;36m\u001b[0m\n\u001b[0;31m    100t = 10\u001b[0m\n\u001b[0m      ^\u001b[0m\n\u001b[0;31mSyntaxError\u001b[0m\u001b[0;31m:\u001b[0m invalid decimal literal\n"
     ]
    }
   ],
   "source": [
    "100t = 10\n",
    "print(100ten)"
   ]
  },
  {
   "cell_type": "raw",
   "id": "a352bcdb-703c-4328-b7d3-bcb1dd9d61df",
   "metadata": {},
   "source": [
    "9. What three functions can be used to get the integer, floating-point number, or string\n",
    "version of a value?"
   ]
  },
  {
   "cell_type": "raw",
   "id": "a3ef1eaa-e77a-4d64-bf45-adb9e936c869",
   "metadata": {},
   "source": [
    "The three functions can be used to get the integer, floating-point number, \n",
    "or string version of a value is  int() , float() , and str( ) "
   ]
  },
  {
   "cell_type": "raw",
   "id": "c74f67bb-0213-4c61-a42a-f6fd9d732640",
   "metadata": {},
   "source": [
    "10. Why does this expression cause an error? How can you fix it?\n",
    "'I have eaten' + 99 + 'burritos.'"
   ]
  },
  {
   "cell_type": "raw",
   "id": "8d91afed-9155-497d-87d1-ec793090976b",
   "metadata": {},
   "source": [
    "This expression cause an error because string cannot concatenated with integer(99), \n",
    "by converting a 99 into str using single or double inverted commas be can fix it. "
   ]
  },
  {
   "cell_type": "code",
   "execution_count": 36,
   "id": "d056123d-2e26-412f-932d-bb7bfe2e453d",
   "metadata": {},
   "outputs": [
    {
     "ename": "TypeError",
     "evalue": "can only concatenate str (not \"int\") to str",
     "output_type": "error",
     "traceback": [
      "\u001b[0;31m---------------------------------------------------------------------------\u001b[0m",
      "\u001b[0;31mTypeError\u001b[0m                                 Traceback (most recent call last)",
      "Cell \u001b[0;32mIn [36], line 1\u001b[0m\n\u001b[0;32m----> 1\u001b[0m \u001b[38;5;124;43m'\u001b[39;49m\u001b[38;5;124;43mI have eaten\u001b[39;49m\u001b[38;5;124;43m'\u001b[39;49m\u001b[43m \u001b[49m\u001b[38;5;241;43m+\u001b[39;49m\u001b[43m  \u001b[49m\u001b[38;5;241;43m99\u001b[39;49m  \u001b[38;5;241m+\u001b[39m \u001b[38;5;124m'\u001b[39m\u001b[38;5;124mburritos.\u001b[39m\u001b[38;5;124m'\u001b[39m\n",
      "\u001b[0;31mTypeError\u001b[0m: can only concatenate str (not \"int\") to str"
     ]
    }
   ],
   "source": [
    "'I have eaten' +  99  + 'burritos.'"
   ]
  },
  {
   "cell_type": "code",
   "execution_count": 35,
   "id": "4e91cda8-e257-4255-b354-6ff4a88f1a4d",
   "metadata": {},
   "outputs": [
    {
     "data": {
      "text/plain": [
       "'I have eaten 99 burritos.'"
      ]
     },
     "execution_count": 35,
     "metadata": {},
     "output_type": "execute_result"
    }
   ],
   "source": [
    "'I have eaten' +  \" 99 \"  + 'burritos.'"
   ]
  },
  {
   "cell_type": "code",
   "execution_count": null,
   "id": "2865529d-ffa0-4aea-a4d7-c62a0e9daeb2",
   "metadata": {},
   "outputs": [],
   "source": []
  }
 ],
 "metadata": {
  "kernelspec": {
   "display_name": "Python 3 (ipykernel)",
   "language": "python",
   "name": "python3"
  },
  "language_info": {
   "codemirror_mode": {
    "name": "ipython",
    "version": 3
   },
   "file_extension": ".py",
   "mimetype": "text/x-python",
   "name": "python",
   "nbconvert_exporter": "python",
   "pygments_lexer": "ipython3",
   "version": "3.10.6"
  }
 },
 "nbformat": 4,
 "nbformat_minor": 5
}
