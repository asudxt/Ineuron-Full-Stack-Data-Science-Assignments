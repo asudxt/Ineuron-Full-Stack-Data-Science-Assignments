{
 "cells": [
  {
   "cell_type": "raw",
   "id": "8f4bc891-4945-4f0c-8a50-578c343cab06",
   "metadata": {},
   "source": [
    "1.What are the two values of the Boolean data type? How do you write them?"
   ]
  },
  {
   "cell_type": "raw",
   "id": "82f1422d-b578-43f6-8847-f83837b57d73",
   "metadata": {},
   "source": [
    "The Boolean data type has two possible values: True and False, they can be written as capital T and F, with rest of them in lowercase as written previously. "
   ]
  },
  {
   "cell_type": "code",
   "execution_count": 8,
   "id": "534c9528-a4af-4808-a84e-0fa6b7b0758b",
   "metadata": {},
   "outputs": [
    {
     "name": "stdout",
     "output_type": "stream",
     "text": [
      "<class 'bool'> <class 'bool'>\n"
     ]
    }
   ],
   "source": [
    "# lets see with example\n",
    "x = True\n",
    "y = False\n",
    "print(type(x),type(y))"
   ]
  },
  {
   "cell_type": "raw",
   "id": "9e086da7-6864-49df-8c3d-2d328e06608c",
   "metadata": {},
   "source": [
    "2. What are the three different types of Boolean operators?"
   ]
  },
  {
   "cell_type": "raw",
   "id": "ce9b1b45-2d4b-4d3b-bb05-e97991eb0319",
   "metadata": {},
   "source": [
    "The three different types of Boolean operators are: AND, OR, NOT"
   ]
  },
  {
   "cell_type": "raw",
   "id": "9340140c-ba96-401b-b42a-246c594283e6",
   "metadata": {},
   "source": [
    "3. Make a list of each Boolean operator's truth tables (i.e. every possible combination of Boolean\n",
    "values for the operator and what it evaluate )."
   ]
  },
  {
   "cell_type": "raw",
   "id": "9a5e3965-3acd-4646-af6a-e2f4755c3aff",
   "metadata": {},
   "source": [
    "Ans:- True and True is True.\n",
    "\n",
    "True and False is False.\n",
    "\n",
    "False and True is False.\n",
    "\n",
    "False and False is False.\n",
    "\n",
    "True or True is True.\n",
    "\n",
    "True or False is True.\n",
    "\n",
    "False or True is True.\n",
    "\n",
    "False or False is False.\n",
    "\n",
    "not True is False.\n",
    "\n",
    "not False is True.\n",
    "\n",
    "True is 1 and False is 0\n",
    "\n",
    "Truth Table for AND\n",
    "\n",
    "A B output\n",
    "0 0 0\n",
    "0 1 0\n",
    "1 0 0\n",
    "1 1 1\n",
    "\n",
    "Truth Table for OR\n",
    "\n",
    "A B output\n",
    "0 0 0\n",
    "0 1 1\n",
    "1 0 1\n",
    "1 1 1\n",
    "\n",
    "Truth Table for NOT\n",
    "\n",
    "A output\n",
    "0 1\n",
    "1 0"
   ]
  },
  {
   "cell_type": "raw",
   "id": "891d08d0-da84-4b73-bdd9-3888a5d9d73e",
   "metadata": {},
   "source": [
    "4. What are the values of the following expressions?\n",
    "(5 > 4) and (3 == 5)\n",
    "not (5 > 4)\n",
    "(5 > 4) or (3 == 5)\n",
    "not ((5 > 4) or (3 == 5))\n",
    "(True and True) and (True == False)\n",
    "(not False) or (not True)"
   ]
  },
  {
   "cell_type": "code",
   "execution_count": 19,
   "id": "ea75f7f3-ed45-49ac-812d-85631f89b1d2",
   "metadata": {},
   "outputs": [
    {
     "name": "stdout",
     "output_type": "stream",
     "text": [
      "False\n"
     ]
    }
   ],
   "source": [
    "print((5 > 4) and (3 == 5))"
   ]
  },
  {
   "cell_type": "code",
   "execution_count": 20,
   "id": "e970d4df-60b4-4864-8558-8e5e22421e9c",
   "metadata": {},
   "outputs": [
    {
     "name": "stdout",
     "output_type": "stream",
     "text": [
      "False\n"
     ]
    }
   ],
   "source": [
    "print(not (5 > 4))"
   ]
  },
  {
   "cell_type": "code",
   "execution_count": 21,
   "id": "cb7b7ec4-7c70-40cf-8c0f-444846455771",
   "metadata": {},
   "outputs": [
    {
     "name": "stdout",
     "output_type": "stream",
     "text": [
      "True\n"
     ]
    }
   ],
   "source": [
    "print((5 > 4) or (3 == 5))"
   ]
  },
  {
   "cell_type": "code",
   "execution_count": 22,
   "id": "570ecc1d-8fa8-438e-a935-ce333e7bf33f",
   "metadata": {},
   "outputs": [
    {
     "name": "stdout",
     "output_type": "stream",
     "text": [
      "False\n"
     ]
    }
   ],
   "source": [
    "print(not ((5 > 4) or (3 == 5)))"
   ]
  },
  {
   "cell_type": "code",
   "execution_count": 23,
   "id": "b379f459-3c44-4c9f-b990-99e37f4a08cf",
   "metadata": {},
   "outputs": [
    {
     "name": "stdout",
     "output_type": "stream",
     "text": [
      "False\n"
     ]
    }
   ],
   "source": [
    "print((True and True) and (True == False))"
   ]
  },
  {
   "cell_type": "code",
   "execution_count": 24,
   "id": "86c4ad77-2798-41ba-9bf7-bfcaa295a609",
   "metadata": {},
   "outputs": [
    {
     "name": "stdout",
     "output_type": "stream",
     "text": [
      "True\n"
     ]
    }
   ],
   "source": [
    "print((not False) or (not True))"
   ]
  },
  {
   "cell_type": "raw",
   "id": "941e0ce5-7ae4-4f8c-aa3f-5668fba18fd8",
   "metadata": {},
   "source": [
    "5. What are the six comparison operators?"
   ]
  },
  {
   "cell_type": "raw",
   "id": "60b36685-755b-4e90-8a9b-051b5f4dd9f8",
   "metadata": {},
   "source": [
    "The six comparison operators are: \n",
    "> Greater-than Operator > \n",
    "> Less-than Operator <\n",
    "> Less-than-or-equal Operator <= \n",
    "> Greater-than-or-equal Operator >= \n",
    "> Equal-to Operator == \n",
    "> Not-equal-to Operator !=  "
   ]
  },
  {
   "cell_type": "raw",
   "id": "02cf7404-7c25-4af9-9ca4-456bce936135",
   "metadata": {},
   "source": [
    "6. How do you tell the difference between the equal to and assignment operators?Describe a\n",
    "condition and when you would use one."
   ]
  },
  {
   "cell_type": "raw",
   "id": "6ed8bc8d-ca78-4af2-8d95-c96ee8c197ad",
   "metadata": {},
   "source": [
    "Both are not same, '=' is an Assignment Operator it is used to assign or store a value in variable or expression, while '==' is an Equal to Operator and it is a relation operator used for comparison (to compare value of both left and right side operands), and evaluate the value to a boolean"
   ]
  },
  {
   "cell_type": "code",
   "execution_count": 3,
   "id": "711b8735-a448-4b68-9539-6447f6381766",
   "metadata": {},
   "outputs": [
    {
     "name": "stdout",
     "output_type": "stream",
     "text": [
      "10\n"
     ]
    }
   ],
   "source": [
    "#e.g\n",
    "x=10\n",
    "y=x\n",
    "print(y)\n",
    "#Here, When first expression evaluates value of (10) will be assigned into x and in second expression y=x; value of variable x will be assigned into y."
   ]
  },
  {
   "cell_type": "code",
   "execution_count": 4,
   "id": "8cf1f66c-bd96-4030-9215-a41f17935626",
   "metadata": {},
   "outputs": [
    {
     "name": "stdout",
     "output_type": "stream",
     "text": [
      "True\n"
     ]
    }
   ],
   "source": [
    "x=10;\n",
    "y=10;\n",
    " \n",
    "if(x==y):\n",
    "    print(\"True\")\n",
    "else:\n",
    "    print(\"False\")\n",
    "    \n",
    "#When expression x==y evaluates, it will return True (it means condition is TRUE) and \"TRUE\" will print.    "
   ]
  },
  {
   "cell_type": "raw",
   "id": "ad181127-0966-4a4c-aa96-46013b62b08e",
   "metadata": {},
   "source": [
    "7. Identify the three blocks in this code:\n",
    "spam = 0\n",
    "if spam == 10:\n",
    "print('eggs')\n",
    "if spam > 5:\n",
    "print('bacon')\n",
    "else:\n",
    "print('ham')\n",
    "print('spam')\n",
    "print('spam')"
   ]
  },
  {
   "cell_type": "code",
   "execution_count": 39,
   "id": "2c23a6f6-0c96-42de-8d94-83a8c8f360ac",
   "metadata": {},
   "outputs": [
    {
     "name": "stdout",
     "output_type": "stream",
     "text": [
      "ham\n",
      "spam\n",
      "spam\n"
     ]
    }
   ],
   "source": [
    "# A new block begins every time you increase the indentation of a line, and ends just before the corresponding unindent.\n",
    "\n",
    "spam = 0\n",
    "if spam == 10:\n",
    "    print('eggs')          # indent increased, block A\n",
    "    if spam > 5:         \n",
    "        print('bacon')   # indent increased, block B \n",
    "else:\n",
    "    print('ham')        #indent increased, block C \n",
    "    print('spam')\n",
    "    print('spam')"
   ]
  },
  {
   "cell_type": "raw",
   "id": "652713aa-2d4d-4b59-91cc-7ed43071cec0",
   "metadata": {},
   "source": [
    "8. Write code that prints Hello if 1 is stored in spam, prints Howdy if 2 is stored in spam, and prints\n",
    "Greetings! if anything else is stored in spam."
   ]
  },
  {
   "cell_type": "code",
   "execution_count": 73,
   "id": "cf79022a-9629-468c-b2e0-b3be60778abd",
   "metadata": {},
   "outputs": [
    {
     "name": "stdout",
     "output_type": "stream",
     "text": [
      "Howdy\n"
     ]
    }
   ],
   "source": [
    "spam = 2\n",
    "if spam == 1:\n",
    "    print('Hello')\n",
    "elif spam == 2:\n",
    "        print('Howdy')\n",
    "else:\n",
    "    print('Greetings!')"
   ]
  },
  {
   "cell_type": "raw",
   "id": "b779e8a1-1423-4da5-8ad2-029eab1af43c",
   "metadata": {},
   "source": [
    "9.If your programme is stuck in an endless loop, what keys you’ll press?"
   ]
  },
  {
   "cell_type": "raw",
   "id": "51934c57-0cf5-448e-9548-e609f7052f5b",
   "metadata": {},
   "source": [
    "Press CTRL-C to stop a program stuck in an infinite loop or endless loop. And infinite loop is a loop that runs indefinitely and it only stops with external intervention or when a break statement is found"
   ]
  },
  {
   "cell_type": "raw",
   "id": "309bc5cf-84ff-43f4-abca-b83820c424b2",
   "metadata": {},
   "source": [
    "10. How can you tell the difference between break and continue?"
   ]
  },
  {
   "cell_type": "raw",
   "id": "93fbdf48-c692-4fad-a6ff-b305da67b5b3",
   "metadata": {},
   "source": [
    " Break:A break statement in Python alters the flow of a loop by terminating or stop it once a specified condition is met. \n",
    " Continue: The continue statement in Python is used to skip the remaning code inside a loop for the current iteration only."
   ]
  },
  {
   "cell_type": "code",
   "execution_count": 126,
   "id": "f4b76aa0-628d-48a0-be51-06ebc8c080b5",
   "metadata": {},
   "outputs": [
    {
     "name": "stdout",
     "output_type": "stream",
     "text": [
      "0\n",
      "1\n",
      "2\n",
      "3\n",
      "4\n",
      "5\n",
      "6\n",
      "7\n",
      "Breaked\n",
      "0\n",
      "1\n",
      "2\n",
      "3\n",
      "4\n",
      "5\n",
      "6\n",
      "7\n",
      "9\n",
      "10\n"
     ]
    }
   ],
   "source": [
    "for a in range(11):\n",
    "    if a == 8:\n",
    "        break\n",
    "    print(a)\n",
    "print('Breaked')\n",
    "\n",
    "for a in range(11):\n",
    "    if a == 8:\n",
    "        continue\n",
    "    print(a)\n",
    " "
   ]
  },
  {
   "cell_type": "raw",
   "id": "d8ffbceb-6715-41ac-9baa-c0e7804fe86b",
   "metadata": {},
   "source": [
    "11. In a for loop, what is the difference between range(10), range(0, 10), and range(0, 10, 1)?"
   ]
  },
  {
   "cell_type": "code",
   "execution_count": 131,
   "id": "e56a6f9e-b44d-412c-9365-61c782b0e9ce",
   "metadata": {},
   "outputs": [
    {
     "name": "stdout",
     "output_type": "stream",
     "text": [
      "0\n",
      "1\n",
      "2\n",
      "3\n",
      "4\n",
      "5\n",
      "6\n",
      "7\n",
      "8\n",
      "9\n",
      "-------------------\n",
      "0\n",
      "1\n",
      "2\n",
      "3\n",
      "4\n",
      "5\n",
      "6\n",
      "7\n",
      "8\n",
      "9\n",
      "-------------------\n",
      "0\n",
      "1\n",
      "2\n",
      "3\n",
      "4\n",
      "5\n",
      "6\n",
      "7\n",
      "8\n",
      "9\n"
     ]
    }
   ],
   "source": [
    "for i in range(10):\n",
    "    print(i)\n",
    "print('-------------------')    \n",
    "for i in range(0,10):\n",
    "    print(i)\n",
    "print('-------------------')    \n",
    "for i in range(0,10,1):\n",
    "    print(i)"
   ]
  },
  {
   "cell_type": "raw",
   "id": "bec93253-8a42-4c68-a2c0-caaf561a3048",
   "metadata": {},
   "source": [
    "From the above output we can say that all the three are same, range(10) start with 0 upto 9, range(0,10) it also start with 0 and goes upto 9\n",
    "range(0,10,1) they also do the same, here the loop increase by 1 in each iteration"
   ]
  },
  {
   "cell_type": "raw",
   "id": "a247585a-773c-45e7-bf98-a044d219ad26",
   "metadata": {},
   "source": [
    "12. Write a short program that prints the numbers 1 to 10 using a for loop. Then write an equivalent\n",
    "program that prints the numbers 1 to 10 using a while loop."
   ]
  },
  {
   "cell_type": "code",
   "execution_count": 5,
   "id": "b4555c60-ffbb-4747-ad52-7cb6eed4e3a3",
   "metadata": {},
   "outputs": [
    {
     "name": "stdout",
     "output_type": "stream",
     "text": [
      "1\n",
      "2\n",
      "3\n",
      "4\n",
      "5\n",
      "6\n",
      "7\n",
      "8\n",
      "9\n",
      "10\n"
     ]
    }
   ],
   "source": [
    "for i in range(1,11):\n",
    "        print(i)"
   ]
  },
  {
   "cell_type": "code",
   "execution_count": 1,
   "id": "e1165e8c-5438-4646-9ea4-a3489d9e9921",
   "metadata": {},
   "outputs": [
    {
     "name": "stdout",
     "output_type": "stream",
     "text": [
      "1\n",
      "2\n",
      "3\n",
      "4\n",
      "5\n",
      "6\n",
      "7\n",
      "8\n",
      "9\n",
      "10\n"
     ]
    }
   ],
   "source": [
    "i=1\n",
    "while i<11:\n",
    "    print(i)\n",
    "    i=i+1"
   ]
  },
  {
   "cell_type": "raw",
   "id": "8c2f7a48-eb9e-42e0-8503-11cf4644f655",
   "metadata": {},
   "source": [
    "13. If you had a function named bacon() inside a module named spam, how would you call it after\n",
    "importing spam?"
   ]
  },
  {
   "cell_type": "raw",
   "id": "958c78f8-d1a8-44ff-91cc-e292268ba984",
   "metadata": {},
   "source": [
    "This function can be called with spam.bacon()."
   ]
  },
  {
   "cell_type": "code",
   "execution_count": null,
   "id": "240279ee-2a6d-417b-9942-6995fcbb2a13",
   "metadata": {},
   "outputs": [],
   "source": []
  }
 ],
 "metadata": {
  "kernelspec": {
   "display_name": "Python 3 (ipykernel)",
   "language": "python",
   "name": "python3"
  },
  "language_info": {
   "codemirror_mode": {
    "name": "ipython",
    "version": 3
   },
   "file_extension": ".py",
   "mimetype": "text/x-python",
   "name": "python",
   "nbconvert_exporter": "python",
   "pygments_lexer": "ipython3",
   "version": "3.10.6"
  }
 },
 "nbformat": 4,
 "nbformat_minor": 5
}
