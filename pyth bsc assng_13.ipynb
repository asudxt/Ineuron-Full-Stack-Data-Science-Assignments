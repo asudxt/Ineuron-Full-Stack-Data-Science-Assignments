{
 "cells": [
  {
   "cell_type": "raw",
   "id": "c955f0a6-c48e-42df-876e-6c9b7507baab",
   "metadata": {},
   "source": [
    "1. What advantages do Excel spreadsheets have over CSV spreadsheets?\n",
    "\n",
    "Ans: Excel file can be password protected.\n",
    "     Excel can perform VBA Coding, functions, formulas and create summaries easily when compared to CSV.\n",
    "     Reading large data set is much easier for the end-user to read, comprehend and understand when compared to CSV.\n",
    "     Excel also provides the user option for external linking of data from other sources, and also, the user can do custom add-ins."
   ]
  },
  {
   "cell_type": "raw",
   "id": "3f413147-b96b-487c-94be-40565eb53e0e",
   "metadata": {},
   "source": [
    "2.What do you pass to csv.reader() and csv.writer() to create reader and writer objects?\n",
    "\n",
    "Ans:  To read a CSV file in Python, we can use the csv.reader() function\n",
    "\n",
    "     import csv\n",
    "     with open('file name', 'r') as file:\n",
    "       reader = csv.reader(file)\n",
    "       for row in reader:\n",
    "        print(row)\n",
    "        \n",
    " To write to a CSV file in Python, we can use the csv.writer() function.\n",
    " \n",
    "    import csv\n",
    "    with open('file name', 'w') as file:\n",
    "      writer = csv.writer(file)\n",
    "      writer.writerow([\"SN\", \"Movie\", \"Protagonist\"])"
   ]
  },
  {
   "cell_type": "raw",
   "id": "daf401d3-4586-426a-bb5c-81617b57fe9b",
   "metadata": {},
   "source": [
    "3. What modes do File objects for reader and writer objects need to be opened in?\n",
    "\n",
    "Ans. File objects need to be opened in read-binary ('rb') for Reader objects and write-binary ('wb') for Writer objects"
   ]
  },
  {
   "cell_type": "raw",
   "id": "d8e525d7-6ef9-46ae-a818-55c9e3de0e75",
   "metadata": {},
   "source": [
    "4. What method takes a list argument and writes it to a CSV file?\n",
    "\n",
    "import csv\n",
    "\n",
    "# Define the fields that will be used as column headers in the CSV file\n",
    "fields = ['Employee', 'ID', 'Salary']\n",
    "\n",
    "# Create a list of rows, where each row is a list of values that will be written to the CSV file\n",
    "rows = [\n",
    "    ['XYZ', '011', '2000'],\n",
    "    ['ABC', '012', '8000'],\n",
    "    ['PQR', '351', '5000'],\n",
    "    ['EFG', '146', '10000']\n",
    "]\n",
    "\n",
    "# Open a file called 'EmployeeData.csv' in write mode ('w') and use it as a context manager\n",
    "# The 'with' statement ensures that the file is automatically closed when the block of code is finished\n",
    "with open('EmployeeData.csv', 'w') as f:\n",
    "    \n",
    "    # Create a CSV writer object that will write to the file 'f'\n",
    "    csv_writer = csv.writer(f)\n",
    "    \n",
    "    # Write the field names (column headers) to the first row of the CSV file\n",
    "    csv_writer.writerow(fields)\n",
    "    \n",
    "    # Write all of the rows of data to the CSV file\n",
    "    csv_writer.writerows(rows)"
   ]
  },
  {
   "cell_type": "raw",
   "id": "cfc66492-93c7-4b01-a73f-5405c243c3de",
   "metadata": {},
   "source": [
    "5. What do the keyword arguments delimiter and line terminator do?\n",
    "\n",
    "Ans.\n",
    "\n",
    "The delimiter argument changes the string used to separate cells in a row.\n",
    "\n",
    "The line terminator argument changes the string used to separate rows."
   ]
  },
  {
   "cell_type": "raw",
   "id": "79fa990f-81d6-4f81-95dd-78958a7c0e68",
   "metadata": {},
   "source": [
    "6. What function takes a string of JSON data and returns a Python data structure?\n",
    "\n",
    "Ans: jason.loads()"
   ]
  },
  {
   "cell_type": "code",
   "execution_count": 3,
   "id": "f9659be9-4f34-42e5-81d2-93bb2245510f",
   "metadata": {},
   "outputs": [
    {
     "name": "stdout",
     "output_type": "stream",
     "text": [
      "30\n"
     ]
    }
   ],
   "source": [
    "import json\n",
    "\n",
    "# some JSON:\n",
    "x = '{ \"name\":\"John\", \"age\":30, \"city\":\"New York\"}'\n",
    "\n",
    "# parse x:\n",
    "y = json.loads(x)\n",
    "\n",
    "# the result is a Python dictionary:\n",
    "print(y[\"age\"])\n"
   ]
  },
  {
   "cell_type": "raw",
   "id": "e363ef2b-ce18-46b4-8115-10a2432d3956",
   "metadata": {},
   "source": [
    "7. What function takes a Python data structure and returns a string of JSON data?\n",
    "\n",
    "Ans: jason.dumps()"
   ]
  },
  {
   "cell_type": "code",
   "execution_count": 4,
   "id": "d2107de9-a845-4c70-a623-4b77c110f4ab",
   "metadata": {},
   "outputs": [
    {
     "name": "stdout",
     "output_type": "stream",
     "text": [
      "{\"name\": \"John\", \"age\": 30, \"city\": \"New York\"}\n"
     ]
    }
   ],
   "source": [
    "import json\n",
    "\n",
    "# a Python object (dict):\n",
    "x = {\n",
    "  \"name\": \"John\",\n",
    "  \"age\": 30,\n",
    "  \"city\": \"New York\"\n",
    "}\n",
    "\n",
    "# convert into JSON:\n",
    "y = json.dumps(x)\n",
    "\n",
    "# the result is a JSON string:\n",
    "print(y)"
   ]
  },
  {
   "cell_type": "code",
   "execution_count": null,
   "id": "92b6e89a-23fb-44c8-84e0-c0f905fcc025",
   "metadata": {},
   "outputs": [],
   "source": []
  }
 ],
 "metadata": {
  "kernelspec": {
   "display_name": "Python 3 (ipykernel)",
   "language": "python",
   "name": "python3"
  },
  "language_info": {
   "codemirror_mode": {
    "name": "ipython",
    "version": 3
   },
   "file_extension": ".py",
   "mimetype": "text/x-python",
   "name": "python",
   "nbconvert_exporter": "python",
   "pygments_lexer": "ipython3",
   "version": "3.10.6"
  }
 },
 "nbformat": 4,
 "nbformat_minor": 5
}
