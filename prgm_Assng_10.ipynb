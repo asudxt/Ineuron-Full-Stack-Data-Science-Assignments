{
 "cells": [
  {
   "cell_type": "markdown",
   "id": "7154c6ad-3af0-4fcb-adf8-42c043e17973",
   "metadata": {},
   "source": [
    "1. Write a Python program to find sum of elements in list?"
   ]
  },
  {
   "cell_type": "code",
   "execution_count": 8,
   "id": "5190b692-052c-4ffb-90de-e71273a464d7",
   "metadata": {},
   "outputs": [
    {
     "name": "stdout",
     "output_type": "stream",
     "text": [
      "Sum of elements: 15\n"
     ]
    }
   ],
   "source": [
    "my_list = [1, 2, 3, 4, 5]\n",
    "list_sum = sum(my_list)\n",
    "print(\"Sum of elements:\", list_sum)"
   ]
  },
  {
   "cell_type": "markdown",
   "id": "aeaec792-805d-4ab7-8286-0d68065270fc",
   "metadata": {},
   "source": [
    "2. Write a Python program to Multiply all numbers in the list?"
   ]
  },
  {
   "cell_type": "code",
   "execution_count": 9,
   "id": "9f9c4494-b4f2-4941-949c-727dca055904",
   "metadata": {},
   "outputs": [
    {
     "name": "stdout",
     "output_type": "stream",
     "text": [
      "Product of numbers: 120\n"
     ]
    }
   ],
   "source": [
    "my_list = [2, 3, 4, 5]\n",
    "product = 1\n",
    "\n",
    "for num in my_list:\n",
    "    product *= num\n",
    "\n",
    "print(\"Product of numbers:\", product)"
   ]
  },
  {
   "cell_type": "markdown",
   "id": "3d68a97c-3685-4df1-88a9-ace13d18300b",
   "metadata": {},
   "source": [
    "3. Write a Python program to find smallest number in a list?"
   ]
  },
  {
   "cell_type": "code",
   "execution_count": 2,
   "id": "d9c73406-ef7f-482f-9ff3-8f2d535598b6",
   "metadata": {},
   "outputs": [
    {
     "name": "stdout",
     "output_type": "stream",
     "text": [
      "The smallest number is: 2\n"
     ]
    }
   ],
   "source": [
    "l1 = [25,26,9,2,33,66]\n",
    "\n",
    "smallest = min(l1)\n",
    "\n",
    "print(\"The smallest number is:\", smallest)\n"
   ]
  },
  {
   "cell_type": "markdown",
   "id": "369603ee-bf99-44fd-82e4-08995a2bd9a4",
   "metadata": {},
   "source": [
    "4. Write a Python program to find largest number in a list?"
   ]
  },
  {
   "cell_type": "markdown",
   "id": "64d1f2a9-38f3-4403-87c8-52f979292619",
   "metadata": {},
   "source": [
    "largest = max(l1)\n",
    "print(f\"the largest num is:\", largest)"
   ]
  },
  {
   "cell_type": "markdown",
   "id": "413035e0-a46b-4433-8f12-41179d10b6d1",
   "metadata": {},
   "source": [
    "5. Write a Python program to find second largest number in a list?"
   ]
  },
  {
   "cell_type": "code",
   "execution_count": 9,
   "id": "6cae11d1-8649-4354-9e7a-f3971749cb8c",
   "metadata": {},
   "outputs": [
    {
     "name": "stdout",
     "output_type": "stream",
     "text": [
      "the second largest num is: 33\n"
     ]
    }
   ],
   "source": [
    "max_num= max(l1)\n",
    "l1.remove(max_num)\n",
    "second_largest = max(l1)\n",
    "print(f\"the second largest num is:\", second_largest)"
   ]
  },
  {
   "cell_type": "markdown",
   "id": "c9c165f8-72d3-4ca6-a113-2be8baf082b4",
   "metadata": {},
   "source": [
    "6. Write a Python program to find N largest elements from a list?"
   ]
  },
  {
   "cell_type": "code",
   "execution_count": null,
   "id": "cb4071c3-52cf-4f28-96cd-fd9c13b26f80",
   "metadata": {},
   "outputs": [],
   "source": [
    "import heapq\n",
    "\n",
    "def find_n_largest_elements(lst, N):\n",
    "\n",
    "    largest_elements = heapq.nlargest(N, lst)\n",
    "    return largest_elements\n",
    "\n",
    "numbers = [5, 2, 9, 1, 7, 3, 6]\n",
    "N = 3\n",
    "\n",
    "result = find_n_largest_elements(numbers, N)\n",
    "print(f\"The {N} largest elements are: {result}\")\n"
   ]
  },
  {
   "cell_type": "markdown",
   "id": "ac438758-261c-48bc-92fa-e8e65512c3bd",
   "metadata": {},
   "source": [
    "7. Write a Python program to print even numbers in a list?"
   ]
  },
  {
   "cell_type": "code",
   "execution_count": 23,
   "id": "1fbf9e65-7308-424a-8c80-1f95babe3430",
   "metadata": {},
   "outputs": [
    {
     "name": "stdout",
     "output_type": "stream",
     "text": [
      "2\n",
      "4\n",
      "6\n",
      "8\n",
      "10\n"
     ]
    }
   ],
   "source": [
    "numbers = [1, 2, 3, 4, 5, 6, 7, 8, 9, 10]\n",
    "\n",
    "for i in numbers:\n",
    "    if i % 2 == 0:\n",
    "\n",
    "        print(i)"
   ]
  },
  {
   "cell_type": "markdown",
   "id": "017b7693-37cf-4a4d-a34c-4c181c3616cc",
   "metadata": {},
   "source": [
    "8. Write a Python program to print odd numbers in a List?"
   ]
  },
  {
   "cell_type": "code",
   "execution_count": 25,
   "id": "7af57adc-be0a-4e80-a2ac-813dbb037b95",
   "metadata": {},
   "outputs": [
    {
     "name": "stdout",
     "output_type": "stream",
     "text": [
      "1\n",
      "3\n",
      "5\n",
      "7\n",
      "9\n"
     ]
    }
   ],
   "source": [
    "numbers = [1, 2, 3, 4, 5, 6, 7, 8, 9, 10]\n",
    "\n",
    "for i in numbers:\n",
    "    if i % 2 != 0:\n",
    "\n",
    "        print(i)"
   ]
  },
  {
   "cell_type": "markdown",
   "id": "536c3e15-13e4-4812-9ccf-4c4af87371b8",
   "metadata": {},
   "source": [
    "9. Write a Python program to Remove empty List from List?"
   ]
  },
  {
   "cell_type": "code",
   "execution_count": 26,
   "id": "7d46500c-e4ec-470f-98a0-579c1d2e2802",
   "metadata": {},
   "outputs": [
    {
     "name": "stdout",
     "output_type": "stream",
     "text": [
      "[1, 3, 5, 8]\n"
     ]
    }
   ],
   "source": [
    "\n",
    "my_list = [1, [], 3, [], 5, [], [], 8]\n",
    "\n",
    "my_list = [sublist for sublist in my_list if sublist]\n",
    "\n",
    "print(my_list)"
   ]
  },
  {
   "cell_type": "markdown",
   "id": "0ae0b44c-7332-49ed-832e-b5f0b0d2479e",
   "metadata": {},
   "source": [
    "10. Write a Python program to Cloning or Copying a list?"
   ]
  },
  {
   "cell_type": "code",
   "execution_count": 36,
   "id": "c2f19583-7925-4795-9b0b-bd7272a6b97f",
   "metadata": {},
   "outputs": [
    {
     "name": "stdout",
     "output_type": "stream",
     "text": [
      "Original List: [4, 8, 2, 10, 15, 18]\n",
      "After Cloning: [4, 8, 2, 10, 15, 18]\n"
     ]
    }
   ],
   "source": [
    "\n",
    "def Cloning(li1):\n",
    "    li_copy = li1[:]\n",
    "    return li_copy\n",
    " \n",
    " \n",
    "\n",
    "li1 = [4, 8, 2, 10, 15, 18]\n",
    "li2 = Cloning(li1)\n",
    "print(\"Original List:\", li1)\n",
    "print(\"After Cloning:\", li2)"
   ]
  },
  {
   "cell_type": "markdown",
   "id": "1e927d16-c0a0-4cfb-a162-a2357b26da9c",
   "metadata": {},
   "source": [
    "11. Write a Python program to Count occurrences of an element in a list?"
   ]
  },
  {
   "cell_type": "code",
   "execution_count": 7,
   "id": "b4c030c1-1cfa-422c-a590-df8897b8620e",
   "metadata": {},
   "outputs": [
    {
     "name": "stdout",
     "output_type": "stream",
     "text": [
      "1\n",
      "the occurrence e in the list is: 1\n"
     ]
    }
   ],
   "source": [
    "lis = ['a', 'd', 'd', 'c', 'a', 'b', 'b', 'a', 'c', 'd', 'e']\n",
    "occurrence = {item: lis.count(item) for item in lis}\n",
    "print(occurrence.get('e'))\n",
    "print(f\"the occurrence e in the list is:\", (occurrence.get('e')))"
   ]
  }
 ],
 "metadata": {
  "kernelspec": {
   "display_name": "Python 3 (ipykernel)",
   "language": "python",
   "name": "python3"
  },
  "language_info": {
   "codemirror_mode": {
    "name": "ipython",
    "version": 3
   },
   "file_extension": ".py",
   "mimetype": "text/x-python",
   "name": "python",
   "nbconvert_exporter": "python",
   "pygments_lexer": "ipython3",
   "version": "3.10.6"
  }
 },
 "nbformat": 4,
 "nbformat_minor": 5
}
