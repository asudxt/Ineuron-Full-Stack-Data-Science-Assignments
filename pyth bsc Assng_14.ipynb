{
 "cells": [
  {
   "cell_type": "raw",
   "id": "c385509c-b30e-4c5d-8968-faf21d4575a0",
   "metadata": {},
   "source": [
    "1. What does RGBA stand for?\n",
    "\n",
    "Ans: RGPA typically refers to a color format that specifies red, green, blue, and alpha values for a color. The acronym \"RGBA\" stands for:\n",
    "\n",
    "Red: The intensity of the red color component, specified as an integer value between 0 and 255.\n",
    "Green: The intensity of the green color component, specified as an integer value between 0 and 255.\n",
    "Blue: The intensity of the blue color component, specified as an integer value between 0 and 255.\n",
    "Alpha: The opacity of the color, specified as a float value between 0 (completely transparent) and 1 (completely opaque)."
   ]
  },
  {
   "cell_type": "raw",
   "id": "dabb62a2-4609-4350-b3cf-1e300f7909b4",
   "metadata": {},
   "source": [
    "2. From the Pillow module, how do you get the RGBA value of any images?\n"
   ]
  },
  {
   "cell_type": "code",
   "execution_count": 12,
   "id": "b0c42cd8-6933-4fee-8de5-5ff855384938",
   "metadata": {},
   "outputs": [
    {
     "data": {
      "text/plain": [
       "(255, 0, 0, 255)"
      ]
     },
     "execution_count": 12,
     "metadata": {},
     "output_type": "execute_result"
    }
   ],
   "source": [
    "\n",
    "from PIL import ImageColor\n",
    "ImageColor.getcolor('green', 'RGBA')\n",
    "ImageColor.getcolor('red', 'RGBA')\n",
    "     "
   ]
  },
  {
   "cell_type": "code",
   "execution_count": 9,
   "id": "8aba3ff2-5184-429a-85f2-28bedf53a5ee",
   "metadata": {},
   "outputs": [
    {
     "name": "stdout",
     "output_type": "stream",
     "text": [
      "[(120, 187, 123, 255), (120, 187, 123, 255), (120, 187, 123, 255), (120, 187, 123, 255), (120, 187, 123, 255), (120, 187, 123, 255), (120, 187, 123, 255), (120, 187, 123, 255), (120, 187, 123, 255), (120, 187, 123, 255)]\n"
     ]
    }
   ],
   "source": [
    "from PIL import Image\n",
    "\n",
    "# Open the image file\n",
    "image = Image.open(\"test.png\")\n",
    "\n",
    "# Get the RGBA values of all pixels in the image\n",
    "rgba_values = list(image.getdata())\n",
    "\n",
    "# Print the first 10 RGBA values\n",
    "print(rgba_values[:10])"
   ]
  },
  {
   "cell_type": "raw",
   "id": "3f73f8f7-217e-438f-b7c7-7b6829225197",
   "metadata": {},
   "source": [
    "3. What is a box tuple, and how does it work?\n",
    "\n",
    "Ans: In Pillow (Python Imaging Library), a \"box tuple\" is a tuple of four integers that represents a rectangular region in an image. The four integers represent the coordinates of the top-left corner of the box (x0, y0) and the bottom-right corner of the box (x1, y1), respectively.\n",
    "\n"
   ]
  },
  {
   "cell_type": "raw",
   "id": "e0f7c617-40e8-423d-98d5-50b3247ae8af",
   "metadata": {},
   "source": [
    "4. Use your image and load in notebook then, How can you find out the width and height of an Image object?\n"
   ]
  },
  {
   "cell_type": "code",
   "execution_count": 10,
   "id": "055e21be-a095-474f-803c-20e67b0a11be",
   "metadata": {},
   "outputs": [
    {
     "data": {
      "text/plain": [
       "(1366, 768)"
      ]
     },
     "execution_count": 10,
     "metadata": {},
     "output_type": "execute_result"
    }
   ],
   "source": [
    "from PIL import Image\n",
    "myImg = Image.open('test.png')\n",
    "w,h = myImg.size\n",
    "w,h\n",
    "     "
   ]
  },
  {
   "cell_type": "raw",
   "id": "157c2b7c-0450-4af8-a769-b9dee6234372",
   "metadata": {},
   "source": [
    "5. What method would you call to get Image object for a 100×100 image, excluding the lower-left quarter of it?\n",
    "\n",
    "Ans. ImageObject.crop((0, 50, 50, 50))"
   ]
  },
  {
   "cell_type": "raw",
   "id": "1a594203-7019-48d7-836d-4b6af599f7a7",
   "metadata": {},
   "source": [
    "6. After making changes to an Image object, how could you save it as an image file?\n",
    "\n",
    "\n",
    "Ans. By Calling the imageObj.save('new_filename.png') method of the Image object.\n"
   ]
  },
  {
   "cell_type": "raw",
   "id": "1ac9aaab-d1b7-429c-ae88-5fe2a55af632",
   "metadata": {},
   "source": [
    "7. What module contains Pillow’s shape-drawing code?\n",
    "\n",
    " Ans. The ImageDraw module contains code to draw on images"
   ]
  },
  {
   "cell_type": "raw",
   "id": "68284896-b947-4941-b285-4705be6d0b43",
   "metadata": {},
   "source": [
    "8. Image objects do not have drawing methods. What kind of object does? How do you get this kind of object?\n",
    "\n",
    "Ans. ImageDraw objects have shape-drawing methods such as point(), line(), or rectangle(). They are returned by passing the Image object to the ImageDraw.Draw() function"
   ]
  }
 ],
 "metadata": {
  "kernelspec": {
   "display_name": "Python 3 (ipykernel)",
   "language": "python",
   "name": "python3"
  },
  "language_info": {
   "codemirror_mode": {
    "name": "ipython",
    "version": 3
   },
   "file_extension": ".py",
   "mimetype": "text/x-python",
   "name": "python",
   "nbconvert_exporter": "python",
   "pygments_lexer": "ipython3",
   "version": "3.10.6"
  }
 },
 "nbformat": 4,
 "nbformat_minor": 5
}
