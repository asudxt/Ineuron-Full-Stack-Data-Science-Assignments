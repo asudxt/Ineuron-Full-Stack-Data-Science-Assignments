{
 "cells": [
  {
   "cell_type": "raw",
   "id": "c02cb5e5-4884-4a0f-a1f2-31b67c65ad89",
   "metadata": {},
   "source": [
    "1. What are escape characters, and how do you use them?\n",
    "\n",
    "Ans: To insert characters that are illegal in a string, use an escape character.\n",
    "     An escape character is a backslash \\ followed by the character we want to insert."
   ]
  },
  {
   "cell_type": "code",
   "execution_count": 13,
   "id": "6cc32514-dc51-46a9-a02c-6822335b2837",
   "metadata": {},
   "outputs": [
    {
     "name": "stdout",
     "output_type": "stream",
     "text": [
      "We are the so-called  \"Vikings\" from the north.\n"
     ]
    }
   ],
   "source": [
    "#for e.g\n",
    "txt = \"We are the so-called  \\\"Vikings\\\" from the north.\"\n",
    "print(txt)"
   ]
  },
  {
   "cell_type": "raw",
   "id": "06055ea4-ef78-43c7-9f73-80d79fa4d990",
   "metadata": {},
   "source": [
    "2. What do the escape characters n and t stand for?\n",
    "\n",
    "Ans: t is a tab, n is a newline"
   ]
  },
  {
   "cell_type": "code",
   "execution_count": 18,
   "id": "db86120d-2e50-4cd4-8b82-77befcf9ff71",
   "metadata": {},
   "outputs": [
    {
     "name": "stdout",
     "output_type": "stream",
     "text": [
      "We are the so-called \tVikings\t from the north.\n"
     ]
    }
   ],
   "source": [
    "txt = \"We are the so-called \\tVikings\\t from the north.\"\n",
    "print(txt)"
   ]
  },
  {
   "cell_type": "raw",
   "id": "87e6ad4b-95a2-4d54-90b2-cbd1884bb219",
   "metadata": {},
   "source": [
    "3. What is the way to include backslash characters in a string?\n",
    "\n",
    "Ans: If we want to include a backslash character itself, we need two backslashes or use the @ verbatim string:"
   ]
  },
  {
   "cell_type": "code",
   "execution_count": 35,
   "id": "003c98e4-08c1-4ead-8bdd-6c93d5b3371e",
   "metadata": {},
   "outputs": [
    {
     "name": "stdout",
     "output_type": "stream",
     "text": [
      "\\Tasks\n"
     ]
    }
   ],
   "source": [
    "#for e.g\n",
    "s = \"\\\\Tasks\";\n",
    "print(s)"
   ]
  },
  {
   "cell_type": "raw",
   "id": "79c1405d-fa3d-41d6-91df-51e7aa04b41f",
   "metadata": {},
   "source": [
    "4. The string \"Howls Moving Castle\" is a correct value. Why isn't the single quote character in the word Howl's not escaped a problem?\n",
    "\n",
    "Ans: The single quote in Howl's is fine because you've used double quotes to mark the beginning and end of the string."
   ]
  },
  {
   "cell_type": "raw",
   "id": "a5dac8a6-ec9a-49b8-9c30-d4cf7ac230ef",
   "metadata": {},
   "source": [
    "5. How do you write a string of newlines if you dont want to use the n character?\n",
    "\n",
    "Ans:  Multiline strings allow you to use newlines in strings without the \\n escape character\n",
    "\n"
   ]
  },
  {
   "cell_type": "code",
   "execution_count": 38,
   "id": "2de87a9f-d51b-421d-83bb-da77fef20c19",
   "metadata": {},
   "outputs": [
    {
     "name": "stdout",
     "output_type": "stream",
     "text": [
      "printing something in new line\n",
      "newline\n"
     ]
    }
   ],
   "source": [
    "#for e.g\n",
    "print(\"printing something in new line\")\n",
    "print(\"newline\")"
   ]
  },
  {
   "cell_type": "raw",
   "id": "113d84e9-f61c-4704-9f8a-e064bf036b4b",
   "metadata": {},
   "source": [
    "6. What are the values of the given expressions?\n",
    "'Hello, world!'[1]\n",
    "'Hello, world!'[0:5]\n",
    "'Hello, world!'[:5]\n",
    "'Hello, world!'[3:]"
   ]
  },
  {
   "cell_type": "code",
   "execution_count": 40,
   "id": "78c63c88-5bb2-4f45-bed6-f0d133be0285",
   "metadata": {},
   "outputs": [
    {
     "name": "stdout",
     "output_type": "stream",
     "text": [
      "e\n",
      "Hello\n",
      "Hello\n",
      "lo, world!\n"
     ]
    }
   ],
   "source": [
    "a='Hello, world!'[1]\n",
    "print(a)\n",
    "b='Hello, world!'[0:5]\n",
    "print(b)\n",
    "c='Hello, world!'[:5]\n",
    "print(c)\n",
    "d='Hello, world!'[3:]\n",
    "print(d)"
   ]
  },
  {
   "cell_type": "raw",
   "id": "c66587b0-07d8-4175-a99e-2cd8a9826e35",
   "metadata": {},
   "source": [
    "7. What are the values of the following expressions?\n",
    "'Hello'.upper()\n",
    "'Hello'.upper().isupper()\n",
    "'Hello'.upper().lower()"
   ]
  },
  {
   "cell_type": "code",
   "execution_count": 41,
   "id": "921bc396-2e9f-45a4-b39d-268868f0111e",
   "metadata": {},
   "outputs": [
    {
     "name": "stdout",
     "output_type": "stream",
     "text": [
      "HELLO\n",
      "True\n",
      "hello\n"
     ]
    }
   ],
   "source": [
    "x='Hello'.upper()\n",
    "print(x)\n",
    "y='Hello'.upper().isupper()\n",
    "print(y)\n",
    "z='Hello'.upper().lower()\n",
    "print(z)"
   ]
  },
  {
   "cell_type": "raw",
   "id": "540d09ff-619f-4a89-950a-0492ae5fc553",
   "metadata": {},
   "source": [
    "8. What are the values of the following expressions?\n",
    "Remember, remember, the fifth of July.'.split()\n",
    "'-'.join('There can only one.'.split())"
   ]
  },
  {
   "cell_type": "code",
   "execution_count": 48,
   "id": "42cfcede-df5b-4e15-8c01-f6abbf3dd27d",
   "metadata": {},
   "outputs": [
    {
     "name": "stdout",
     "output_type": "stream",
     "text": [
      "['Remember,', 'remember,', 'the', 'fifth', 'of', 'July.']\n",
      "There-can-only-one.\n"
     ]
    }
   ],
   "source": [
    "M =\"Remember, remember, the fifth of July.\".split()\n",
    "print(M)\n",
    "T='-'.join('There can only one.'.split())\n",
    "print(T)"
   ]
  },
  {
   "cell_type": "raw",
   "id": "265adf6f-ad0d-4600-b429-ac68b54ac45a",
   "metadata": {},
   "source": [
    "9. What are the methods for right-justifying, left-justifying, and centering a string?"
   ]
  },
  {
   "cell_type": "code",
   "execution_count": 49,
   "id": "9252e031-60eb-4f30-a7a8-28775f5ee665",
   "metadata": {},
   "outputs": [
    {
     "data": {
      "text/plain": [
       "'Shiva-----'"
      ]
     },
     "execution_count": 49,
     "metadata": {},
     "output_type": "execute_result"
    }
   ],
   "source": [
    "# left justified\n",
    "str =\"Shiva\"\n",
    "str.ljust(10,\"-\")"
   ]
  },
  {
   "cell_type": "code",
   "execution_count": 50,
   "id": "734e92ab-c248-4a3b-ac5e-bb9d3d000898",
   "metadata": {},
   "outputs": [
    {
     "data": {
      "text/plain": [
       "'******************************My name is'"
      ]
     },
     "execution_count": 50,
     "metadata": {},
     "output_type": "execute_result"
    }
   ],
   "source": [
    "# right justified\n",
    "str =\"My name is\"\n",
    "str.rjust(40,'*')"
   ]
  },
  {
   "cell_type": "code",
   "execution_count": 51,
   "id": "6d6ac93f-af10-4fbc-95ed-34ad6c11b9f9",
   "metadata": {},
   "outputs": [
    {
     "data": {
      "text/plain": [
       "'***************My name is***************'"
      ]
     },
     "execution_count": 51,
     "metadata": {},
     "output_type": "execute_result"
    }
   ],
   "source": [
    "# center justified\n",
    "str =\"My name is\"\n",
    "str.center(40,'*')\n",
    "     "
   ]
  },
  {
   "cell_type": "raw",
   "id": "422201ba-92e3-4e19-ab6a-aa4d0e2c34c5",
   "metadata": {},
   "source": [
    "10. What is the best way to remove whitespace characters from the start or end?\n",
    "\n",
    "Ans: The lstrip() and rstrip() methods remove whitespace from the left and right ends of a string, respectively."
   ]
  },
  {
   "cell_type": "code",
   "execution_count": 52,
   "id": "9776ad55-09e7-473b-b247-19d5ab4bf95c",
   "metadata": {},
   "outputs": [
    {
     "data": {
      "text/plain": [
       "'gfgfgfgfgfgfgf yuyuyuuyuy  '"
      ]
     },
     "execution_count": 52,
     "metadata": {},
     "output_type": "execute_result"
    }
   ],
   "source": [
    "str =\"  gfgfgfgfgfgfgf yuyuyuuyuy  \"\n",
    "str.lstrip()\n",
    "     "
   ]
  },
  {
   "cell_type": "code",
   "execution_count": 53,
   "id": "f180a78c-3bec-4bc9-96ff-e0b3975bdfb1",
   "metadata": {},
   "outputs": [
    {
     "data": {
      "text/plain": [
       "'  yytytytyyt mmamamam'"
      ]
     },
     "execution_count": 53,
     "metadata": {},
     "output_type": "execute_result"
    }
   ],
   "source": [
    "str =\"  yytytytyyt mmamamam  \"\n",
    "str.rstrip()\n",
    "     "
   ]
  }
 ],
 "metadata": {
  "kernelspec": {
   "display_name": "Python 3 (ipykernel)",
   "language": "python",
   "name": "python3"
  },
  "language_info": {
   "codemirror_mode": {
    "name": "ipython",
    "version": 3
   },
   "file_extension": ".py",
   "mimetype": "text/x-python",
   "name": "python",
   "nbconvert_exporter": "python",
   "pygments_lexer": "ipython3",
   "version": "3.10.6"
  }
 },
 "nbformat": 4,
 "nbformat_minor": 5
}
