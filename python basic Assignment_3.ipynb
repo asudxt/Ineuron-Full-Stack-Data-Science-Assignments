{
 "cells": [
  {
   "cell_type": "raw",
   "id": "82319c49-8f95-4116-be41-7b237cdba9f6",
   "metadata": {},
   "source": [
    "1. Why are functions advantageous to have in your programs?\n",
    "\n",
    "ANS:  Function are advantageous in our programs because:\n",
    ">     Reducing duplication of code.\n",
    ">     Makes complex problems into simpler pieces.\n",
    ">     Improving clarity of the code.\n",
    ">     Reuse of code.\n",
    ">     Information hiding.\n"
   ]
  },
  {
   "cell_type": "raw",
   "id": "64af47ae-df2c-4fc3-987a-584e7994bb4e",
   "metadata": {},
   "source": [
    "2. When does the code in a function run: when its specified or when its called?\n",
    "\n",
    "ANS:  The code in a function run when the function is called, not when the function is defined or specified\n"
   ]
  },
  {
   "cell_type": "raw",
   "id": "f2232d3e-acbd-4dfc-9103-c2b0fc267c4e",
   "metadata": {},
   "source": [
    "3. What statement creates a function?\n",
    "\n",
    "ANS:  The def keyword should  create a function, then write the function identifier (name) followed by parentheses and a colon\n",
    "      e.g: def test():"
   ]
  },
  {
   "cell_type": "raw",
   "id": "30883f67-ba04-4572-87c0-1f353b643f4d",
   "metadata": {},
   "source": [
    "4. What is the difference between a function and a function call?\n",
    "\n",
    "#def of func\n",
    "def my_func(): \n",
    "    pass \n",
    "\n",
    "my_func() #calling of function\n",
    "\n",
    "A function consists of the def statement and the code in its def clause.\n",
    "\n",
    "A function call is what moves the program execution into the function, and the function call evaluates to the function's return value.\n"
   ]
  },
  {
   "cell_type": "raw",
   "id": "692978e6-ced3-4cd7-b76a-330d9cd478fb",
   "metadata": {},
   "source": [
    "5. How many global scopes are there in a Python program? How many local scopes?\n",
    "\n",
    "ANS:  There's only one global Python scope per program execution. This scope remains in existence until the program terminates , and a local scope is created           whenever a function is called"
   ]
  },
  {
   "cell_type": "raw",
   "id": "bf26172f-a44f-4e0b-a440-0a1eb5c82e32",
   "metadata": {},
   "source": [
    "6. What happens to variables in a local scope when the function call returns?\n",
    "\n",
    "ANS: When a function returns, the local scope is destroyed. And all the variable in it get destroyed. "
   ]
  },
  {
   "cell_type": "raw",
   "id": "87535582-0fb6-4e6f-b8f0-2c2226f88295",
   "metadata": {},
   "source": [
    "7. What is the concept of a return value? Is it possible to have a return value in an expression?\n",
    "\n",
    "ANS: A return value is the value that a function call evaluates to. Like any value, a return value can be used as part of an expression. \n"
   ]
  },
  {
   "cell_type": "code",
   "execution_count": 76,
   "id": "1291c529-9cae-4baf-b4f4-24ae69574a0e",
   "metadata": {},
   "outputs": [],
   "source": [
    "# e.g\n",
    "\n",
    "def test(x, y):\n",
    "    i=x*y\n",
    "    return i"
   ]
  },
  {
   "cell_type": "code",
   "execution_count": 78,
   "id": "53e633ad-6a74-49fb-8fb2-0527c32dede8",
   "metadata": {},
   "outputs": [
    {
     "data": {
      "text/plain": [
       "200"
      ]
     },
     "execution_count": 78,
     "metadata": {},
     "output_type": "execute_result"
    }
   ],
   "source": [
    "test(20,10)"
   ]
  },
  {
   "cell_type": "raw",
   "id": "a4354f05-6164-4b85-9e8c-a11902c0baf5",
   "metadata": {},
   "source": [
    "8. If a function does not have a return statement, what is the return value of a call to that function?\n",
    "\n",
    "ANS: If function does not have return statement then it would we return value as 'NONE' because every function in python return some thing\n"
   ]
  },
  {
   "cell_type": "code",
   "execution_count": 95,
   "id": "43a4ab5d-1e7c-4fb5-85e0-7ac097696a52",
   "metadata": {},
   "outputs": [],
   "source": [
    "def test(x, y):\n",
    "    i=x*y\n",
    "    print(i)"
   ]
  },
  {
   "cell_type": "code",
   "execution_count": 96,
   "id": "23d13324-6f4b-47da-9c8b-ba8d831ec61a",
   "metadata": {},
   "outputs": [
    {
     "name": "stdout",
     "output_type": "stream",
     "text": [
      "200\n",
      "None\n"
     ]
    }
   ],
   "source": [
    "print(test(20,10))"
   ]
  },
  {
   "cell_type": "code",
   "execution_count": 12,
   "id": "866ed33e-b1eb-4404-9fc5-7ae533fa6317",
   "metadata": {},
   "outputs": [
    {
     "name": "stdout",
     "output_type": "stream",
     "text": [
      "Output of adding(16, 25) function is 41\n"
     ]
    }
   ],
   "source": [
    "def adding(x, y):  \n",
    "    i = x + y  \n",
    "    return i  \n",
    "result = adding(16, 25)  \n",
    "print(f'Output of adding(16, 25) function is {result}')  \n"
   ]
  },
  {
   "cell_type": "code",
   "execution_count": 27,
   "id": "1fde9ea6-29d7-4790-8c20-00ed637d71cf",
   "metadata": {},
   "outputs": [],
   "source": [
    "def inner(a, b):\n",
    "        print(\"I am going to divide\", a, \"and\", b)\n",
    "        if b == 0:\n",
    "            print(\"Whoops! cannot divide\")\n",
    "            return"
   ]
  },
  {
   "cell_type": "code",
   "execution_count": 34,
   "id": "b34627f2-1754-481d-b354-0c2008a2b0a0",
   "metadata": {},
   "outputs": [
    {
     "name": "stdout",
     "output_type": "stream",
     "text": [
      "I am going to divide 4 and 0\n",
      "Whoops! cannot divide\n",
      "None\n"
     ]
    }
   ],
   "source": [
    "print(inner(4,0))"
   ]
  },
  {
   "cell_type": "code",
   "execution_count": 25,
   "id": "75a1043c-e21c-471b-9116-09ef3cf2585a",
   "metadata": {},
   "outputs": [],
   "source": [
    "def inner(a, b):\n",
    "    print(\"I am going to divide\", a, \"and\", b)\n",
    "    if b == 0:\n",
    "        print(\"Whoops! cannot divide\")\n",
    "        return"
   ]
  },
  {
   "cell_type": "code",
   "execution_count": 26,
   "id": "7609e31f-1ee1-4187-b4f6-124736f2711c",
   "metadata": {},
   "outputs": [
    {
     "name": "stdout",
     "output_type": "stream",
     "text": [
      "I am going to divide 2 and 0\n",
      "Whoops! cannot divide\n"
     ]
    }
   ],
   "source": [
    "inner(2,0)"
   ]
  },
  {
   "cell_type": "code",
   "execution_count": 53,
   "id": "cfa42902-46bb-4073-bc19-cb1d80da30a7",
   "metadata": {},
   "outputs": [],
   "source": [
    "def inner(a, b):\n",
    "    i=a/b\n",
    "    return i"
   ]
  },
  {
   "cell_type": "code",
   "execution_count": 54,
   "id": "328b4a29-3189-45ae-954c-64276ea85d14",
   "metadata": {},
   "outputs": [
    {
     "data": {
      "text/plain": [
       "1.0"
      ]
     },
     "execution_count": 54,
     "metadata": {},
     "output_type": "execute_result"
    }
   ],
   "source": [
    "inner(2,2)"
   ]
  },
  {
   "cell_type": "raw",
   "id": "768919bc-9ad8-4a09-9fb0-4ff97ea8ce89",
   "metadata": {},
   "source": [
    "9. How do you make a function variable refer to the global variable?\n",
    "\n",
    "ANS: If we want to refer to a global variable in a function, we can use the global keyword to declare which variables are global."
   ]
  },
  {
   "cell_type": "raw",
   "id": "2ab2da6e-ef4d-4ac2-9901-fe24224bd01f",
   "metadata": {},
   "source": [
    "10. What is the data type of None?\n",
    "\n",
    "ANS: The data type of None is NoneType \n"
   ]
  },
  {
   "cell_type": "raw",
   "id": "b26098e1-45d2-4ca9-81d6-c07b27127cad",
   "metadata": {},
   "source": [
    "11. What does the sentence import areallyourpetsnamederic do?\n",
    "\n",
    "Ans .That import statement imports a module named areallyourpetsnamederic. (But a module of this name doesnt exists in Python)"
   ]
  },
  {
   "cell_type": "code",
   "execution_count": 97,
   "id": "41df3881-91c8-453b-80bc-e3461982d0ec",
   "metadata": {},
   "outputs": [
    {
     "ename": "ModuleNotFoundError",
     "evalue": "No module named 'areallyourpetsnamederic'",
     "output_type": "error",
     "traceback": [
      "\u001b[0;31m---------------------------------------------------------------------------\u001b[0m",
      "\u001b[0;31mModuleNotFoundError\u001b[0m                       Traceback (most recent call last)",
      "Cell \u001b[0;32mIn [97], line 1\u001b[0m\n\u001b[0;32m----> 1\u001b[0m \u001b[38;5;28;01mimport\u001b[39;00m \u001b[38;5;21;01mareallyourpetsnamederic\u001b[39;00m\n",
      "\u001b[0;31mModuleNotFoundError\u001b[0m: No module named 'areallyourpetsnamederic'"
     ]
    }
   ],
   "source": [
    "import areallyourpetsnamederic"
   ]
  },
  {
   "cell_type": "raw",
   "id": "cb275783-5415-4e19-919d-0f6602a425b0",
   "metadata": {},
   "source": [
    "12. If you had a bacon() feature in a spam module, what would you call it after importing spam?\n",
    "\n",
    "ANS: This function can be called with spam.bacon()."
   ]
  },
  {
   "cell_type": "raw",
   "id": "a7f8ae73-2e37-4cde-b663-dff83e173319",
   "metadata": {},
   "source": [
    "13. What can you do to save a programme from crashing if it encounters an error?\n",
    "\n",
    "ANS: We can use try except clause to save a program from crashing.\n"
   ]
  },
  {
   "cell_type": "raw",
   "id": "57233801-3553-4880-8085-bb3bd0adc88d",
   "metadata": {},
   "source": [
    "14. What is the purpose of the try clause? What is the purpose of the except clause?\n",
    "\n",
    "ANS: Ans. Try and Except clause is used to handle the errors within our code . The try block is used to check some code for errors i.e the code inside the try block will execute when there is no error in the program. Whereas the code inside the except block will execute whenever the program encounters some error in the try block.\n",
    "\n",
    "Eg. try:\n",
    "# Code\n",
    "except:\n",
    "# Executed if error in the\n",
    "# try block"
   ]
  }
 ],
 "metadata": {
  "kernelspec": {
   "display_name": "Python 3 (ipykernel)",
   "language": "python",
   "name": "python3"
  },
  "language_info": {
   "codemirror_mode": {
    "name": "ipython",
    "version": 3
   },
   "file_extension": ".py",
   "mimetype": "text/x-python",
   "name": "python",
   "nbconvert_exporter": "python",
   "pygments_lexer": "ipython3",
   "version": "3.10.6"
  }
 },
 "nbformat": 4,
 "nbformat_minor": 5
}
