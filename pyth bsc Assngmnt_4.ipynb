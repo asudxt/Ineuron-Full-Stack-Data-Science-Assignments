{
 "cells": [
  {
   "cell_type": "raw",
   "id": "ab271b17-ee6c-42d7-b3a7-e5f45bd79089",
   "metadata": {},
   "source": [
    "1. What exactly is []?\n",
    "\n",
    "ANS: The empty list value, which is a list value that contains no items. This is similar to how '' is the empty string value.\n",
    "     \n",
    "     list = [] #empty list "
   ]
  },
  {
   "cell_type": "raw",
   "id": "02ed293c-89d5-4169-b3b9-3e8d6524eb4c",
   "metadata": {},
   "source": [
    "2. In a list of values stored in a variable called spam, how would you assign the value 'hello' as the\n",
    "third value? (Assume [2, 4, 6, 8, 10] are in spam.)\n",
    "\n",
    "ANS: spam[2] = 'hello' (Notice that the third value in a list is at index 2 because the first index is 0.)"
   ]
  },
  {
   "cell_type": "code",
   "execution_count": 8,
   "id": "c22cfce6-f294-47ac-a9a2-18bb87c960a4",
   "metadata": {},
   "outputs": [
    {
     "data": {
      "text/plain": [
       "(2, 4, 'hello')"
      ]
     },
     "execution_count": 8,
     "metadata": {},
     "output_type": "execute_result"
    }
   ],
   "source": [
    "# e.g\n",
    "spam=[2,4,'hello',8,10]\n",
    "spam[0],spam[1],spam[2],"
   ]
  },
  {
   "cell_type": "raw",
   "id": "2810cf40-eda7-4787-84b8-77cbc92a75f3",
   "metadata": {},
   "source": [
    "3. What is the value of spam[int(int('3'* 2) / 11)]?"
   ]
  },
  {
   "cell_type": "code",
   "execution_count": 2,
   "id": "3dee023e-c857-4196-8708-51c8d33d2dd1",
   "metadata": {},
   "outputs": [
    {
     "name": "stdout",
     "output_type": "stream",
     "text": [
      "[3]\n"
     ]
    }
   ],
   "source": [
    "#the value is 3, e.g\n",
    "\n",
    "spam = [int(int('3'* 2) / 11)]\n",
    "print(spam)"
   ]
  },
  {
   "cell_type": "raw",
   "id": "c09a84c2-39d1-48b5-bdf1-192408222be7",
   "metadata": {},
   "source": [
    "4. What is the value of spam[-1]?\n",
    "\n",
    "Ans: Negative indexes count from the end."
   ]
  },
  {
   "cell_type": "code",
   "execution_count": 5,
   "id": "deba441f-523f-4608-a149-03b4f6bca949",
   "metadata": {},
   "outputs": [
    {
     "data": {
      "text/plain": [
       "6"
      ]
     },
     "execution_count": 5,
     "metadata": {},
     "output_type": "execute_result"
    }
   ],
   "source": [
    "#E.g\n",
    "spam=[1,5,8,9,7,4,6]\n",
    "spam[-1]"
   ]
  },
  {
   "cell_type": "raw",
   "id": "a2ba8601-f975-4287-9948-5c6460f358d4",
   "metadata": {},
   "source": [
    "5. What is the value of spam[:2]?\n",
    "Let's pretend bacon has the list [3.14,'cat,'11,'cat,' 'True] for the next three questions."
   ]
  },
  {
   "cell_type": "code",
   "execution_count": 34,
   "id": "b41c2648-24db-4ea3-a1fa-9880e11e6b19",
   "metadata": {},
   "outputs": [
    {
     "data": {
      "text/plain": [
       "[3.14, 'cat']"
      ]
     },
     "execution_count": 34,
     "metadata": {},
     "output_type": "execute_result"
    }
   ],
   "source": [
    "bacon = [3.14,'cat',11,'cat',True]\n",
    "spam[:2]        "
   ]
  },
  {
   "cell_type": "raw",
   "id": "8fec4493-40bb-4142-95d8-90fa8272880a",
   "metadata": {},
   "source": [
    "6. What is the value of bacon.index('cat')?"
   ]
  },
  {
   "cell_type": "code",
   "execution_count": 31,
   "id": "1267469b-26dd-4613-85f8-5758da78bc74",
   "metadata": {},
   "outputs": [
    {
     "data": {
      "text/plain": [
       "1"
      ]
     },
     "execution_count": 31,
     "metadata": {},
     "output_type": "execute_result"
    }
   ],
   "source": [
    "bacon.index('cat')"
   ]
  },
  {
   "cell_type": "raw",
   "id": "c12dbb69-0545-4f35-a2e2-5eba984925b7",
   "metadata": {},
   "source": [
    "7. How does bacon.append(99) change the look of the list value in bacon?"
   ]
  },
  {
   "cell_type": "code",
   "execution_count": 48,
   "id": "693b4900-27fa-4f2a-8bb2-a8c862839164",
   "metadata": {},
   "outputs": [],
   "source": [
    "bacon = [3.14,'cat',11,'cat',True]"
   ]
  },
  {
   "cell_type": "code",
   "execution_count": 49,
   "id": "9369b6e4-faa8-4476-8aec-53ffc52c6549",
   "metadata": {},
   "outputs": [],
   "source": [
    "bacon.append(99)"
   ]
  },
  {
   "cell_type": "code",
   "execution_count": 51,
   "id": "8b9ca40f-44f9-4189-883c-d78c8446a5a7",
   "metadata": {},
   "outputs": [
    {
     "name": "stdout",
     "output_type": "stream",
     "text": [
      "[3.14, 'cat', 11, 'cat', True, 99]\n"
     ]
    }
   ],
   "source": [
    "print(bacon)"
   ]
  },
  {
   "cell_type": "raw",
   "id": "78e43257-bf97-4672-86d8-8facdb540f84",
   "metadata": {},
   "source": [
    "8. How does bacon.remove('cat') change the look of the list in bacon?"
   ]
  },
  {
   "cell_type": "code",
   "execution_count": 40,
   "id": "c3423511-2f10-4796-8306-4022cf52f19d",
   "metadata": {},
   "outputs": [
    {
     "name": "stdout",
     "output_type": "stream",
     "text": [
      "[3.14, 11, 'cat', True]\n"
     ]
    }
   ],
   "source": [
    "bacon = [3.14,'cat',11,'cat',True]\n",
    "bacon.remove('cat')\n",
    "print(bacon)"
   ]
  },
  {
   "cell_type": "raw",
   "id": "d8c85844-85cf-4255-944d-3bbf6ed21eed",
   "metadata": {},
   "source": [
    "9. What are the list concatenation and list replication operators?\n",
    "\n",
    "Ans: The operator for list concatenation is +, while the operator for replication is *. (This is the same as for strings.)"
   ]
  },
  {
   "cell_type": "code",
   "execution_count": 46,
   "id": "1c48d7c3-434e-43e8-8d59-dae353b78a66",
   "metadata": {},
   "outputs": [
    {
     "name": "stdout",
     "output_type": "stream",
     "text": [
      "[1, 2, 3, 4, 5, 6]\n",
      "[1, 2, 3, 1, 2, 3, 1, 2, 3]\n"
     ]
    }
   ],
   "source": [
    "#for e.g\n",
    "a=[1,2,3]\n",
    "b=[4,5,6]\n",
    "c=a+b     # this is concatenation \n",
    "print(c)\n",
    "\n",
    "d=a*3    # this is replication\n",
    "print(d)\n"
   ]
  },
  {
   "cell_type": "raw",
   "id": "fe3e4765-ead0-495b-b23e-f8319827c6e4",
   "metadata": {},
   "source": [
    "10. What is difference between the list methods append() and insert()?\n",
    "\n",
    "Ans: While append() will add values only to the end of a list, insert() can add them anywhere in the list."
   ]
  },
  {
   "cell_type": "code",
   "execution_count": 61,
   "id": "119e2e57-68c9-41fb-b4f2-83a7de67bf1c",
   "metadata": {},
   "outputs": [
    {
     "name": "stdout",
     "output_type": "stream",
     "text": [
      "[3.14, 'cat', 2.5, 11, 'cat', True, 88]\n"
     ]
    }
   ],
   "source": [
    "bacon = [3.14,'cat',11,'cat',True]\n",
    "bacon.append(88)\n",
    "bacon.insert(2,2.5)\n",
    "print(bacon)"
   ]
  },
  {
   "cell_type": "raw",
   "id": "99a4e9a8-a9f8-4322-81e9-873053a2836b",
   "metadata": {},
   "source": [
    "11. What are the two methods for removing items from a list?\n",
    "\n",
    "ANS: The del statement and the remove() list method are two ways to remove values from a list."
   ]
  },
  {
   "cell_type": "code",
   "execution_count": 67,
   "id": "a80962c9-614c-4345-a4f8-8ba27a56127d",
   "metadata": {},
   "outputs": [
    {
     "name": "stdout",
     "output_type": "stream",
     "text": [
      "['cat', 'cat', True]\n"
     ]
    }
   ],
   "source": [
    "bacon = [3.14,'cat',11,'cat',True]\n",
    "bacon.remove(11)\n",
    "del bacon[0]\n",
    "print(bacon)"
   ]
  },
  {
   "cell_type": "raw",
   "id": "72a13164-57b8-42be-bbae-5975c5616c2f",
   "metadata": {},
   "source": [
    "12. Describe how list values and string values are identical.\n",
    "\n",
    "ANS: Both lists and strings can be passed to len(), have indexes and slices, be used in for loops, be concatenated or replicated, and be used with the in and not in operators."
   ]
  },
  {
   "cell_type": "raw",
   "id": "6c65e026-8815-48b8-bc8d-e578e1195e8e",
   "metadata": {},
   "source": [
    "13. What's the difference between tuples and lists?\n",
    "\n",
    "ANS: Lists are mutable; they can have values added, removed, or changed. Tuples are immutable; they cannot be changed at all. Also, tuples are written using parentheses, ( and ), while lists use the square brackets, [ and ]."
   ]
  },
  {
   "cell_type": "raw",
   "id": "c24e10ec-43d7-4308-ac8e-e2dda4bfa5ba",
   "metadata": {},
   "source": [
    "14. How do you type a tuple value that only contains the integer 42?\n",
    "\n",
    "ANS: (42,) (The trailing comma is mandatory.)\n",
    "\n",
    "y = (42,)        # a tuple containing an integer\n",
    "print y"
   ]
  },
  {
   "cell_type": "raw",
   "id": "d0b333f8-b2a5-4fd8-b47d-37da8e8e32a4",
   "metadata": {},
   "source": [
    "15. How do you get a list value's tuple form? How do you get a tuple value's list form?\n",
    "\n",
    "ANS: If we want to convert a Python list to a tuple,we can use the tuple() function to pass the full list as an argument, and it will return the tuple data type as an output, And vice versa.\n"
   ]
  },
  {
   "cell_type": "code",
   "execution_count": 13,
   "id": "c7f20b3e-f3f5-4a33-9d14-3c64433d2f55",
   "metadata": {},
   "outputs": [
    {
     "name": "stdout",
     "output_type": "stream",
     "text": [
      "(3.14, 'cat', 11, 'cat', True)\n",
      "<class 'tuple'>\n",
      "list[3.14, 'cat', 11, 'cat', True]\n",
      "<class 'tuple'>\n"
     ]
    }
   ],
   "source": [
    "# for e.g\n",
    "\n",
    "bacon= [3.14,'cat',11,'cat',True]\n",
    "a= tuple(bacon)\n",
    "print(a)          # A list value's tuple form\n",
    "print(type(a))\n",
    "\n",
    "con= (3.14,'cat',11,'cat',True)\n",
    "b= list[con]\n",
    "print(b)         # A tuple value's list form \n",
    "print(type(a))"
   ]
  },
  {
   "cell_type": "raw",
   "id": "de5455dd-9397-4459-9de4-4c0153e5fc3a",
   "metadata": {},
   "source": [
    "16. Variables that \"contain\" list values are not necessarily lists themselves. Instead, what do they contain?\n",
    "\n",
    "Ans: Variables will contain references to list values rather than list values themselves."
   ]
  },
  {
   "cell_type": "raw",
   "id": "7b58fb7b-fb83-4fb8-a143-9938a70752c3",
   "metadata": {},
   "source": [
    "17. How do you distinguish between copy.copy() and copy.deepcopy()?\n",
    "\n",
    "Ans: The copy.copy() function will do a shallow copy of a list, while the copy.deepcopy() function will do a deep copy of a list. That is, only copy.deepcopy() will duplicate any          lists inside the list."
   ]
  }
 ],
 "metadata": {
  "kernelspec": {
   "display_name": "Python 3 (ipykernel)",
   "language": "python",
   "name": "python3"
  },
  "language_info": {
   "codemirror_mode": {
    "name": "ipython",
    "version": 3
   },
   "file_extension": ".py",
   "mimetype": "text/x-python",
   "name": "python",
   "nbconvert_exporter": "python",
   "pygments_lexer": "ipython3",
   "version": "3.10.6"
  }
 },
 "nbformat": 4,
 "nbformat_minor": 5
}
