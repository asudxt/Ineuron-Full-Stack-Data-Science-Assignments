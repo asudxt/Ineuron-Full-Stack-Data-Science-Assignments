{
 "cells": [
  {
   "cell_type": "markdown",
   "id": "29a2a118-87f7-4086-9717-012f6573c29d",
   "metadata": {},
   "source": [
    "1. Write a Python program to convert kilometers to miles?"
   ]
  },
  {
   "cell_type": "code",
   "execution_count": 21,
   "id": "5743a0fb-50ce-4adf-8df3-1d0bb2986927",
   "metadata": {},
   "outputs": [
    {
     "name": "stdin",
     "output_type": "stream",
     "text": [
      "enter the value in km: 5\n"
     ]
    },
    {
     "name": "stdout",
     "output_type": "stream",
     "text": [
      "since five kilometer: 3.106855 miles\n"
     ]
    }
   ],
   "source": [
    "kilometer = int(input(\"enter the value in km:\"))\n",
    "conv_fac = 0.621371 #Since 1 kilometer is equal to 0.621371 miles\n",
    "miles = kilometer*conv_fac\n",
    "print(f\"since five kilometer: {miles} miles\")\n",
    "      \n",
    "      "
   ]
  },
  {
   "cell_type": "markdown",
   "id": "68558303-d9a2-488f-bef6-82ffce4df43a",
   "metadata": {},
   "source": [
    "2. Write a Python program to convert Celsius to Fahrenheit?"
   ]
  },
  {
   "cell_type": "code",
   "execution_count": 26,
   "id": "3ac81c9c-5f6c-4e62-a8d9-9a8383b4c88b",
   "metadata": {},
   "outputs": [
    {
     "name": "stdin",
     "output_type": "stream",
     "text": [
      "enter the value in celsius: 35\n"
     ]
    },
    {
     "name": "stdout",
     "output_type": "stream",
     "text": [
      "since 35 celsius: 95.0 fahrenheit\n"
     ]
    }
   ],
   "source": [
    "celsius = int(input(\"enter the value in celsius:\"))\n",
    "fahrenheit = celsius*1.8+32\n",
    "print(f\"since {celsius} celsius: {fahrenheit} fahrenheit\")"
   ]
  },
  {
   "cell_type": "markdown",
   "id": "8e82133e-2254-4a44-b639-ba082796961b",
   "metadata": {},
   "source": [
    "3. Write a Python program to display calendar?"
   ]
  },
  {
   "cell_type": "code",
   "execution_count": 33,
   "id": "aa94348e-e7b0-4d7e-9f2b-7ae0b2054c14",
   "metadata": {},
   "outputs": [
    {
     "name": "stdin",
     "output_type": "stream",
     "text": [
      "Enter year:  2023\n",
      "Enter month(1-12) :  4\n"
     ]
    },
    {
     "name": "stdout",
     "output_type": "stream",
     "text": [
      "     April 2023\n",
      "Mo Tu We Th Fr Sa Su\n",
      "                1  2\n",
      " 3  4  5  6  7  8  9\n",
      "10 11 12 13 14 15 16\n",
      "17 18 19 20 21 22 23\n",
      "24 25 26 27 28 29 30\n",
      "\n"
     ]
    }
   ],
   "source": [
    "import calendar\n",
    "\n",
    "year = int(input(\"Enter year: \"))\n",
    "\n",
    "month = int(input(\"Enter month(1-12) : \"))\n",
    "\n",
    "\n",
    "print(calendar.month(year, month))"
   ]
  },
  {
   "cell_type": "markdown",
   "id": "6e2ae1b2-f106-44c8-b86c-212e75aa5ab4",
   "metadata": {},
   "source": [
    "4. Write a Python program to solve quadratic equation?"
   ]
  },
  {
   "cell_type": "code",
   "execution_count": 37,
   "id": "f7d3676d-f1e2-48cd-a987-2969dacab44c",
   "metadata": {},
   "outputs": [
    {
     "name": "stdin",
     "output_type": "stream",
     "text": [
      "Enter the value of coefficient a:  5\n",
      "Enter the value of coefficient b:  6\n",
      "Enter the value of coefficient c:  7\n"
     ]
    },
    {
     "name": "stdout",
     "output_type": "stream",
     "text": [
      "The solutions are (-0.6-1.0198039027185568j) and (-0.6+1.0198039027185568j)\n"
     ]
    }
   ],
   "source": [
    "import cmath\n",
    "\n",
    "a = float(input(\"Enter the value of coefficient a: \"))\n",
    "b = float(input(\"Enter the value of coefficient b: \"))\n",
    "c = float(input(\"Enter the value of coefficient c: \"))\n",
    "\n",
    "# calculate the discriminant\n",
    "d = (b**2) - (4*a*c)\n",
    "\n",
    "# find two solutions\n",
    "sol1 = (-b - cmath.sqrt(d)) / (2*a)\n",
    "sol2 = (-b + cmath.sqrt(d)) / (2*a)\n",
    "\n",
    "print('The solutions are {0} and {1}'.format(sol1,sol2))"
   ]
  },
  {
   "cell_type": "markdown",
   "id": "67bcafe9-9d87-4a30-baad-9249cc38ca34",
   "metadata": {},
   "source": [
    "5. Write a Python program to swap two variables without temp variable?"
   ]
  },
  {
   "cell_type": "code",
   "execution_count": 38,
   "id": "3d684b08-5b15-42b2-b6a3-bcb022ed68ea",
   "metadata": {},
   "outputs": [
    {
     "name": "stdin",
     "output_type": "stream",
     "text": [
      "Enter first number:  5\n",
      "Enter second number:  9\n"
     ]
    },
    {
     "name": "stdout",
     "output_type": "stream",
     "text": [
      "Before swapping - a: 5 b: 9\n",
      "After swapping  - a: 9 b: 5\n"
     ]
    }
   ],
   "source": [
    "a = int(input(\"Enter first number: \"))\n",
    "b = int(input(\"Enter second number: \"))\n",
    "\n",
    "print(\"Before swapping - a:\", a, \"b:\", b)\n",
    "\n",
    "# swap the variable\n",
    "a, b = b, a\n",
    "\n",
    "# after swapping\n",
    "print(\"After swapping  - a:\", a, \"b:\", b)"
   ]
  }
 ],
 "metadata": {
  "kernelspec": {
   "display_name": "Python 3 (ipykernel)",
   "language": "python",
   "name": "python3"
  },
  "language_info": {
   "codemirror_mode": {
    "name": "ipython",
    "version": 3
   },
   "file_extension": ".py",
   "mimetype": "text/x-python",
   "name": "python",
   "nbconvert_exporter": "python",
   "pygments_lexer": "ipython3",
   "version": "3.10.6"
  }
 },
 "nbformat": 4,
 "nbformat_minor": 5
}
