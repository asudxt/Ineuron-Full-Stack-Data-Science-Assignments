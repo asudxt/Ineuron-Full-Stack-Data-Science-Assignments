{
 "cells": [
  {
   "cell_type": "markdown",
   "id": "6cc58204-d3ef-4395-b348-4923a3c1a131",
   "metadata": {},
   "source": [
    "1. What is the relationship between def statements and lambda expressions ?"
   ]
  },
  {
   "cell_type": "markdown",
   "id": "328eb107-c67f-418a-9fd4-9052de6bab3c",
   "metadata": {},
   "source": [
    "Ans. Keyword def that marks the start of the function header. A function name to uniquely identify the function.\n",
    "Function naming follows the same rules of writing identifiers in Python\n",
    "\n",
    "Lambdas are one-line methods without a name or we can say anonymous Func\n",
    "They work practically the same as any other method in Python Lambdas differ from normal Python methods because they can have only one expression, can't contain any statements and their return type is a function objec"
   ]
  },
  {
   "cell_type": "markdown",
   "id": "e6af5628-ce8d-4897-b429-87898ca6e3c0",
   "metadata": {},
   "source": [
    "2. What is the benefit of lambda?"
   ]
  },
  {
   "cell_type": "markdown",
   "id": "4b1dfe2f-5933-4351-b2b1-bc4bf5ff6ce8",
   "metadata": {},
   "source": [
    "Ans. Fewer Lines of Code\n",
    "Lambda functions are inline functions and thus execute comparatively faster Many times lambda functions make code much more readable by avoiding the logical jumps caused by function calls"
   ]
  },
  {
   "cell_type": "markdown",
   "id": "288e42ac-430a-4768-8e8c-8f709315de46",
   "metadata": {},
   "source": [
    "3. Compare and contrast map, filter, and reduce."
   ]
  },
  {
   "cell_type": "markdown",
   "id": "d7a7c30e-a90c-4d2c-b5b3-432b486d1526",
   "metadata": {},
   "source": [
    "Ans. map applies as a transformation to an element.\n",
    "The map() function iterates through all items in the given iterable and executes the function we passed as an argument on each of them. Syntax : map(function, iterable(s))\n",
    "\n",
    "filter accumulates only elements matching a condition.\n",
    "filter() forms a new list that contains only elements that satisfy a certain condition, i.e. the function we passed returns True Syntax : filter(function, iterable(s))\n",
    "\n",
    "reduce accumulates all elements to a single value, by using immutable values\n",
    "reduce() works by calling the function we passed for the first two items in the sequence. The result returned by the function is used in another call to function alongside with the next (third in this case), element Syntax : reduce(function, sequence[, initial])"
   ]
  },
  {
   "cell_type": "code",
   "execution_count": 1,
   "id": "81c79e5d-0f1a-4f03-9141-7ff4fd2aefc0",
   "metadata": {},
   "outputs": [
    {
     "name": "stdout",
     "output_type": "stream",
     "text": [
      "True\n",
      "False\n",
      "False\n",
      "False\n",
      "False\n"
     ]
    }
   ],
   "source": [
    "### Map functions\n",
    "\n",
    "Animal = [\"Anteater\", \"Dog\", \"Elephant\", \"Giraffe\", \"Cat\"]\n",
    "map_object = map(lambda s: s[0] == \"A\", Animal)\n",
    "\n",
    "\n",
    "for i in map_object:\n",
    "    print(i)"
   ]
  },
  {
   "cell_type": "code",
   "execution_count": 2,
   "id": "7b8f677f-bc09-4465-b0ea-d1560a5ca4e4",
   "metadata": {},
   "outputs": [
    {
     "name": "stdout",
     "output_type": "stream",
     "text": [
      "Anteater\n"
     ]
    }
   ],
   "source": [
    "### Filter function\n",
    "\n",
    "Animal = [\"Anteater\", \"Dog\", \"Elephant\", \"Giraffe\", \"Cat\"]\n",
    "filter_object = filter(lambda s: s[0] == \"A\", Animal)\n",
    "\n",
    "for i in filter_object:\n",
    "    print(i)\n",
    "     "
   ]
  },
  {
   "cell_type": "code",
   "execution_count": 3,
   "id": "4573f593-4e28-41b4-9ccd-78de6029beaa",
   "metadata": {},
   "outputs": [
    {
     "name": "stdout",
     "output_type": "stream",
     "text": [
      "18\n",
      "With an initial value: 28\n"
     ]
    }
   ],
   "source": [
    "### Reduce function\n",
    "\n",
    "from functools import reduce\n",
    "\n",
    "list = [4, 3, 8, 3]\n",
    "print(reduce(lambda x, y: x + y, list))\n",
    "print(\"With an initial value: \" + str(reduce(lambda x, y: x + y, list, 10)))"
   ]
  },
  {
   "cell_type": "markdown",
   "id": "6691882e-bc82-4c65-8027-695b2772a294",
   "metadata": {},
   "source": [
    "4. What are function annotations, and how are they used?"
   ]
  },
  {
   "cell_type": "markdown",
   "id": "505574df-c8ac-42f3-9054-db817fb8a8a4",
   "metadata": {},
   "source": [
    "Function annotations are a feature in Python that allow developers to add metadata information to function arguments and return values. Annotations are optional and do not affect the function's behavior, but they can be used to convey additional information about the expected types or behavior of function arguments and return values.\n",
    "\n",
    "Function annotations are defined by adding a colon after the argument name followed by the annotation expression,The annotation expression can be any valid Python expression, but it is often a type, such as int or str, or a third-party library such as NumPy or Pandas."
   ]
  },
  {
   "cell_type": "code",
   "execution_count": null,
   "id": "0c1c7936-a619-42f2-87b4-0095f4a030c7",
   "metadata": {},
   "outputs": [],
   "source": [
    "Function annotations can be accessed using the __annotations__ attribute of the function.\n",
    "\n",
    ">>> def add_numbers(x: int, y: int) -> int:\n",
    "...     return x + y\n",
    "...\n",
    ">>> add_numbers.__annotations__\n",
    "{'x': <class 'int'>, 'y': <class 'int'>, 'return': <class 'int'>}"
   ]
  },
  {
   "cell_type": "markdown",
   "id": "ebe04657-46cc-47c3-a14f-125d9d880031",
   "metadata": {},
   "source": [
    "5. What are recursive functions, and how are they used?"
   ]
  },
  {
   "cell_type": "markdown",
   "id": "bdf32e8f-ccd6-46bd-8ef5-f3697f178ad2",
   "metadata": {},
   "source": [
    "Ans. A recursive function is a function that calls itself during its execution.\n",
    "This means that the function will continue to call itself and repeat its behavior until some condition is met to return a result"
   ]
  },
  {
   "cell_type": "code",
   "execution_count": 7,
   "id": "6b415c80-9657-4ecf-9046-ecaaf581ebc9",
   "metadata": {},
   "outputs": [
    {
     "data": {
      "text/plain": [
       "6"
      ]
     },
     "execution_count": 7,
     "metadata": {},
     "output_type": "execute_result"
    }
   ],
   "source": [
    "# eg\n",
    "\n",
    "def fact(x):\n",
    "    if x == 1 :\n",
    "        return 1\n",
    "    else :\n",
    "        return x * fact(x-1) # recurtion\n",
    "    \n",
    "fact(3)\n",
    "     "
   ]
  },
  {
   "cell_type": "markdown",
   "id": "2d5fb2a6-6852-43c7-a969-36e1f21c7919",
   "metadata": {},
   "source": [
    "6. What are some general design guidelines for coding functions?"
   ]
  },
  {
   "cell_type": "markdown",
   "id": "656b7a46-093a-42ef-a7f5-b262fa691878",
   "metadata": {},
   "source": [
    "> Use descriptive names for functions that accurately convey what the function does.\n",
    "\n",
    "> Keep functions small and modular, each performing a specific task.\n",
    "\n",
    "> Avoid using global variables within a function; use parameters and return values instead.\n",
    "\n",
    "> Use default parameter values when appropriate to provide more flexibility to callers.\n",
    "\n",
    "> Avoid side effects, i.e., modifying data outside the function's scope, whenever possible.\n",
    "\n",
    "> Use exception handling to catch and report errors instead of crashing the program.\n",
    "\n",
    "> Follow consistent naming conventions and style guidelines to make code more readable and maintainable.\n",
    "\n",
    "> Write clear and concise documentation, including the function's purpose, input parameters, output values, and any side       effects or exceptions."
   ]
  },
  {
   "cell_type": "raw",
   "id": "9efe7c6e-dd80-4bb4-995a-f4195c827379",
   "metadata": {},
   "source": [
    "7. Name three or more ways that functions can communicate results to a caller."
   ]
  },
  {
   "cell_type": "markdown",
   "id": "c060d9b2-d6c2-4e58-95b4-b2ede9403321",
   "metadata": {},
   "source": [
    "Ans.\n",
    "\n",
    "Function can return single value\n",
    "\n",
    "Can return multiple values, tuple\n",
    "\n",
    "can return list,dictionary\n",
    "\n",
    "can return function object\n",
    "\n",
    "can return class object"
   ]
  }
 ],
 "metadata": {
  "kernelspec": {
   "display_name": "Python 3 (ipykernel)",
   "language": "python",
   "name": "python3"
  },
  "language_info": {
   "codemirror_mode": {
    "name": "ipython",
    "version": 3
   },
   "file_extension": ".py",
   "mimetype": "text/x-python",
   "name": "python",
   "nbconvert_exporter": "python",
   "pygments_lexer": "ipython3",
   "version": "3.10.6"
  }
 },
 "nbformat": 4,
 "nbformat_minor": 5
}
