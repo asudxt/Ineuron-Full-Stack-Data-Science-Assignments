{
 "cells": [
  {
   "cell_type": "markdown",
   "id": "40cc0953-a492-44ee-801d-efa04e532c1e",
   "metadata": {},
   "source": [
    "1. Write a Python program to print &quot;Hello Python&quot;?"
   ]
  },
  {
   "cell_type": "code",
   "execution_count": 1,
   "id": "b1612c9c-b54e-4dd6-9cfb-0edefc6d1b5c",
   "metadata": {},
   "outputs": [
    {
     "name": "stdout",
     "output_type": "stream",
     "text": [
      "hello python\n"
     ]
    }
   ],
   "source": [
    "a = \"hello python\"\n",
    "print(a)"
   ]
  },
  {
   "cell_type": "markdown",
   "id": "5e1ea38e-c9a7-4e39-b65b-87ed2141661a",
   "metadata": {},
   "source": [
    "2. Write a Python program to do arithmetical operations addition and division.?"
   ]
  },
  {
   "cell_type": "code",
   "execution_count": 12,
   "id": "5ca2321a-493f-4dc6-b1bd-f7034afd5a94",
   "metadata": {},
   "outputs": [],
   "source": [
    "b = 5\n",
    "c = 4"
   ]
  },
  {
   "cell_type": "code",
   "execution_count": 13,
   "id": "3503cb69-1985-4c02-bffd-771c39cc5121",
   "metadata": {},
   "outputs": [
    {
     "name": "stdout",
     "output_type": "stream",
     "text": [
      "9\n"
     ]
    }
   ],
   "source": [
    "print(b+c)"
   ]
  },
  {
   "cell_type": "code",
   "execution_count": 14,
   "id": "2aca05e9-5ce0-467f-8028-289c5c0f340a",
   "metadata": {},
   "outputs": [
    {
     "name": "stdout",
     "output_type": "stream",
     "text": [
      "1.25\n"
     ]
    }
   ],
   "source": [
    "print(b/c)"
   ]
  },
  {
   "cell_type": "markdown",
   "id": "8616b1ff-f51d-4959-8f2c-d166f850270f",
   "metadata": {},
   "source": [
    "3. Write a Python program to find the area of a triangle?"
   ]
  },
  {
   "cell_type": "code",
   "execution_count": 31,
   "id": "8139e4ab-a73c-4405-ac94-ded3577f827c",
   "metadata": {},
   "outputs": [
    {
     "name": "stdin",
     "output_type": "stream",
     "text": [
      "enter the value of height H: 5\n",
      "enter the value of base B: 8\n"
     ]
    },
    {
     "name": "stdout",
     "output_type": "stream",
     "text": [
      "area of triangle : 0.5*5*8\n",
      "20.0\n"
     ]
    }
   ],
   "source": [
    "H = int(input(\"enter the value of height H:\"))\n",
    "B = int(input(\"enter the value of base B:\"))\n",
    "area = 0.5 * H * B \n",
    "print(f\"area of triangle : 0.5*{H}*{B}\")\n",
    "print(f\"{area}\")"
   ]
  },
  {
   "cell_type": "markdown",
   "id": "536bb1fd-99ff-4cf2-902d-174964e16dfb",
   "metadata": {},
   "source": [
    "4. Write a Python program to swap two variables?"
   ]
  },
  {
   "cell_type": "code",
   "execution_count": 33,
   "id": "20654632-5d06-47cb-a055-5b45b16afa2e",
   "metadata": {},
   "outputs": [
    {
     "name": "stdin",
     "output_type": "stream",
     "text": [
      "Enter value of a:  5\n",
      "Enter value of b:  7\n"
     ]
    },
    {
     "name": "stdout",
     "output_type": "stream",
     "text": [
      "Before swapping: a = 5 and b = 7\n",
      "After swapping: a = 7 and b = 5\n"
     ]
    }
   ],
   "source": [
    "a = input(\"Enter value of a: \")\n",
    "b = input(\"Enter value of b: \")\n",
    "\n",
    "# print values before swapping\n",
    "print(\"Before swapping: a =\", a, \"and b =\", b)\n",
    "\n",
    "# swap the values without using a temporary variable\n",
    "a, b = b, a\n",
    "\n",
    "# print values after swapping\n",
    "print(\"After swapping: a =\", a, \"and b =\", b)"
   ]
  },
  {
   "cell_type": "markdown",
   "id": "48401548-2b40-44ce-9f11-61adedb516a6",
   "metadata": {},
   "source": [
    "5. Write a Python program to generate a random number?"
   ]
  },
  {
   "cell_type": "code",
   "execution_count": 34,
   "id": "864152e7-9f6a-4861-a0fd-eabcf8417831",
   "metadata": {},
   "outputs": [
    {
     "name": "stdout",
     "output_type": "stream",
     "text": [
      "Random integer: 9\n",
      "Random float: 0.4759205312696284\n"
     ]
    }
   ],
   "source": [
    "import random\n",
    "\n",
    "# generate a random integer between 0 and 9\n",
    "rand_int = random.randint(0, 9)\n",
    "print(\"Random integer:\", rand_int)\n",
    "\n",
    "# generate a random float between 0 and 1\n",
    "rand_float = random.random()\n",
    "print(\"Random float:\", rand_float)"
   ]
  }
 ],
 "metadata": {
  "kernelspec": {
   "display_name": "Python 3 (ipykernel)",
   "language": "python",
   "name": "python3"
  },
  "language_info": {
   "codemirror_mode": {
    "name": "ipython",
    "version": 3
   },
   "file_extension": ".py",
   "mimetype": "text/x-python",
   "name": "python",
   "nbconvert_exporter": "python",
   "pygments_lexer": "ipython3",
   "version": "3.10.6"
  }
 },
 "nbformat": 4,
 "nbformat_minor": 5
}
