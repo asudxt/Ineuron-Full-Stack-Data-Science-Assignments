{
 "cells": [
  {
   "cell_type": "raw",
   "id": "8a39be6b-aae5-4e4e-9072-68fb16df6721",
   "metadata": {},
   "source": [
    "1. What does an empty dictionarys code look like?\n",
    "\n",
    "Ans: An empty pair of curly braces {} is an empty dictionary\n",
    "     \n",
    "     for e.g, d = {}"
   ]
  },
  {
   "cell_type": "raw",
   "id": "c8c5201c-552d-4a3e-b169-5b895532355f",
   "metadata": {},
   "source": [
    "2. What is the value of a dictionary value with the key 'foo' and the value 42?\n",
    "\n",
    "Ans: dict_values([42])"
   ]
  },
  {
   "cell_type": "code",
   "execution_count": 4,
   "id": "bd7b98c2-5419-4d60-a67d-336dbf494f04",
   "metadata": {},
   "outputs": [
    {
     "name": "stdout",
     "output_type": "stream",
     "text": [
      "dict_values([42])\n"
     ]
    }
   ],
   "source": [
    "# for e.g\n",
    "\n",
    "d1={'foo' : 42}\n",
    "print(d1.values())"
   ]
  },
  {
   "cell_type": "raw",
   "id": "b45a6643-c45e-420f-90e5-f2ceb145f2e0",
   "metadata": {},
   "source": [
    "3. What is the most significant distinction between a dictionary and a list?\n",
    "\n",
    "Ans: List is ordered, mutable, and allows duplicate values, while in a dictionary, it is unordered and mutable, but the dictionary doesn't allow duplicate values with the same key in it."
   ]
  },
  {
   "cell_type": "raw",
   "id": "8dd8766b-eead-47ea-ab61-3237fad728fa",
   "metadata": {},
   "source": [
    "4. What happens if you try to access spam[foo] if spam is {bar: 100}?\n",
    "\n",
    "ANS: It will give key error, for e.g"
   ]
  },
  {
   "cell_type": "code",
   "execution_count": 11,
   "id": "c5ec56d7-aeb2-4f3e-a2bd-2260b8c44891",
   "metadata": {},
   "outputs": [
    {
     "ename": "KeyError",
     "evalue": "'foo'",
     "output_type": "error",
     "traceback": [
      "\u001b[0;31m---------------------------------------------------------------------------\u001b[0m",
      "\u001b[0;31mKeyError\u001b[0m                                  Traceback (most recent call last)",
      "Cell \u001b[0;32mIn [11], line 2\u001b[0m\n\u001b[1;32m      1\u001b[0m spam\u001b[38;5;241m=\u001b[39m{\u001b[38;5;124m'\u001b[39m\u001b[38;5;124mbar\u001b[39m\u001b[38;5;124m'\u001b[39m: \u001b[38;5;241m100\u001b[39m}\n\u001b[0;32m----> 2\u001b[0m \u001b[38;5;28mprint\u001b[39m(\u001b[43mspam\u001b[49m\u001b[43m[\u001b[49m\u001b[38;5;124;43m'\u001b[39;49m\u001b[38;5;124;43mfoo\u001b[39;49m\u001b[38;5;124;43m'\u001b[39;49m\u001b[43m]\u001b[49m)\n",
      "\u001b[0;31mKeyError\u001b[0m: 'foo'"
     ]
    }
   ],
   "source": [
    "spam={'bar': 100}\n",
    "print(spam['foo'])"
   ]
  },
  {
   "cell_type": "raw",
   "id": "6393b193-5470-494a-8c90-d6f1a5cd5254",
   "metadata": {},
   "source": [
    "5. If a dictionary is stored in spam, what is the difference between the expressions 'cat' in spam and 'cat' in spam.keys()?\n",
    "\n",
    "Ans: There is no differnce, both checked that 'cat' is a key of dictionary and if it is, then returns True."
   ]
  },
  {
   "cell_type": "code",
   "execution_count": 16,
   "id": "09611a84-9ea7-4ad6-ba2f-4fc0a47b3b3e",
   "metadata": {},
   "outputs": [
    {
     "data": {
      "text/plain": [
       "True"
      ]
     },
     "execution_count": 16,
     "metadata": {},
     "output_type": "execute_result"
    }
   ],
   "source": [
    "spam={'cat':120}\n",
    "'cat' in spam"
   ]
  },
  {
   "cell_type": "code",
   "execution_count": 17,
   "id": "b0f3946e-a0c0-4638-b8a1-3dba02bc1fed",
   "metadata": {},
   "outputs": [
    {
     "data": {
      "text/plain": [
       "True"
      ]
     },
     "execution_count": 17,
     "metadata": {},
     "output_type": "execute_result"
    }
   ],
   "source": [
    "\"cat\" in spam.keys()"
   ]
  },
  {
   "cell_type": "raw",
   "id": "d7358601-e80d-4492-a80f-f0dfefae8ada",
   "metadata": {},
   "source": [
    "6. If a dictionary is stored in spam, what is the difference between the expressions 'cat' in spam and'cat' in spam.values()?\n",
    "\n",
    "Ans: Both are different because 'cat' in spam checked, 'cat' as key and 'cat' in spam.values() checked, 'cat' as values...So they returns True and False as output."
   ]
  },
  {
   "cell_type": "code",
   "execution_count": null,
   "id": "0899012d-bef1-44e6-b7c4-47c33e9d1f67",
   "metadata": {},
   "outputs": [],
   "source": [
    "spam={'cat':120}\n",
    "'cat' in spam"
   ]
  },
  {
   "cell_type": "code",
   "execution_count": 18,
   "id": "2102bb83-afa8-45e2-ae44-27ed14968d33",
   "metadata": {},
   "outputs": [
    {
     "data": {
      "text/plain": [
       "False"
      ]
     },
     "execution_count": 18,
     "metadata": {},
     "output_type": "execute_result"
    }
   ],
   "source": [
    "'cat' in spam.values()"
   ]
  },
  {
   "cell_type": "raw",
   "id": "301d29b9-2d70-455a-829c-f83331870d43",
   "metadata": {},
   "source": [
    "7. What is a shortcut for the following code?\n",
    "if 'color' not in spam:\n",
    "spam['color'] = 'black'"
   ]
  },
  {
   "cell_type": "code",
   "execution_count": 25,
   "id": "255420d7-30eb-4a7d-b54d-4822e9b18265",
   "metadata": {},
   "outputs": [
    {
     "data": {
      "text/plain": [
       "'black'"
      ]
     },
     "execution_count": 25,
     "metadata": {},
     "output_type": "execute_result"
    }
   ],
   "source": [
    "spam.setdefault('color','black')"
   ]
  },
  {
   "cell_type": "raw",
   "id": "3f10eedc-70c9-450c-8f52-c939c08c05ed",
   "metadata": {},
   "source": [
    "8. How do you \"pretty print\" dictionary values using which module and function?"
   ]
  },
  {
   "cell_type": "code",
   "execution_count": 33,
   "id": "c2e6a01b-fcbb-476d-9cc7-46b494e03854",
   "metadata": {},
   "outputs": [],
   "source": [
    "\n",
    "import pprint\n",
    "dct = [ {'Name': 'Shiva', 'Age': '23', 'Country': 'India'},\n",
    "  {'Name': 'Anna', 'Age': '44', 'Country': 'China'},\n",
    "  {'Name': 'Joe', 'Age': '29', 'Country': 'UK'},\n",
    "  {'Name': 'Chumlee', 'Age': '35', 'Country': 'USA'}]"
   ]
  },
  {
   "cell_type": "code",
   "execution_count": 34,
   "id": "1c810361-cb7d-4ed0-8b4b-ccc6420b72b1",
   "metadata": {},
   "outputs": [
    {
     "name": "stdout",
     "output_type": "stream",
     "text": [
      "[{'Age': '23', 'Country': 'India', 'Name': 'Shiva'},\n",
      " {'Age': '44', 'Country': 'China', 'Name': 'Anna'},\n",
      " {'Age': '29', 'Country': 'UK', 'Name': 'Joe'},\n",
      " {'Age': '35', 'Country': 'USA', 'Name': 'Chumlee'}]\n"
     ]
    }
   ],
   "source": [
    "# printing with pprint()\n",
    "pprint.pprint(dct)"
   ]
  },
  {
   "cell_type": "code",
   "execution_count": 40,
   "id": "31f7b094-fb4c-46bb-a155-a54966866d26",
   "metadata": {},
   "outputs": [
    {
     "ename": "NameError",
     "evalue": "name 'dct_array_1' is not defined",
     "output_type": "error",
     "traceback": [
      "\u001b[0;31m---------------------------------------------------------------------------\u001b[0m",
      "\u001b[0;31mNameError\u001b[0m                                 Traceback (most recent call last)",
      "Cell \u001b[0;32mIn [40], line 2\u001b[0m\n\u001b[1;32m      1\u001b[0m \u001b[38;5;66;03m#Printing with print()\u001b[39;00m\n\u001b[0;32m----> 2\u001b[0m \u001b[38;5;28mprint\u001b[39m(\u001b[43mdct_array_1\u001b[49m)\n",
      "\u001b[0;31mNameError\u001b[0m: name 'dct_array_1' is not defined"
     ]
    }
   ],
   "source": [
    "#Printing with print()\n",
    "print(dct_array_1)"
   ]
  },
  {
   "cell_type": "code",
   "execution_count": null,
   "id": "50369439-658f-4551-a019-4d82294f9106",
   "metadata": {},
   "outputs": [],
   "source": []
  }
 ],
 "metadata": {
  "kernelspec": {
   "display_name": "Python 3 (ipykernel)",
   "language": "python",
   "name": "python3"
  },
  "language_info": {
   "codemirror_mode": {
    "name": "ipython",
    "version": 3
   },
   "file_extension": ".py",
   "mimetype": "text/x-python",
   "name": "python",
   "nbconvert_exporter": "python",
   "pygments_lexer": "ipython3",
   "version": "3.10.6"
  }
 },
 "nbformat": 4,
 "nbformat_minor": 5
}
