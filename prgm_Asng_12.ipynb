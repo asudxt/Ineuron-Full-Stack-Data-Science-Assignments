{
 "cells": [
  {
   "cell_type": "code",
   "execution_count": null,
   "id": "e9bbdfa4-e0fc-407b-a3d4-22e87378d4f0",
   "metadata": {},
   "outputs": [],
   "source": [
    "1. Write a Python program to Extract Unique values dictionary values?"
   ]
  },
  {
   "cell_type": "code",
   "execution_count": 14,
   "id": "d6629646-e9d7-418c-b8ec-639d5faaf862",
   "metadata": {},
   "outputs": [
    {
     "name": "stdout",
     "output_type": "stream",
     "text": [
      "[1, 2, 3]\n"
     ]
    }
   ],
   "source": [
    "def extract_unique_values(dictionary):\n",
    "    values = dictionary.values()\n",
    "    unique_values = set(values)\n",
    "    unique_values_list = list(unique_values)\n",
    "    return unique_values_list\n",
    "\n",
    "# Example dictionary\n",
    "my_dict = {'a': 1, 'b': 2, 'c': 1, 'd': 3, 'e': 2}\n",
    "\n",
    "# Extract unique values from dictionary\n",
    "unique_values = extract_unique_values(my_dict)\n",
    "print(unique_values)\n"
   ]
  },
  {
   "cell_type": "code",
   "execution_count": null,
   "id": "642db9d0-db58-4166-8c44-cdf34d5012ea",
   "metadata": {},
   "outputs": [],
   "source": [
    "2. Write a Python program to find the sum of all items in a dictionary?"
   ]
  },
  {
   "cell_type": "code",
   "execution_count": 30,
   "id": "1889c58b-89cc-4d16-a2cc-d555f7259335",
   "metadata": {},
   "outputs": [
    {
     "name": "stdout",
     "output_type": "stream",
     "text": [
      "106\n"
     ]
    }
   ],
   "source": [
    "def sum_of_dict(my_dict):\n",
    "    values = my_dict.values()\n",
    "    total_sum = sum(values)\n",
    "    return total_sum\n",
    "\n",
    "    \n",
    "dict = {'k1':25,'k2':26,'k3':27,'k4':28}\n",
    "dictionary = sum_of_dict(dict)\n",
    "print(dictionary)"
   ]
  },
  {
   "cell_type": "code",
   "execution_count": null,
   "id": "f74db120-792f-4382-bd71-85b622fe6e87",
   "metadata": {},
   "outputs": [],
   "source": [
    "3. Write a Python program to Merging two Dictionaries?"
   ]
  },
  {
   "cell_type": "code",
   "execution_count": 32,
   "id": "888b0599-b17c-4f8b-a721-775eee18a210",
   "metadata": {},
   "outputs": [
    {
     "name": "stdout",
     "output_type": "stream",
     "text": [
      "{'a': 1, 'b': 2, 'c': 3, 'd': 4}\n"
     ]
    }
   ],
   "source": [
    "def merge_dictionaries(dict1, dict2):\n",
    "    merged_dict = dict1.copy()\n",
    "    merged_dict.update(dict2)\n",
    "    return merged_dict\n",
    "\n",
    "# Example dictionaries\n",
    "dict1 = {'a': 1, 'b': 2}\n",
    "dict2 = {'c': 3, 'd': 4}\n",
    "\n",
    "# Merge the dictionaries\n",
    "merged_dict = merge_dictionaries(dict1, dict2)\n",
    "\n",
    "# Print the merged dictionary\n",
    "print(merged_dict)\n"
   ]
  },
  {
   "cell_type": "code",
   "execution_count": null,
   "id": "2316af74-31da-4976-80b1-8798002f8afe",
   "metadata": {},
   "outputs": [],
   "source": [
    "4. Write a Python program to convert key-values list to flat dictionary?"
   ]
  },
  {
   "cell_type": "code",
   "execution_count": 38,
   "id": "5a4388f7-7190-4f17-b244-a3df0980c6c2",
   "metadata": {},
   "outputs": [
    {
     "name": "stdout",
     "output_type": "stream",
     "text": [
      "{'a': 1, 'b': 2, 'c': 3}\n"
     ]
    }
   ],
   "source": [
    "def convert_to_flat_dictionary(key_value_list):\n",
    "    flat_dict = {key: value for key, value in key_value_list}\n",
    "    return flat_dict\n",
    "\n",
    "# Example key-value list\n",
    "key_value_list = [(\"a\", 1), (\"b\", 2), [\"c\", 3]]\n",
    "\n",
    "# Convert to flat dictionary\n",
    "flat_dictionary = convert_to_flat_dictionary(key_value_list)\n",
    "\n",
    "# Print the flat dictionary\n",
    "print(flat_dictionary)\n"
   ]
  },
  {
   "cell_type": "code",
   "execution_count": null,
   "id": "c0a413ee-3f8a-4f28-be9e-4fd9d860f39b",
   "metadata": {},
   "outputs": [],
   "source": [
    "5. Write a Python program to insertion at the beginning in OrderedDict?"
   ]
  },
  {
   "cell_type": "code",
   "execution_count": 40,
   "id": "ed7e0c0d-452f-47a5-bd51-dee9fa05ca70",
   "metadata": {},
   "outputs": [
    {
     "name": "stdout",
     "output_type": "stream",
     "text": [
      "OrderedDict([('x', 10), ('a', 1), ('b', 2), ('c', 3)])\n"
     ]
    }
   ],
   "source": [
    "from collections import OrderedDict\n",
    "\n",
    "def insert_at_beginning(ordered_dict, key, value):\n",
    "    ordered_dict[key] = value\n",
    "    ordered_dict.move_to_end(key, last=False)\n",
    "\n",
    "# Create an OrderedDict\n",
    "ordered_dict = OrderedDict([('a', 1), ('b', 2), ('c', 3)])\n",
    "\n",
    "insert_at_beginning(ordered_dict, 'x', 10)\n",
    "\n",
    "print(ordered_dict)\n"
   ]
  },
  {
   "cell_type": "code",
   "execution_count": null,
   "id": "60d5ab49-d273-48f9-8516-65c0fd153e8d",
   "metadata": {},
   "outputs": [],
   "source": [
    "6. Write a Python program to check order of character in string using OrderedDict()?"
   ]
  },
  {
   "cell_type": "code",
   "execution_count": 42,
   "id": "ff249410-87b8-4a46-8f09-78091426f08b",
   "metadata": {},
   "outputs": [
    {
     "name": "stdout",
     "output_type": "stream",
     "text": [
      "True\n"
     ]
    }
   ],
   "source": [
    "\n",
    "def check_order(string, pattern):\n",
    "    i, j = 0, 0\n",
    "    for char in string:\n",
    "        if char == pattern[j]:\n",
    "            j += 1\n",
    "        if j == len(pattern):\n",
    "            return True\n",
    "        i += 1\n",
    " \n",
    "    return False\n",
    "string = 'engineers rock'\n",
    "pattern = 'er'\n",
    "print(check_order(string, pattern))"
   ]
  },
  {
   "cell_type": "code",
   "execution_count": null,
   "id": "c3ffdff7-38e8-4f37-a511-e5829a5f8558",
   "metadata": {},
   "outputs": [],
   "source": [
    "7. Write a Python program to sort Python Dictionaries by Key or Value?"
   ]
  },
  {
   "cell_type": "code",
   "execution_count": 51,
   "id": "db1df56d-62f3-4888-91b0-c400fff92a66",
   "metadata": {},
   "outputs": [
    {
     "name": "stdout",
     "output_type": "stream",
     "text": [
      "OrderedDict([('rajnish', '9'), ('ravi', '10'), ('sanjeev', '15'), ('suraj', '32'), ('yash', '2')])\n"
     ]
    }
   ],
   "source": [
    "from collections import OrderedDict\n",
    " \n",
    "dict = {'ravi': '10', 'rajnish': '9',\n",
    "        'sanjeev': '15', 'yash': '2', 'suraj': '32'}\n",
    "dict1 = OrderedDict(sorted(dict.items()))\n",
    "print(dict1)"
   ]
  }
 ],
 "metadata": {
  "kernelspec": {
   "display_name": "Python 3 (ipykernel)",
   "language": "python",
   "name": "python3"
  },
  "language_info": {
   "codemirror_mode": {
    "name": "ipython",
    "version": 3
   },
   "file_extension": ".py",
   "mimetype": "text/x-python",
   "name": "python",
   "nbconvert_exporter": "python",
   "pygments_lexer": "ipython3",
   "version": "3.10.6"
  }
 },
 "nbformat": 4,
 "nbformat_minor": 5
}
