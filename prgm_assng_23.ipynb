{
 "cells": [
  {
   "cell_type": "markdown",
   "id": "f3825b0a-c8ec-40a6-9275-89604f915e4c",
   "metadata": {},
   "source": [
    "Question 1\n",
    "Create a function that takes a number as an argument and returns True or False depending\n",
    "on whether the number is symmetrical or not. A number is symmetrical when it is the same as\n",
    "its reverse.\n",
    "Examples\n",
    "is_symmetrical(7227) ➞ True\n",
    "is_symmetrical(12567) ➞ False\n",
    "is_symmetrical(44444444) ➞ True\n",
    "is_symmetrical(9939) ➞ False\n",
    "is_symmetrical(1112111) ➞ True"
   ]
  },
  {
   "cell_type": "code",
   "execution_count": 2,
   "id": "1bfbfcf9-cdb0-424b-b8d1-f74d33237e8b",
   "metadata": {},
   "outputs": [
    {
     "name": "stdout",
     "output_type": "stream",
     "text": [
      "True\n",
      "False\n",
      "True\n",
      "False\n",
      "True\n"
     ]
    }
   ],
   "source": [
    "def is_symmetrical(num):\n",
    "    # Convert the number to a string\n",
    "    num_str = str(num)\n",
    "    \n",
    "    # Check if the string is equal to its reverse\n",
    "    if num_str == num_str[::-1]:\n",
    "        return True\n",
    "    else:\n",
    "        return False\n",
    "\n",
    "print(is_symmetrical(7227))\n",
    "print(is_symmetrical(12567))     \n",
    "print(is_symmetrical(44444444))   \n",
    "print(is_symmetrical(9939))       \n",
    "print(is_symmetrical(1112111))     "
   ]
  },
  {
   "cell_type": "markdown",
   "id": "0143d7bf-2fc4-4bfb-a96a-1fc7c9af1dee",
   "metadata": {},
   "source": [
    "Question 2\n",
    "Given a string of numbers separated by a comma and space, return the product of the\n",
    "numbers.\n",
    "Examples\n",
    "multiply_nums(&quot;2, 3&quot;) ➞ 6\n",
    "multiply_nums(&quot;1, 2, 3, 4&quot;) ➞ 24\n",
    "multiply_nums(&quot;54, 75, 453, 0&quot;) ➞ 0\n",
    "multiply_nums(&quot;10, -2&quot;) ➞ -20"
   ]
  },
  {
   "cell_type": "code",
   "execution_count": 4,
   "id": "e87e9b52-2ea0-4123-a6e9-f144031ea37b",
   "metadata": {},
   "outputs": [
    {
     "name": "stdout",
     "output_type": "stream",
     "text": [
      "6\n",
      "24\n",
      "0\n",
      "-20\n"
     ]
    }
   ],
   "source": [
    "def multiply_nums(numbers):\n",
    "    # Split the string into individual numbers\n",
    "    nums = numbers.split(\", \")\n",
    "    \n",
    "    # Initialize the product to 1\n",
    "    product = 1\n",
    "    \n",
    "    # Iterate over the numbers and multiply them\n",
    "    for num in nums:\n",
    "        product *= int(num)\n",
    "    \n",
    "    return product\n",
    "print(multiply_nums(\"2, 3\"))              \n",
    "print(multiply_nums(\"1, 2, 3, 4\"))        \n",
    "print(multiply_nums(\"54, 75, 453, 0\"))     \n",
    "print(multiply_nums(\"10, -2\")) "
   ]
  },
  {
   "cell_type": "markdown",
   "id": "629f000f-6bdc-4da5-af76-84c075806ad6",
   "metadata": {},
   "source": [
    "Question 3\n",
    "Create a function that squares every digit of a number.\n",
    "Examples\n",
    "square_digits(9119) ➞ 811181\n",
    "square_digits(2483) ➞ 416649\n",
    "square_digits(3212) ➞ 9414\n",
    "Notes\n",
    "The function receives an integer and must return an integer."
   ]
  },
  {
   "cell_type": "code",
   "execution_count": 4,
   "id": "cf988768-f044-48b8-bab1-6e76312a4f12",
   "metadata": {},
   "outputs": [
    {
     "name": "stdout",
     "output_type": "stream",
     "text": [
      "811181\n",
      "416649\n",
      "9414\n"
     ]
    }
   ],
   "source": [
    "def square_digits(number):\n",
    "    result = \"\"\n",
    "    for digit in str(number):\n",
    "        squared_digit = str(int(digit) ** 2)\n",
    "        result += squared_digit\n",
    "    return (result)\n",
    "\n",
    "print(square_digits(9119))  #811181\n",
    "print(square_digits(2483)) #416649\n",
    "print(square_digits(3212))  #9414"
   ]
  },
  {
   "cell_type": "markdown",
   "id": "cebbe538-12f3-4ffb-be04-71d2a5eaf3d0",
   "metadata": {},
   "source": [
    "Question 4\n",
    "Create a function that sorts a list and removes all duplicate items from it.\n",
    "Examples\n",
    "setify([1, 3, 3, 5, 5]) ➞ [1, 3, 5]\n",
    "setify([4, 4, 4, 4]) ➞ [4]\n",
    "setify([5, 7, 8, 9, 10, 15]) ➞ [5, 7, 8, 9, 10, 15]\n",
    "setify([3, 3, 3, 2, 1]) ➞ [1, 2, 3]"
   ]
  },
  {
   "cell_type": "code",
   "execution_count": 7,
   "id": "f8d8f54f-424c-4425-a37f-87740f387d6e",
   "metadata": {},
   "outputs": [
    {
     "name": "stdout",
     "output_type": "stream",
     "text": [
      "[1, 3, 5]\n",
      "[4]\n",
      "[5, 7, 8, 9, 10, 15]\n",
      "[1, 2, 3]\n"
     ]
    }
   ],
   "source": [
    "def setify(num):\n",
    "    sorted_list = sorted(set(num))\n",
    "    return (sorted_list) \n",
    "\n",
    "\n",
    "print(setify([1, 3, 3, 5, 5]))\n",
    "print(setify([4, 4, 4, 4]))  \n",
    "print(setify([5, 7, 8, 9, 10, 15]))\n",
    "print(setify([3, 3, 3, 2, 1]))"
   ]
  },
  {
   "cell_type": "markdown",
   "id": "780c2d26-eab6-42c8-a6c5-f2716548985a",
   "metadata": {},
   "source": [
    "Question 5\n",
    "Create a function that returns the mean of all digits.\n",
    "Examples\n",
    "mean(42) ➞ 3\n",
    "mean(12345) ➞ 3\n",
    "mean(666) ➞ 6\n",
    "Notes\n",
    " The mean of all digits is the sum of digits / how many digits there are (e.g. mean of digits in\n",
    "512 is (5+1+2)/3(number of digits) = 8/3=2).\n",
    " The mean will always be an integer."
   ]
  },
  {
   "cell_type": "code",
   "execution_count": 30,
   "id": "c1a7d9ac-4b22-4f97-8808-01a174f588e2",
   "metadata": {},
   "outputs": [
    {
     "name": "stdout",
     "output_type": "stream",
     "text": [
      "3\n",
      "3\n",
      "6\n"
     ]
    }
   ],
   "source": [
    "def mean(num):\n",
    "    digits = str(num)\n",
    "    num_digits = len(digits)\n",
    "    digit_sum = sum(int(d) for d in digits)\n",
    "    mean_value = digit_sum // num_digits\n",
    "    return mean_value\n",
    "\n",
    "print(mean(42))     \n",
    "print(mean(12345))     \n",
    "print(mean(666))       "
   ]
  },
  {
   "cell_type": "code",
   "execution_count": null,
   "id": "d796656e-8358-477f-a8c6-45db7712d29f",
   "metadata": {},
   "outputs": [],
   "source": []
  }
 ],
 "metadata": {
  "kernelspec": {
   "display_name": "Python 3 (ipykernel)",
   "language": "python",
   "name": "python3"
  },
  "language_info": {
   "codemirror_mode": {
    "name": "ipython",
    "version": 3
   },
   "file_extension": ".py",
   "mimetype": "text/x-python",
   "name": "python",
   "nbconvert_exporter": "python",
   "pygments_lexer": "ipython3",
   "version": "3.10.6"
  }
 },
 "nbformat": 4,
 "nbformat_minor": 5
}
