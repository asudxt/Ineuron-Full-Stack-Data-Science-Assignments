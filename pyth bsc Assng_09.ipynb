{
 "cells": [
  {
   "cell_type": "raw",
   "id": "79955870-4c03-4f5b-9cb3-4e2d18962984",
   "metadata": {},
   "source": [
    "1. To what does a relative path refer?\n",
    "\n",
    "Ans: Relative paths are relative to the current working directory."
   ]
  },
  {
   "cell_type": "raw",
   "id": "8a98c967-f69d-4ae8-8158-86dad4c1d3f3",
   "metadata": {},
   "source": [
    "2. What does an absolute path start with your operating system?\n",
    "\n",
    "Ans: Absolute paths start with the root folder, such as / or C:\\."
   ]
  },
  {
   "cell_type": "raw",
   "id": "a310af63-0812-496b-ae15-07f8d3f6ef52",
   "metadata": {},
   "source": [
    "3. What do the functions os.getcwd() and os.chdir() do?\n",
    "\n",
    "Ans: The os.getcwd() function returns the current working directory. The os.chdir() function changes the current working directory to the given path.\n"
   ]
  },
  {
   "cell_type": "raw",
   "id": "7149f837-0527-4ee8-9b35-4bd5619e4ab4",
   "metadata": {},
   "source": [
    "4. What are the . and .. folders?\n",
    "\n",
    "Ans: The . folder is the current folder, and .. is the parent folder."
   ]
  },
  {
   "cell_type": "raw",
   "id": "8093d8f5-32e1-43e7-b262-9fa5e032dcf1",
   "metadata": {},
   "source": [
    "5. In C:\\bacon\\eggs\\spam.txt, which part is the dir name, and which part is the base name?\n",
    "\n",
    "Ans : C:\\bacon\\eggs is the dir name, while spam. txt is the base name."
   ]
  },
  {
   "cell_type": "raw",
   "id": "0a743cd9-2f05-4cd1-a91d-d7edc12204e8",
   "metadata": {},
   "source": [
    "6. What are the three “mode” arguments that can be passed to the open() function?\n",
    "\n",
    "Ans: mode: This parameter is a string that is used to specify the mode in which the file is to be opened. The following strings can be used to activate a specific mode:\n",
    "\n",
    "“r”: This string is used to read(only) the file. It is passed as default if no parameter is supplied and returns an error if no such file exists.\n",
    "“w”: This string is used for writing on/over the file. If the file with the supplied name doesn’t exist, it creates one for you.\n",
    "“a”: This string is used to add(append) content to an existing file. If no such file exists, it creates one for you."
   ]
  },
  {
   "cell_type": "raw",
   "id": "673fff28-b7ab-4b48-955b-4a3586ca99b8",
   "metadata": {},
   "source": [
    "7. What happens if an existing file is opened in write mode?\n",
    "\n",
    "Ans: if the file is opened in write mode then existing data will be removed, it also creates a file, if the file does not exist"
   ]
  },
  {
   "cell_type": "raw",
   "id": "b42c6f36-eae7-4f29-8636-8e866ee2ee2d",
   "metadata": {},
   "source": [
    "8. How do you tell the difference between read() and readlines()?\n",
    "\n",
    "Ans: The read() method returns the file's entire contents as a single string value. The readlines() method returns a list of strings, where each string is a line from the file's contents."
   ]
  },
  {
   "cell_type": "raw",
   "id": "ace8fe4e-3554-4a8b-9366-dc650460b0e8",
   "metadata": {},
   "source": [
    "9. What data structure does a shelf value resemble?\n",
    "\n",
    "Ans: A shelf value resembles a dictionary value; it has keys and values, along with keys() and values() methods that work similarly to the dictionary methods of the same names."
   ]
  }
 ],
 "metadata": {
  "kernelspec": {
   "display_name": "Python 3 (ipykernel)",
   "language": "python",
   "name": "python3"
  },
  "language_info": {
   "codemirror_mode": {
    "name": "ipython",
    "version": 3
   },
   "file_extension": ".py",
   "mimetype": "text/x-python",
   "name": "python",
   "nbconvert_exporter": "python",
   "pygments_lexer": "ipython3",
   "version": "3.10.6"
  }
 },
 "nbformat": 4,
 "nbformat_minor": 5
}
