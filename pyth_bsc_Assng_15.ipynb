{
 "cells": [
  {
   "cell_type": "raw",
   "id": "08e2b615-af22-48a8-b964-443251c5c076",
   "metadata": {},
   "source": [
    "1.How many seconds are in an hour? Use the interactive interpreter as a calculator and multiply the number of seconds in a minute (60) by the number of minutes in an hour (also 60).\n",
    "\n",
    "Ans: There are 3600 seconds in an hour.\n",
    "\n",
    "we can calculate it in the Python interactive interpreter as follows:\n",
    "\n",
    "60*60\n",
    "3600"
   ]
  },
  {
   "cell_type": "raw",
   "id": "b0013857-3683-47c0-ae83-6eea0afe4927",
   "metadata": {},
   "source": [
    "2. Assign the result from the previous task (seconds in an hour) to a variable called seconds_per_hour."
   ]
  },
  {
   "cell_type": "code",
   "execution_count": 2,
   "id": "6f55d884-5009-4df5-97dc-05737c40a911",
   "metadata": {},
   "outputs": [
    {
     "data": {
      "text/plain": [
       "3600"
      ]
     },
     "execution_count": 2,
     "metadata": {},
     "output_type": "execute_result"
    }
   ],
   "source": [
    "seconds_per_hour = 60 * 60\n",
    "seconds_per_hour"
   ]
  },
  {
   "cell_type": "raw",
   "id": "ee616021-40f1-4ea8-b944-586e87285893",
   "metadata": {},
   "source": [
    "3. How many seconds do you think there are in a day? Make use of the variables seconds per hour and minutes per hour."
   ]
  },
  {
   "cell_type": "code",
   "execution_count": 4,
   "id": "e7c42d6a-514d-478f-a36f-2aec3fff2581",
   "metadata": {},
   "outputs": [
    {
     "data": {
      "text/plain": [
       "86400"
      ]
     },
     "execution_count": 4,
     "metadata": {},
     "output_type": "execute_result"
    }
   ],
   "source": [
    "hours_one_day = 24\n",
    "seconds_per_hour = 60*60\n",
    "seconds_per_day = hours_one_day * seconds_per_hour\n",
    "seconds_per_day"
   ]
  },
  {
   "cell_type": "raw",
   "id": "c9ea672e-4b22-45c2-8637-89e03d13b607",
   "metadata": {},
   "source": [
    "4. Calculate seconds per day again, but this time save the result in a variable called seconds_per_day"
   ]
  },
  {
   "cell_type": "code",
   "execution_count": 6,
   "id": "9b674320-d1f4-45ba-8dd2-bb05e9a796ae",
   "metadata": {},
   "outputs": [
    {
     "data": {
      "text/plain": [
       "86400"
      ]
     },
     "execution_count": 6,
     "metadata": {},
     "output_type": "execute_result"
    }
   ],
   "source": [
    "seconds_per_day = 24 * seconds_per_hour\n",
    "seconds_per_day"
   ]
  },
  {
   "cell_type": "raw",
   "id": "0a574264-2fcd-4979-a308-86f2f604dc6c",
   "metadata": {},
   "source": [
    "5. Divide seconds_per_day by seconds_per_hour. Use floating-point (/) division."
   ]
  },
  {
   "cell_type": "code",
   "execution_count": 7,
   "id": "e7d59fac-8d1d-4651-b1ae-92c1f030c028",
   "metadata": {},
   "outputs": [
    {
     "data": {
      "text/plain": [
       "24.0"
      ]
     },
     "execution_count": 7,
     "metadata": {},
     "output_type": "execute_result"
    }
   ],
   "source": [
    "seconds_per_day = 86400 \n",
    "seconds_per_hour = 3600\n",
    "seconds_per_day / seconds_per_hour"
   ]
  },
  {
   "cell_type": "raw",
   "id": "1b20e0f3-c072-466e-a5dc-5a5ecd8e4aee",
   "metadata": {},
   "source": [
    "6. Divide seconds_per_day by seconds_per_hour, using integer (//) division. Did this number agree with the floating-point value from the previous question, aside from the final .0?"
   ]
  },
  {
   "cell_type": "code",
   "execution_count": 8,
   "id": "ff56f4f9-6bc3-4a96-bd17-dd12523c2add",
   "metadata": {},
   "outputs": [
    {
     "data": {
      "text/plain": [
       "24"
      ]
     },
     "execution_count": 8,
     "metadata": {},
     "output_type": "execute_result"
    }
   ],
   "source": [
    "seconds_per_day // seconds_per_hour\n",
    "yes!this number agree "
   ]
  },
  {
   "cell_type": "raw",
   "id": "d75ffdf8-87c6-401c-bbcd-a6e2196c17df",
   "metadata": {},
   "source": [
    "7. Write a generator, genPrimes, that returns the sequence of prime numbers on successive calls to its next() method: 2, 3, 5, 7, 11, ..."
   ]
  },
  {
   "cell_type": "code",
   "execution_count": 10,
   "id": "bb4b27e2-b29a-4d18-aaeb-7f721e14c528",
   "metadata": {},
   "outputs": [],
   "source": [
    "\n",
    "def genPrimes():\n",
    "    n = 2\n",
    "    primes = []\n",
    "    while True:\n",
    "        for p in primes:\n",
    "            if n % p == 0:\n",
    "                break\n",
    "        else:\n",
    "            primes.append(n)\n",
    "            yield n\n",
    "        n += 1"
   ]
  },
  {
   "cell_type": "code",
   "execution_count": 13,
   "id": "d261d27b-912b-4eeb-ac9e-43fba3305231",
   "metadata": {},
   "outputs": [
    {
     "name": "stdout",
     "output_type": "stream",
     "text": [
      "2\n",
      "3\n",
      "5\n",
      "7\n",
      "11\n"
     ]
    }
   ],
   "source": [
    "\n",
    "prime_gen = genPrimes()\n",
    "\n",
    "print(next(prime_gen))  # 2\n",
    "print(next(prime_gen))  # 3\n",
    "print(next(prime_gen))  # 5\n",
    "print(next(prime_gen))  # 7\n",
    "print(next(prime_gen))  # 11\n",
    "# and so on..."
   ]
  }
 ],
 "metadata": {
  "kernelspec": {
   "display_name": "Python 3 (ipykernel)",
   "language": "python",
   "name": "python3"
  },
  "language_info": {
   "codemirror_mode": {
    "name": "ipython",
    "version": 3
   },
   "file_extension": ".py",
   "mimetype": "text/x-python",
   "name": "python",
   "nbconvert_exporter": "python",
   "pygments_lexer": "ipython3",
   "version": "3.10.6"
  }
 },
 "nbformat": 4,
 "nbformat_minor": 5
}
