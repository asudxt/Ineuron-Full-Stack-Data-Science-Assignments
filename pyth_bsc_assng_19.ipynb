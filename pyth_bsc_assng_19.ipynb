{
 "cells": [
  {
   "cell_type": "raw",
   "id": "4b0c4064-7a47-45a3-b340-dae1964e26d0",
   "metadata": {},
   "source": [
    "1. Make a class called Thing with no contents and print it. Then, create an object called example from this class and also print it. Are the printed values the same or different?"
   ]
  },
  {
   "cell_type": "code",
   "execution_count": 38,
   "id": "58a666d8-40b2-44b4-af6a-347dcfa903f9",
   "metadata": {},
   "outputs": [
    {
     "name": "stdout",
     "output_type": "stream",
     "text": [
      "<class '__main__.thing'>\n"
     ]
    }
   ],
   "source": [
    "class thing:\n",
    "    pass\n",
    "    print(thing)"
   ]
  },
  {
   "cell_type": "code",
   "execution_count": 37,
   "id": "1493e3e8-88c4-4bd1-9e4c-187c3330a846",
   "metadata": {},
   "outputs": [
    {
     "name": "stdout",
     "output_type": "stream",
     "text": [
      "<__main__.thing object at 0x7f36a1716bf0>\n"
     ]
    }
   ],
   "source": [
    "example = thing()\n",
    "print(example)"
   ]
  },
  {
   "cell_type": "code",
   "execution_count": null,
   "id": "d36fc339-d2bb-4b7a-8c21-cbdac0052065",
   "metadata": {},
   "outputs": [],
   "source": [
    "#Printed values are not same, it prints, class and object details."
   ]
  },
  {
   "cell_type": "raw",
   "id": "9d14d240-2481-4647-a4c7-13404b8606a0",
   "metadata": {},
   "source": [
    "2. Create a new class called Thing2 and add the value abc to the letters class attribute. Letters\n",
    "should be printed."
   ]
  },
  {
   "cell_type": "code",
   "execution_count": 28,
   "id": "4f619311-015b-47cb-b84b-62b3b79d939d",
   "metadata": {},
   "outputs": [],
   "source": [
    "class Thing2():\n",
    "    letter = 'abc'"
   ]
  },
  {
   "cell_type": "code",
   "execution_count": 29,
   "id": "d1cde6dd-a107-4715-9445-f0adb8538934",
   "metadata": {},
   "outputs": [
    {
     "data": {
      "text/plain": [
       "'abc'"
      ]
     },
     "execution_count": 29,
     "metadata": {},
     "output_type": "execute_result"
    }
   ],
   "source": [
    "Thing2.letter"
   ]
  },
  {
   "cell_type": "raw",
   "id": "5246d3d1-f9e3-4590-95cd-8b23d56d6332",
   "metadata": {},
   "source": [
    "3. Make yet another class called, of course, Thing3. This time, assign the value xyz to an instance (object) attribute called letters.Print letters. Do you need to make an object from the class to do this?"
   ]
  },
  {
   "cell_type": "code",
   "execution_count": 47,
   "id": "92b27e1f-4711-46fe-8197-6bb3bc21b36c",
   "metadata": {},
   "outputs": [],
   "source": [
    "class Thing3:\n",
    "    def __init__(self,value):\n",
    "        self.value = value"
   ]
  },
  {
   "cell_type": "code",
   "execution_count": 49,
   "id": "30bbba70-3126-453c-947d-fc2b389a1214",
   "metadata": {},
   "outputs": [],
   "source": [
    "letter = Thing3('xyz')"
   ]
  },
  {
   "cell_type": "code",
   "execution_count": 51,
   "id": "a567a943-d1ef-4ded-a306-04509b55e597",
   "metadata": {},
   "outputs": [
    {
     "data": {
      "text/plain": [
       "'xyz'"
      ]
     },
     "execution_count": 51,
     "metadata": {},
     "output_type": "execute_result"
    }
   ],
   "source": [
    "letter.value"
   ]
  },
  {
   "cell_type": "raw",
   "id": "d9bdd091-cf51-4647-ac80-4241ea68fcd5",
   "metadata": {},
   "source": [
    "4. Create an Element class with the instance attributes name, symbol, and number. Create a class object with the values Hydrogen  ,H, and 1."
   ]
  },
  {
   "cell_type": "code",
   "execution_count": 4,
   "id": "5a745cad-608b-4499-8ce6-dfc400300a25",
   "metadata": {},
   "outputs": [],
   "source": [
    "class Element:\n",
    "    def __init__(self,name,symbol,number):\n",
    "        self.name = name\n",
    "        self.symbol = symbol\n",
    "        self.number = number\n",
    "    def values(self):\n",
    "        print('name :', self.name ,  'symbol :' , self.symbol ,  'number :' , self.number)"
   ]
  },
  {
   "cell_type": "code",
   "execution_count": 5,
   "id": "d4d2376a-0f87-4bc4-b4e7-42c7992b5b1e",
   "metadata": {},
   "outputs": [],
   "source": [
    "obj_element = Element('Hydrogen','H','1')"
   ]
  },
  {
   "cell_type": "code",
   "execution_count": 6,
   "id": "b8c30419-9199-42fe-8dc1-eafc9e0f4971",
   "metadata": {},
   "outputs": [
    {
     "data": {
      "text/plain": [
       "'Hydrogen'"
      ]
     },
     "execution_count": 6,
     "metadata": {},
     "output_type": "execute_result"
    }
   ],
   "source": [
    "obj_element.name"
   ]
  },
  {
   "cell_type": "code",
   "execution_count": 7,
   "id": "66e9bc8f-2d3d-431e-a9bd-3bb2b92f0c62",
   "metadata": {},
   "outputs": [
    {
     "data": {
      "text/plain": [
       "'1'"
      ]
     },
     "execution_count": 7,
     "metadata": {},
     "output_type": "execute_result"
    }
   ],
   "source": [
    "obj_element.number"
   ]
  },
  {
   "cell_type": "code",
   "execution_count": 8,
   "id": "fe5f14ca-639c-462c-a14b-8e2ea5fbf011",
   "metadata": {},
   "outputs": [
    {
     "data": {
      "text/plain": [
       "'H'"
      ]
     },
     "execution_count": 8,
     "metadata": {},
     "output_type": "execute_result"
    }
   ],
   "source": [
    "obj_element.symbol"
   ]
  },
  {
   "cell_type": "code",
   "execution_count": 9,
   "id": "578b48df-c887-4252-8509-8dfe5cd078e8",
   "metadata": {},
   "outputs": [
    {
     "name": "stdout",
     "output_type": "stream",
     "text": [
      "name : Hydrogen symbol : H number : 1\n"
     ]
    }
   ],
   "source": [
    "obj_element.values()"
   ]
  },
  {
   "cell_type": "raw",
   "id": "36446a2b-829a-4cdf-89c4-1f845d5ee58a",
   "metadata": {},
   "source": [
    "5. Make a dictionary with these keys and values: name: Hydrogen,symbol:H, number: 1. Then, create an object called hydrogen from class Element using this dictionary."
   ]
  },
  {
   "cell_type": "code",
   "execution_count": 18,
   "id": "c407e434-4e05-4123-86b3-377f7f9dfc01",
   "metadata": {},
   "outputs": [],
   "source": [
    "dict = {'name' : 'Hydrogen' , 'symbol' : 'H' , 'number' : '1'}\n"
   ]
  },
  {
   "cell_type": "code",
   "execution_count": 20,
   "id": "13cb60ff-0886-450a-ac97-b75f9f8e584e",
   "metadata": {},
   "outputs": [],
   "source": [
    "hydrogen = Element(**dict)"
   ]
  },
  {
   "cell_type": "code",
   "execution_count": 21,
   "id": "ade54b66-64bc-445f-9601-a5d362b5f950",
   "metadata": {},
   "outputs": [
    {
     "data": {
      "text/plain": [
       "'Hydrogen'"
      ]
     },
     "execution_count": 21,
     "metadata": {},
     "output_type": "execute_result"
    }
   ],
   "source": [
    "hydrogen.name"
   ]
  },
  {
   "cell_type": "raw",
   "id": "6c83ea2d-ba82-4dfd-bd95-947a2d1e67f5",
   "metadata": {},
   "source": [
    "6. For the Element class, define a method called dump() that prints the values of the object’sattributes (name, symbol, and number). Create the hydrogen object from this new definition and use dump() to print its attributes."
   ]
  },
  {
   "cell_type": "code",
   "execution_count": 29,
   "id": "5c690073-fb87-4200-8d3d-c71557246f0c",
   "metadata": {},
   "outputs": [
    {
     "name": "stdout",
     "output_type": "stream",
     "text": [
      "Name: Hydrogen\n",
      "Symbol: H\n",
      "Number: 1\n"
     ]
    }
   ],
   "source": [
    "class Element:\n",
    "    def __init__(self, name, symbol, number):\n",
    "        self.name = name\n",
    "        self.symbol = symbol\n",
    "        self.number = number\n",
    "        \n",
    "    def dump(self):\n",
    "        print('Name:', self.name)\n",
    "        print(f\"Symbol: {self.symbol}\")\n",
    "        print(f\"Number: {self.number}\")\n",
    "        \n",
    "hydrogen_dict = {\"name\": \"Hydrogen\", \"symbol\": \"H\", \"number\": 1}\n",
    "hydrogen = Element(**hydrogen_dict)\n",
    "hydrogen.dump()"
   ]
  },
  {
   "cell_type": "raw",
   "id": "c53db3af-641f-4964-9a7c-f13b2e5a344f",
   "metadata": {},
   "source": [
    "7. Call print(hydrogen). In the definition of Element, change the name of method dump to __str__,create a new hydrogen object, and call print(hydrogen) again."
   ]
  },
  {
   "cell_type": "code",
   "execution_count": 49,
   "id": "bcb5085f-9261-41fe-a055-cd91b2d16ce4",
   "metadata": {},
   "outputs": [
    {
     "name": "stdout",
     "output_type": "stream",
     "text": [
      "Hydrogen (H, 1)\n"
     ]
    }
   ],
   "source": [
    "class Element:\n",
    "    def __init__(self, name, symbol, number):\n",
    "        self.name = name\n",
    "        self.symbol = symbol\n",
    "        self.number = number\n",
    "        \n",
    "    def __str__(self):\n",
    "        return f\"{self.name} ({self.symbol}, {self.number})\"\n",
    "        \n",
    "hydrogen_dict = ({\"name\": \"Hydrogen\", \"symbol\": \"H\", \"number\": 1})\n",
    "hydrogen = Element(**hydrogen_dict)\n",
    "print(hydrogen)"
   ]
  },
  {
   "cell_type": "raw",
   "id": "5ce47687-8ae6-42d3-bd09-27d1f926631c",
   "metadata": {},
   "source": [
    "8. Modify Element to make the attributes name, symbol, and number private. Define a getter property for each to return its value."
   ]
  },
  {
   "cell_type": "code",
   "execution_count": 50,
   "id": "552363b2-c350-4ce3-b6d0-eece4c4fcd14",
   "metadata": {},
   "outputs": [],
   "source": [
    "\n",
    "class Element(): \n",
    "    def __init__(self ,name,symbol,number):\n",
    "        self.__name = name\n",
    "        self.__symbol = symbol\n",
    "        self.__number = number\n",
    "    @property\n",
    "    def name(self):\n",
    "        return (self.__name)\n",
    "    @property\n",
    "    def symbol(self):\n",
    "        return (self.__symbol)\n",
    "    @property\n",
    "    def number(self):\n",
    "        return (self.__number)"
   ]
  },
  {
   "cell_type": "code",
   "execution_count": 51,
   "id": "80dfb09d-1dcb-4e26-abe8-9a4188310dee",
   "metadata": {},
   "outputs": [
    {
     "data": {
      "text/plain": [
       "'Hydrogen'"
      ]
     },
     "execution_count": 51,
     "metadata": {},
     "output_type": "execute_result"
    }
   ],
   "source": [
    "\n",
    "hydrogen = Element('Hydrogen','H',1)\n",
    "hydrogen.name"
   ]
  },
  {
   "cell_type": "raw",
   "id": "b097c82f-21c0-447d-9d21-23fed09c2c5b",
   "metadata": {},
   "source": [
    "9. Define three classes: Bear, Rabbit, and Octothorpe. For each, define only one method: eats(). This\n",
    "should return berries (Bear), clove (Rabbit), or campers (Octothorpe). Create one object fromeach and print what it eats."
   ]
  },
  {
   "cell_type": "code",
   "execution_count": 53,
   "id": "e4765a1a-a1bf-40ac-b9ba-bf3f6f0bbd7c",
   "metadata": {},
   "outputs": [],
   "source": [
    "\n",
    "\n",
    "class Bear:\n",
    "    def eats():\n",
    "        print('berries')\n",
    "\n",
    "class Rabbit:\n",
    "    def eats():\n",
    "        print('clover')\n",
    "\n",
    "class Octothorpe:\n",
    "    def eats():\n",
    "        print('campers')"
   ]
  },
  {
   "cell_type": "code",
   "execution_count": 64,
   "id": "6907d950-b396-4bf6-a1d1-e493bee8a35e",
   "metadata": {},
   "outputs": [],
   "source": [
    "a = Bear"
   ]
  },
  {
   "cell_type": "code",
   "execution_count": 65,
   "id": "962cf73b-e15f-4960-951a-25f79e7801fe",
   "metadata": {},
   "outputs": [
    {
     "name": "stdout",
     "output_type": "stream",
     "text": [
      "berries\n"
     ]
    }
   ],
   "source": [
    "a.eats()"
   ]
  },
  {
   "cell_type": "code",
   "execution_count": 56,
   "id": "72654bdb-661d-4e5a-bbfd-165a8cf370e5",
   "metadata": {},
   "outputs": [
    {
     "name": "stdout",
     "output_type": "stream",
     "text": [
      "clover\n"
     ]
    }
   ],
   "source": [
    "Rabbit.eats()"
   ]
  },
  {
   "cell_type": "code",
   "execution_count": 57,
   "id": "3a8d84ac-9e94-4459-b522-19fa62c1f21c",
   "metadata": {},
   "outputs": [
    {
     "name": "stdout",
     "output_type": "stream",
     "text": [
      "campers\n"
     ]
    }
   ],
   "source": [
    "Octothorpe.eats()"
   ]
  },
  {
   "cell_type": "raw",
   "id": "c62c12a8-06ee-44a8-9e70-8dd65918e29c",
   "metadata": {},
   "source": [
    "10. Define these classes: Laser, Claw, and SmartPhone. Each has only one method: does(). This\n",
    "returns disintegrate (Laser),crush (Claw), or ring (SmartPhone). Then, define the class Robot that\n",
    "has one instance (object) of each of these. Define a does() method for the Robot that prints what its\n",
    "component objects do."
   ]
  },
  {
   "cell_type": "code",
   "execution_count": 66,
   "id": "95f30d1f-df5c-48ac-bcc0-18054b76d059",
   "metadata": {},
   "outputs": [],
   "source": [
    "class Laser:\n",
    "    def does(self):\n",
    "        return('disitegrate')\n",
    "class Claw:\n",
    "    def does(self):\n",
    "        return('crush')\n",
    "class SmartPhone:\n",
    "    def does(self):\n",
    "        return('ring')\n",
    "    \n",
    "class Robot:\n",
    "    def __init__(self):\n",
    "        self.laser = Laser()\n",
    "        self.claw = Claw()\n",
    "        self.smartphone = SmartPhone()\n",
    "    def does(self):\n",
    "        return ('Laser is %s, Claw is %s, SmartPhone is %s' % (self.laser.does(),self.claw.does(),self.smartphone.does()))    "
   ]
  },
  {
   "cell_type": "code",
   "execution_count": 67,
   "id": "d79b746a-144f-4aed-8935-7e8b61955942",
   "metadata": {},
   "outputs": [],
   "source": [
    "robo = Robot()"
   ]
  },
  {
   "cell_type": "code",
   "execution_count": 68,
   "id": "ee817a4a-75f7-4cce-b9fa-6601ab913b32",
   "metadata": {},
   "outputs": [
    {
     "data": {
      "text/plain": [
       "'Laser is disitegrate, Claw is crush, SmartPhone is ring'"
      ]
     },
     "execution_count": 68,
     "metadata": {},
     "output_type": "execute_result"
    }
   ],
   "source": [
    "\n",
    "robo.does()"
   ]
  },
  {
   "cell_type": "code",
   "execution_count": null,
   "id": "0def755b-0d4b-43bd-a4c9-6fe4634f7ee0",
   "metadata": {},
   "outputs": [],
   "source": []
  }
 ],
 "metadata": {
  "kernelspec": {
   "display_name": "Python 3 (ipykernel)",
   "language": "python",
   "name": "python3"
  },
  "language_info": {
   "codemirror_mode": {
    "name": "ipython",
    "version": 3
   },
   "file_extension": ".py",
   "mimetype": "text/x-python",
   "name": "python",
   "nbconvert_exporter": "python",
   "pygments_lexer": "ipython3",
   "version": "3.10.6"
  }
 },
 "nbformat": 4,
 "nbformat_minor": 5
}
