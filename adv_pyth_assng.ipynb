{
 "cells": [
  {
   "cell_type": "markdown",
   "id": "c469604c-5863-4ec3-9733-08b629ea1774",
   "metadata": {},
   "source": [
    "Q1. What is the purpose of Python&#39;s OOP?"
   ]
  },
  {
   "cell_type": "markdown",
   "id": "4a8f63bf-347a-4ab4-ad4d-4eae803f9425",
   "metadata": {},
   "source": [
    "The purpose of Python's Object-Oriented Programming (OOP) is to organize and structure code in a way that promotes modularity, reusability, and maintainability. OOP allows developers to define classes, which are blueprint templates for creating objects. Objects are instances of classes that encapsulate data (attributes) and behavior (methods) related to a specific concept or entity.\n",
    "\n",
    "By leveraging OOP principles in Python, developers can write modular, reusable, and maintainable code, making it easier to understand, debug, and enhance software applications."
   ]
  },
  {
   "cell_type": "markdown",
   "id": "41cd42b6-dd99-440f-b903-fca2354e20f1",
   "metadata": {},
   "source": [
    "Q2. Where does an inheritance search look for an attribute?"
   ]
  },
  {
   "cell_type": "markdown",
   "id": "b115d9ca-65c9-4f76-9c91-7592d35e8030",
   "metadata": {},
   "source": [
    "In Python, when an attribute is accessed on an object or an instance of a class, the inheritance search for that attribute follows a specific order known as the Method Resolution Order (MRO). The MRO determines where Python looks for the attribute when it is not found directly in the current class.\n",
    "\n",
    "The inheritance search for an attribute follows the following order:\n",
    "\n",
    "The instance itself: \n",
    "\n",
    "The class of the instance: \n",
    "\n",
    "Parent classes in the order of inheritance: \n",
    "\n",
    "Object class:"
   ]
  },
  {
   "cell_type": "markdown",
   "id": "c17c64a7-7c5a-4aa0-8925-952f4875f2c9",
   "metadata": {},
   "source": [
    "Q3. How do you distinguish between a class object and an instance object?"
   ]
  },
  {
   "cell_type": "markdown",
   "id": "d130a51c-a7c2-48dc-94c0-f1a1a9597f7a",
   "metadata": {},
   "source": [
    "A class object represents the class itself and is used to access shared attributes or methods, while an instance object represents a specific object created from the class and is used to access instance-specific attributes or methods."
   ]
  },
  {
   "cell_type": "markdown",
   "id": "10f17b4d-8940-4dd8-9c02-b68cdc00ef8f",
   "metadata": {},
   "source": [
    "Q4. What makes the first argument in a class’s method function special?"
   ]
  },
  {
   "cell_type": "markdown",
   "id": "e49ea046-0136-4064-b661-228027401d71",
   "metadata": {},
   "source": [
    "\n",
    "In Python, the first argument in a class's method function is conventionally named self, although we can technically use any name for it. This self parameter refers to the instance of the class on which the method is being called. It is a reference to the object itself."
   ]
  },
  {
   "cell_type": "markdown",
   "id": "5c0a0471-752a-4bf0-a966-060ebe38655c",
   "metadata": {},
   "source": [
    "Q5. What is the purpose of the __init__ method?"
   ]
  },
  {
   "cell_type": "markdown",
   "id": "57ef1756-7424-48c9-81ab-26a4b989c765",
   "metadata": {},
   "source": [
    "The __init__ method is a special method in Python classes that is automatically called when an object is created from the class. \n",
    "It stands for \"initialize\" and its purpose is to initialize the attributes of an object. "
   ]
  },
  {
   "cell_type": "markdown",
   "id": "aabbb267-e83e-4c61-9b81-d23d1892d0a2",
   "metadata": {},
   "source": [
    "Q6. What is the process for creating a class instance?"
   ]
  },
  {
   "cell_type": "code",
   "execution_count": null,
   "id": "fbae4904-1973-4523-9514-1a8f8df82999",
   "metadata": {},
   "outputs": [],
   "source": [
    "Call ClassName() to create a new instance of the class ClassName.\n",
    "\n",
    "class C:\n",
    "    pass\n",
    "\n",
    "an_instance = C()\n",
    "print(an_instance)"
   ]
  },
  {
   "cell_type": "markdown",
   "id": "d7aaa3fc-4cd1-4de7-aef2-ec1c54bf3029",
   "metadata": {},
   "source": [
    "Q7. What is the process for creating a class?"
   ]
  },
  {
   "cell_type": "markdown",
   "id": "44d65cb8-9c58-44f7-87b9-9e9add4153a6",
   "metadata": {},
   "source": [
    "Classes are created using class keyword.\n",
    "\n",
    "A colon (:) is used after the class name.\n",
    "\n",
    "The class is made up of attributes (data) and methods (functions).\n",
    "\n",
    "Attributes that apply to the whole class are defined first and are called class attributes.\n",
    "\n",
    "Attributes can be accessed using the dot (.) operator via objects."
   ]
  },
  {
   "cell_type": "code",
   "execution_count": null,
   "id": "f3257db2-2267-4677-8f3f-9f8b51b2c916",
   "metadata": {},
   "outputs": [],
   "source": [
    "class Animal:\n",
    "    def __init__(self, name):\n",
    "        self.name = name\n",
    "\n",
    "    def eat(self):\n",
    "        print(\"The animal is eating.\")"
   ]
  },
  {
   "cell_type": "markdown",
   "id": "5439dd48-811f-4be3-9205-fb4808cef3a1",
   "metadata": {},
   "source": [
    "Q8. How would you define the superclasses of a class?"
   ]
  },
  {
   "cell_type": "markdown",
   "id": "1c0c110d-26b5-43fe-a5f6-8362584bd8e3",
   "metadata": {},
   "source": [
    "A class that is derived from another class is called a subclass (also a derived class, extended class, or child class). The class from which the subclass is derived is called a superclass (also a base class or a parent class)."
   ]
  },
  {
   "cell_type": "code",
   "execution_count": null,
   "id": "ad92f365-2923-4937-a440-ea324a2a139a",
   "metadata": {},
   "outputs": [],
   "source": [
    "class Vehicle:\n",
    "    def move(self):\n",
    "        print(\"The vehicle is moving.\")\n",
    "\n",
    "class Car(Vehicle):\n",
    "    def start_engine(self):\n",
    "        print(\"Starting the car's engine.\")"
   ]
  }
 ],
 "metadata": {
  "kernelspec": {
   "display_name": "Python 3 (ipykernel)",
   "language": "python",
   "name": "python3"
  },
  "language_info": {
   "codemirror_mode": {
    "name": "ipython",
    "version": 3
   },
   "file_extension": ".py",
   "mimetype": "text/x-python",
   "name": "python",
   "nbconvert_exporter": "python",
   "pygments_lexer": "ipython3",
   "version": "3.10.6"
  }
 },
 "nbformat": 4,
 "nbformat_minor": 5
}
