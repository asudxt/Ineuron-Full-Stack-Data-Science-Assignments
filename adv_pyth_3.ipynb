{
 "cells": [
  {
   "cell_type": "markdown",
   "id": "0470b636-3369-4376-b6ad-1a0581f3b768",
   "metadata": {},
   "source": [
    "1. What is the concept of an abstract superclass?\n",
    "\n",
    "The concept of an abstract superclass is related to abstract classes in object-oriented programming. An abstract superclass is a class that is designed to be inherited by other classes but cannot be instantiated on its own. It serves as a blueprint or template for its subclasses, providing common attributes and behaviors that they can inherit and override.\n"
   ]
  },
  {
   "cell_type": "markdown",
   "id": "aa9f643b-00aa-4dcb-b3de-3af9948a9f1d",
   "metadata": {},
   "source": [
    "2. What happens when a class statements top level contains a basic assignment statement?\n",
    "\n",
    "When a class statement's top level contains a basic assignment statement, it creates a class attribute.\n",
    "\n",
    "A class attribute is a variable defined at the class level and is shared among all instances of that class. It is accessible through both the class itself and its instances."
   ]
  },
  {
   "cell_type": "markdown",
   "id": "1914c6d1-4fae-4930-90fc-483420864fe8",
   "metadata": {},
   "source": [
    "3. Why does a class need to manually call a superclass&#39;s __init__ method?\n",
    "\n",
    "A class needs to manually call a superclass's __init__ method to ensure that the superclass's initialization code is executed.\n",
    "\n",
    "When a subclass inherits from a superclass, it does not automatically inherit the superclass's __init__ method. Instead, the subclass needs to explicitly call the superclass's __init__ method within its own __init__ method to invoke the superclass's initialization logic."
   ]
  },
  {
   "cell_type": "markdown",
   "id": "2b5e45de-4a8e-43ff-9aaf-d4fa0d2f5000",
   "metadata": {},
   "source": [
    "4. How can you augment, instead of completely replacing, an inherited method?\n",
    "\n",
    "To augment an inherited method, instead of completely replacing it, you can use method overriding. Method overriding allows a subclass to provide its own implementation of a method inherited from the superclass while still retaining the basic functionality of the superclass's method."
   ]
  },
  {
   "cell_type": "markdown",
   "id": "378a9fa3-e3df-4f38-84ed-16461536ca6b",
   "metadata": {},
   "source": [
    "5. How is the local scope of a class different from that of a function?\n",
    "\n",
    "Overall, the main difference is that the local scope of a class is accessible to all methods within the class and is associated with instances of the class, while the local scope of a function is limited to the function itself and is created and destroyed with each function call."
   ]
  }
 ],
 "metadata": {
  "kernelspec": {
   "display_name": "Python 3 (ipykernel)",
   "language": "python",
   "name": "python3"
  },
  "language_info": {
   "codemirror_mode": {
    "name": "ipython",
    "version": 3
   },
   "file_extension": ".py",
   "mimetype": "text/x-python",
   "name": "python",
   "nbconvert_exporter": "python",
   "pygments_lexer": "ipython3",
   "version": "3.10.6"
  }
 },
 "nbformat": 4,
 "nbformat_minor": 5
}
