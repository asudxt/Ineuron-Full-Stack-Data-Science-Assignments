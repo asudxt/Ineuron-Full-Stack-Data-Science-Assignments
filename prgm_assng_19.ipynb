{
 "cells": [
  {
   "cell_type": "markdown",
   "id": "adc7d0d0-ff77-4205-863f-5d6f144170a3",
   "metadata": {},
   "source": [
    "Question1\n",
    "Create a function that takes a string and returns a string in which each character is repeated\n",
    "once.\n",
    "Examples\n",
    "double_char(&quot;String&quot;) ➞ &quot;SSttrriinngg&quot;\n",
    "double_char(&quot;Hello World!&quot;) ➞ &quot;HHeelllloo WWoorrlldd!!&quot;\n",
    "double_char(&quot;1234!_ &quot;) ➞ &quot;11223344!!__ &quot;"
   ]
  },
  {
   "cell_type": "code",
   "execution_count": 2,
   "id": "e5635c36-a315-49bb-82aa-f3d0729da1cc",
   "metadata": {},
   "outputs": [
    {
     "name": "stdout",
     "output_type": "stream",
     "text": [
      "SSttrriinngg\n",
      "HHeelllloo  WWoorrlldd!!\n",
      "11223344!!__  \n"
     ]
    }
   ],
   "source": [
    "def double_char(string):\n",
    "    doubled_string = \"\"\n",
    "    for char in string:\n",
    "        doubled_string += char * 2\n",
    "    return doubled_string\n",
    "print(double_char(\"String\")) \n",
    "print(double_char(\"Hello World!\"))  \n",
    "print(double_char(\"1234!_ \")) \n"
   ]
  },
  {
   "cell_type": "markdown",
   "id": "61bec6cf-d68c-4c95-931c-a4d61db30830",
   "metadata": {},
   "source": [
    "Question2\n",
    "Create a function that reverses a boolean value and returns the string &quot;boolean expected&quot;\n",
    "if another variable type is given.\n",
    "Examples\n",
    "reverse(True) ➞ False\n",
    "reverse(False) ➞ True\n",
    "reverse(0) ➞ &quot;boolean expected&quot;\n",
    "reverse(None) ➞ &quot;boolean expected&quot;"
   ]
  },
  {
   "cell_type": "code",
   "execution_count": null,
   "id": "ab2196ec-e900-4939-b4bc-51f7c744e12e",
   "metadata": {},
   "outputs": [],
   "source": [
    "def reverse(boolean):\n",
    "    if isinstance(boolean, bool):\n",
    "        return not boolean\n",
    "    else:\n",
    "        return \"boolean expected\"\n",
    "\n",
    "print(reverse(True))  \n",
    "print(reverse(False))  \n",
    "print(reverse(0))  \n",
    "print(reverse(None))  l\n"
   ]
  },
  {
   "cell_type": "markdown",
   "id": "e0621653-6f9d-4d78-b3f6-58d1ed0baa0e",
   "metadata": {},
   "source": [
    "Question3\n",
    "Create a function that returns the thickness (in meters) of a piece of paper after folding it n\n",
    "number of times. The paper starts off with a thickness of 0.5mm.\n",
    "Examples\n",
    "num_layers(1) ➞ &quot;0.001m&quot;\n",
    "# Paper folded once is 1mm (equal to 0.001m)\n",
    "num_layers(4) ➞ &quot;0.008m&quot;\n",
    "# Paper folded 4 times is 8mm (equal to 0.008m)\n",
    "num_layers(21) ➞ &quot;1048.576m&quot;\n",
    "# Paper folded 21 times is 1048576mm (equal to 1048.576m)"
   ]
  },
  {
   "cell_type": "code",
   "execution_count": 3,
   "id": "1e33c2e2-0da9-466a-b990-f08970424bee",
   "metadata": {},
   "outputs": [
    {
     "name": "stdout",
     "output_type": "stream",
     "text": [
      "0.001m\n",
      "0.008m\n",
      "1048.576m\n"
     ]
    }
   ],
   "source": [
    "def num_layers(num_folds):\n",
    "    initial_thickness = 0.5\n",
    "    thickness = initial_thickness * (2 ** num_folds)\n",
    "    thickness_meters = thickness / 1000\n",
    "    return f\"{thickness_meters:.3f}m\"\n",
    "\n",
    "\n",
    "print(num_layers(1))  # Output: \"0.001m\"\n",
    "print(num_layers(4))  # Output: \"0.008m\"\n",
    "print(num_layers(21))  # Output: \"1048.576m\""
   ]
  },
  {
   "cell_type": "markdown",
   "id": "7c4f0268-354c-48e8-be60-66e13655a04a",
   "metadata": {},
   "source": [
    "Question4\n",
    "\n",
    "Create a function that takes a single string as argument and returns an ordered list containing\n",
    "the indices of all capital letters in the string.\n",
    "Examples\n",
    "index_of_caps(&quot;eDaBiT&quot;) ➞ [1, 3, 5]\n",
    "index_of_caps(&quot;eQuINoX&quot;) ➞ [1, 3, 4, 6]\n",
    "index_of_caps(&quot;determine&quot;) ➞ []\n",
    "index_of_caps(&quot;STRIKE&quot;) ➞ [0, 1, 2, 3, 4, 5]\n",
    "index_of_caps(&quot;sUn&quot;) ➞ [1]"
   ]
  },
  {
   "cell_type": "code",
   "execution_count": 6,
   "id": "ae1e01d7-ff8f-435d-9ff4-53efd348a782",
   "metadata": {},
   "outputs": [
    {
     "name": "stdout",
     "output_type": "stream",
     "text": [
      "[1, 3, 5]\n",
      "[]\n",
      "[0, 1, 2, 3, 4, 5]\n",
      "[1]\n"
     ]
    }
   ],
   "source": [
    "def index_of_caps(word):\n",
    "    indices = []\n",
    "    for i, char in enumerate(word):\n",
    "        if char.isupper():\n",
    "            indices.append(i)\n",
    "    return indices\n",
    "\n",
    "print(index_of_caps(\"eDaBiT\")) \n",
    "print(index_of_caps(\"determine\"))  \n",
    "print(index_of_caps(\"STRIKE\"))  \n",
    "print(index_of_caps(\"sUn\"))  "
   ]
  },
  {
   "cell_type": "code",
   "execution_count": null,
   "id": "4841cf88-275d-40bc-97c9-cac6226b5612",
   "metadata": {},
   "outputs": [],
   "source": [
    "Question5\n",
    "Using list comprehensions, create a function that finds all even numbers from 1 to the given\n",
    "number.\n",
    "Examples\n",
    "find_even_nums(8) ➞ [2, 4, 6, 8]\n",
    "find_even_nums(4) ➞ [2, 4]\n",
    "find_even_nums(2) ➞ [2]"
   ]
  },
  {
   "cell_type": "code",
   "execution_count": 2,
   "id": "d5643f9d-c63d-448e-83eb-fa2ea6664c06",
   "metadata": {},
   "outputs": [
    {
     "name": "stdout",
     "output_type": "stream",
     "text": [
      "[2, 4, 6, 8]\n",
      "[2, 4]\n",
      "[2]\n"
     ]
    }
   ],
   "source": [
    "def find_even_nums(n):\n",
    "    return [n for n in range(1, n+1) if n % 2 == 0]\n",
    "\n",
    "print(find_even_nums(8))  \n",
    "print(find_even_nums(4))  \n",
    "print(find_even_nums(2))  \n"
   ]
  }
 ],
 "metadata": {
  "kernelspec": {
   "display_name": "Python 3 (ipykernel)",
   "language": "python",
   "name": "python3"
  },
  "language_info": {
   "codemirror_mode": {
    "name": "ipython",
    "version": 3
   },
   "file_extension": ".py",
   "mimetype": "text/x-python",
   "name": "python",
   "nbconvert_exporter": "python",
   "pygments_lexer": "ipython3",
   "version": "3.10.6"
  }
 },
 "nbformat": 4,
 "nbformat_minor": 5
}
