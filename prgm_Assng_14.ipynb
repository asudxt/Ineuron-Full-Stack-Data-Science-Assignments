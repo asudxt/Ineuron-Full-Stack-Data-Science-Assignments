{
 "cells": [
  {
   "cell_type": "markdown",
   "id": "9e6412a6-f596-4c0a-8f95-e5600361615d",
   "metadata": {},
   "source": [
    "Question 1:\n",
    "Define a class with a generator which can iterate the numbers, which are divisible by\n",
    "7, between a given range 0 and n."
   ]
  },
  {
   "cell_type": "code",
   "execution_count": 10,
   "id": "459196a9-43c6-4665-86d3-660e1152a75e",
   "metadata": {},
   "outputs": [
    {
     "name": "stdout",
     "output_type": "stream",
     "text": [
      "0\n",
      "7\n",
      "14\n",
      "21\n",
      "28\n",
      "35\n",
      "42\n",
      "49\n"
     ]
    }
   ],
   "source": [
    "class DivisibleBy7:\n",
    "    def divisible_by_7(self, n):\n",
    "        for num in range(n+1):\n",
    "            if num % 7 == 0:\n",
    "                yield num\n",
    "\n",
    "\n",
    "divisible_nums = DivisibleBy7()\n",
    "\n",
    "for num in divisible_nums.divisible_by_7(50):\n",
    "    print(num)\n"
   ]
  },
  {
   "cell_type": "markdown",
   "id": "f82ca3ef-6847-4ed7-93d6-6c7697a484ea",
   "metadata": {},
   "source": [
    "Question 2:\n",
    "Write a program to compute the frequency of the words from the input. The output\n",
    "should output after sorting the key alphanumerically.\n",
    "Suppose the following input is supplied to the program:\n",
    "New to Python or choosing between Python 2 and Python 3? Read Python 2 or\n",
    "Python 3.\n",
    "Then, the output should be:\n",
    "2:2\n",
    "3.:1\n",
    "3?:1\n",
    "New:1\n",
    "Python:5\n",
    "Read:1\n",
    "and:1\n",
    "between:1\n",
    "choosing:1\n",
    "or:2\n",
    "to:1"
   ]
  },
  {
   "cell_type": "code",
   "execution_count": 2,
   "id": "ff60a97d-3ad6-4c92-acba-529c62a8a697",
   "metadata": {},
   "outputs": [
    {
     "name": "stdout",
     "output_type": "stream",
     "text": [
      "2:2\n",
      "3.:1\n",
      "3?:1\n",
      "New:1\n",
      "Python:5\n",
      "Read:1\n",
      "and:1\n",
      "between:1\n",
      "choosing:1\n",
      "or:2\n",
      "to:1\n"
     ]
    }
   ],
   "source": [
    "def word_frequency(input_string):\n",
    "\n",
    "    words = input_string.split()\n",
    "\n",
    "\n",
    "    frequency = {}\n",
    "\n",
    "    for word in words:\n",
    "        frequency[word] = frequency.get(word, 0) + 1\n",
    "\n",
    "    sorted_frequency = sorted(frequency.items())\n",
    "\n",
    "    # Print the word frequencies\n",
    "    for word, count in sorted_frequency:\n",
    "        print(f\"{word}:{count}\")\n",
    "\n",
    "input_string = \"New to Python or choosing between Python 2 and Python 3? Read Python 2 or Python 3.\"\n",
    "word_frequency(input_string)\n"
   ]
  },
  {
   "cell_type": "markdown",
   "id": "5db65557-22aa-4a29-9600-420dc54265ad",
   "metadata": {},
   "source": [
    "Question 3:\n",
    "\n",
    "Define a class Person and its two child classes: Male and Female. All classes have a\n",
    "method &quot;getGender&quot; which can print &quot;Male&quot; for Male class and &quot;Female&quot; for Female\n",
    "class."
   ]
  },
  {
   "cell_type": "code",
   "execution_count": 6,
   "id": "a8375281-af4a-4c58-9941-8aa3397022dc",
   "metadata": {},
   "outputs": [
    {
     "name": "stdout",
     "output_type": "stream",
     "text": [
      "Unknown\n",
      "Male\n",
      "Female\n"
     ]
    }
   ],
   "source": [
    "class Person:\n",
    "    def getGender(self):\n",
    "        print(\"Unknown\")\n",
    "\n",
    "\n",
    "class Male(Person):\n",
    "    def getGender(self):\n",
    "        print(\"Male\")\n",
    "\n",
    "\n",
    "class Female(Person):\n",
    "    def getGender(self):\n",
    "        print(\"Female\")\n",
    "\n",
    "\n",
    "# Test the classes\n",
    "person = Person()\n",
    "person.getGender()  # Output: Unknown\n",
    "\n",
    "male = Male()\n",
    "male.getGender()  # Output: Male\n",
    "\n",
    "female = Female()\n",
    "female.getGender()  # Output: Female\n"
   ]
  },
  {
   "cell_type": "markdown",
   "id": "23a47a30-fa03-48a9-9c12-67d712acd533",
   "metadata": {},
   "source": [
    "Question 4:\n",
    "Please write a program to generate all sentences where subject is in [&quot;I&quot;, &quot;You&quot;] and\n",
    "verb is in [&quot;Play&quot;, &quot;Love&quot;] and the object is in [&quot;Hockey&quot;,&quot;Football&quot;]."
   ]
  },
  {
   "cell_type": "code",
   "execution_count": 7,
   "id": "fb7cbeb7-ca29-4e3b-afa3-b105768c2660",
   "metadata": {},
   "outputs": [
    {
     "name": "stdout",
     "output_type": "stream",
     "text": [
      "I Play Hockey.\n",
      "I Play Football.\n",
      "I Love Hockey.\n",
      "I Love Football.\n",
      "You Play Hockey.\n",
      "You Play Football.\n",
      "You Love Hockey.\n",
      "You Love Football.\n"
     ]
    }
   ],
   "source": [
    "subjects = [\"I\", \"You\"]\n",
    "verbs = [\"Play\", \"Love\"]\n",
    "objects = [\"Hockey\", \"Football\"]\n",
    "\n",
    "sentences = []\n",
    "\n",
    "for subject in subjects:\n",
    "    for verb in verbs:\n",
    "        for obj in objects:\n",
    "            sentence = f\"{subject} {verb} {obj}.\"\n",
    "            sentences.append(sentence)\n",
    "\n",
    "# Print the generated sentences\n",
    "for sentence in sentences:\n",
    "    print(sentence)"
   ]
  },
  {
   "cell_type": "markdown",
   "id": "cb90c384-b924-44b9-85d1-04d5f5f4fce5",
   "metadata": {},
   "source": [
    "Question 5:\n",
    "Please write a program to compress and decompress the string &quot;hello world!hello\n",
    "world!hello world!hello world!&quot;."
   ]
  },
  {
   "cell_type": "code",
   "execution_count": 3,
   "id": "5c5af2bf-2884-4e17-bbc5-405ebbfd4d96",
   "metadata": {},
   "outputs": [
    {
     "name": "stdout",
     "output_type": "stream",
     "text": [
      "Original string: hello world!hello world!hello world!hello world!\n",
      "Compressed data: b'\\x1f\\x8b\\x08\\x00\\x17\\x08ed\\x02\\xff\\xcbH\\xcd\\xc9\\xc9W(\\xcf/\\xcaIQ\\xcc \\x82\\r\\x00\\xd3\\xe6\\xcf\\xae0\\x00\\x00\\x00'\n",
      "Decompressed string: hello world!hello world!hello world!hello world!\n"
     ]
    }
   ],
   "source": [
    "import gzip\n",
    "\n",
    "def compress_string(string):\n",
    "    compressed_data = gzip.compress(string.encode())\n",
    "    return compressed_data\n",
    "\n",
    "def decompress_string(compressed_data):\n",
    "    decompressed_data = gzip.decompress(compressed_data).decode()\n",
    "    return decompressed_data\n",
    "\n",
    "# Example usage\n",
    "original_string = \"hello world!hello world!hello world!hello world!\"\n",
    "compressed_data = compress_string(original_string)\n",
    "decompressed_string = decompress_string(compressed_data)\n",
    "\n",
    "print(\"Original string:\", original_string)\n",
    "print(\"Compressed data:\", compressed_data)\n",
    "print(\"Decompressed string:\", decompressed_string)\n"
   ]
  },
  {
   "cell_type": "code",
   "execution_count": null,
   "id": "1edbf54b-a076-4c8a-a7ca-cca09b86ab4e",
   "metadata": {},
   "outputs": [],
   "source": [
    "Question 6:\n",
    "Please write a binary search function which searches an item in a sorted list. The\n",
    "function should return the index of element to be searched in the list."
   ]
  },
  {
   "cell_type": "code",
   "execution_count": 9,
   "id": "65270672-d175-432e-b20b-d73860409902",
   "metadata": {},
   "outputs": [
    {
     "name": "stdout",
     "output_type": "stream",
     "text": [
      "Item found at index 5\n"
     ]
    }
   ],
   "source": [
    "def binary_search(arr, target):\n",
    "    left = 0\n",
    "    right = len(arr) - 1\n",
    "    \n",
    "    while left <= right:\n",
    "        mid = (left + right) // 2\n",
    "        \n",
    "        if arr[mid] == target:\n",
    "            return mid\n",
    "        elif arr[mid] < target:\n",
    "            left = mid + 1\n",
    "        else:\n",
    "            right = mid - 1\n",
    "    \n",
    "    return -1\n",
    "\n",
    "my_list = [2, 4, 6, 8, 10, 12, 14, 16, 18, 20]\n",
    "target = 12\n",
    "\n",
    "index = binary_search(my_list, target)\n",
    "if index != -1:\n",
    "    print(f\"Item found at index {index}\")\n",
    "else:\n",
    "    print(\"Item not found\")"
   ]
  },
  {
   "cell_type": "code",
   "execution_count": null,
   "id": "9ece3511-fb2b-472b-8371-38fd659f0bb5",
   "metadata": {},
   "outputs": [],
   "source": [
    "git main"
   ]
  }
 ],
 "metadata": {
  "kernelspec": {
   "display_name": "Python 3 (ipykernel)",
   "language": "python",
   "name": "python3"
  },
  "language_info": {
   "codemirror_mode": {
    "name": "ipython",
    "version": 3
   },
   "file_extension": ".py",
   "mimetype": "text/x-python",
   "name": "python",
   "nbconvert_exporter": "python",
   "pygments_lexer": "ipython3",
   "version": "3.10.6"
  }
 },
 "nbformat": 4,
 "nbformat_minor": 5
}
