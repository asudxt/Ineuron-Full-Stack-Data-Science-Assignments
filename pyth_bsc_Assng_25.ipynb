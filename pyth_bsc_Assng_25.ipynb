{
 "cells": [
  {
   "cell_type": "markdown",
   "id": "b25c233f-56be-4d3e-84ee-5d1e23c5e50d",
   "metadata": {},
   "source": [
    "1) . What is the difference between enclosing a list comprehension in square brackets and\n",
    "parentheses?"
   ]
  },
  {
   "cell_type": "code",
   "execution_count": 1,
   "id": "798b8cae-ad9c-4294-9ad5-4a4053fd13b1",
   "metadata": {},
   "outputs": [
    {
     "data": {
      "text/plain": [
       "[0, 1, 2, 3, 4, 5, 6, 7, 8, 9]"
      ]
     },
     "execution_count": 1,
     "metadata": {},
     "output_type": "execute_result"
    }
   ],
   "source": [
    "lst = [i for i in range(10)]\n",
    "lst\n",
    "#List Comprehension with square brackets produces list."
   ]
  },
  {
   "cell_type": "code",
   "execution_count": 2,
   "id": "b0e92993-c7bc-45a1-806a-c73b8c297ea2",
   "metadata": {},
   "outputs": [
    {
     "data": {
      "text/plain": [
       "<generator object <genexpr> at 0x7ffaf5788270>"
      ]
     },
     "execution_count": 2,
     "metadata": {},
     "output_type": "execute_result"
    }
   ],
   "source": [
    "lstParanthesis = (i for i in range(10))\n",
    "lstParanthesis\n",
    "#List Comprehension with parentheses creates generators"
   ]
  },
  {
   "cell_type": "markdown",
   "id": "3e0369c8-42bd-4d84-8085-d37f937065dc",
   "metadata": {},
   "source": [
    "2) What is the relationship between generators and iterators?"
   ]
  },
  {
   "cell_type": "markdown",
   "id": "391f595e-969b-4692-85f8-be0f99c74fac",
   "metadata": {},
   "source": [
    "Ans. An iterator is an object which contains a countable number of values and it is used to iterate over iterable objects like list, tuples etc\n",
    "Using an iterator- iter() keyword is used to create an iterator containing an iterable object. next() keyword is used to call the next element in the iterable object.\n",
    "\n",
    "Generator\n",
    "It is another way of creating iterators in a simple way where it uses the keyword “yield” instead of returning it in a defined function Generators are implemented using a function Here, the yield function returns the data without affecting or exiting the function. It will return a sequence of data in an iterable format where we need to iterate over the sequence to use the data as they won’t store the entire sequence in the memory By using next() function we can iterate the output of generator function"
   ]
  },
  {
   "cell_type": "code",
   "execution_count": 4,
   "id": "d65fb4c7-e7aa-4d84-9c83-89d21f04cc49",
   "metadata": {},
   "outputs": [
    {
     "name": "stdout",
     "output_type": "stream",
     "text": [
      "Dog\n",
      "CAt\n",
      "Bear\n"
     ]
    }
   ],
   "source": [
    "# iterator\n",
    "iter_list = iter(['Dog', 'CAt', 'Bear'])\n",
    "print(next(iter_list))\n",
    "print(next(iter_list))\n",
    "print(next(iter_list)) "
   ]
  },
  {
   "cell_type": "code",
   "execution_count": 6,
   "id": "9451fd33-ea3f-44d2-afa9-04bc6936b5fa",
   "metadata": {},
   "outputs": [],
   "source": [
    "# GEnerator \n",
    "\n",
    "def sq(n):\n",
    "    for i in range(1, n+1):\n",
    "        yield i*i"
   ]
  },
  {
   "cell_type": "code",
   "execution_count": 7,
   "id": "de6fd4ed-fec0-486c-82e0-a9f86e646f6e",
   "metadata": {},
   "outputs": [
    {
     "data": {
      "text/plain": [
       "<generator object sq at 0x7ffaec5ee570>"
      ]
     },
     "execution_count": 7,
     "metadata": {},
     "output_type": "execute_result"
    }
   ],
   "source": [
    "sq(6)"
   ]
  },
  {
   "cell_type": "code",
   "execution_count": 8,
   "id": "8bba993d-b414-49c8-8cbe-73f8512210b3",
   "metadata": {},
   "outputs": [
    {
     "data": {
      "text/plain": [
       "<generator object sq at 0x7ffaec5ee9d0>"
      ]
     },
     "execution_count": 8,
     "metadata": {},
     "output_type": "execute_result"
    }
   ],
   "source": [
    "lst = sq(6)\n",
    "lst"
   ]
  },
  {
   "cell_type": "code",
   "execution_count": 9,
   "id": "c3769a0c-3cc7-4464-96a2-bfcd88832e8c",
   "metadata": {},
   "outputs": [
    {
     "name": "stdout",
     "output_type": "stream",
     "text": [
      "1\n",
      "4\n",
      "9\n",
      "16\n"
     ]
    }
   ],
   "source": [
    "print(next(lst))\n",
    "print(next(lst))\n",
    "print(next(lst))\n",
    "print(next(lst))"
   ]
  },
  {
   "cell_type": "markdown",
   "id": "6f803e6a-a9da-433a-aad1-0cd8f8a15370",
   "metadata": {},
   "source": [
    "3) What are the signs that a function is a generator function?"
   ]
  },
  {
   "cell_type": "markdown",
   "id": "06993e8d-8778-4ab9-8d56-212ff4b29d9e",
   "metadata": {},
   "source": [
    "Ans. If a function contains at least one yield statement (it may contain other yield or return statements), it becomes a generator function. Both yield and return will return some value from a function."
   ]
  },
  {
   "cell_type": "markdown",
   "id": "60d0df72-18a9-4c22-929f-d18dfe0adfa0",
   "metadata": {},
   "source": [
    "4) What is the purpose of a yield statement?"
   ]
  },
  {
   "cell_type": "markdown",
   "id": "8f7c72a8-fff4-485d-845e-0277895cde99",
   "metadata": {},
   "source": [
    "Ans. A yield statement looks much like a return statement, except that instead of stopping execution of the function and\n",
    "returning, yield instead provides a value to the code looping over the generator and pauses execution of the generator function"
   ]
  },
  {
   "cell_type": "markdown",
   "id": "b9b6c6b3-859c-4a22-93df-4697bd7d288a",
   "metadata": {},
   "source": [
    "5) What is the relationship between map calls and list comprehensions? Make a comparison and\n",
    "contrast between the two."
   ]
  },
  {
   "cell_type": "markdown",
   "id": "ec24b735-638a-4f54-ab5c-e67ec029cfcd",
   "metadata": {},
   "source": [
    "Ans.\n",
    "\n",
    "Map function:\n",
    "Suppose we have a function and we want to compute this function for different values in a single line of code . This is where map() function plays its role. map() function returns a map object(which is an iterator) of the results after applying the given function to each item of a given iterable (list, tuple etc.)\n",
    "\n",
    "If we already have a function defined, it is often good to use map For example, map(sum, myLists) is more neat than [sum(x) for x in myLists]. You gain the elegance of not having to make up a dummy variable (e.g. sum(x) for x... or sum(_) for _... or sum(readableName) for readableName...) which you have to type twice, just to iterate.\n",
    "\n",
    "List Comprehension:\n",
    "\n",
    "List Comprehension is a substitute for the lambda function, map(), filter() and reduce()\n",
    "\n",
    "Comparision :\n",
    "List comprehension is more concise and easier to read as compared to map\n",
    "\n",
    "List comprehension allows filtering. In map, we have no such facilityFor example, to print all even numbers in range of 100, we can write [n for n in range(100) if n%2 == 0]. There is no alternate for it in map \n",
    "\n",
    "3. List comprehension are used when a list of results is required, where as map only returns a map object and does not return any list. \n",
    "\n",
    "4. List comprehension is faster than map when we need to evaluate expressions that are too long or complicated to express 5. Map is faster in case of calling an already defined function (as no lambda is required)"
   ]
  }
 ],
 "metadata": {
  "kernelspec": {
   "display_name": "Python 3 (ipykernel)",
   "language": "python",
   "name": "python3"
  },
  "language_info": {
   "codemirror_mode": {
    "name": "ipython",
    "version": 3
   },
   "file_extension": ".py",
   "mimetype": "text/x-python",
   "name": "python",
   "nbconvert_exporter": "python",
   "pygments_lexer": "ipython3",
   "version": "3.10.6"
  }
 },
 "nbformat": 4,
 "nbformat_minor": 5
}
