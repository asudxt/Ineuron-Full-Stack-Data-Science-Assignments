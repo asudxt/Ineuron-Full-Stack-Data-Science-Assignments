{
 "cells": [
  {
   "cell_type": "raw",
   "id": "389a85b3-0623-41cf-b796-a2bbccd2ceae",
   "metadata": {},
   "source": [
    "1. What is the result of the code, and explain?\n",
    "\n",
    "X = iNeuron\n",
    "def func():\n",
    "print(X)\n",
    "func()"
   ]
  },
  {
   "cell_type": "code",
   "execution_count": null,
   "id": "5e4eb3a2-4bff-4915-aadf-aed62d1f0bd6",
   "metadata": {},
   "outputs": [],
   "source": [
    " X = 'iNeuron'\n",
    "def func():\n",
    "    print(X)"
   ]
  },
  {
   "cell_type": "code",
   "execution_count": 14,
   "id": "f44e5d4c-a8ff-4a68-a712-875d2ba9476a",
   "metadata": {},
   "outputs": [
    {
     "name": "stdout",
     "output_type": "stream",
     "text": [
      "iNeuron\n"
     ]
    }
   ],
   "source": [
    "func()"
   ]
  },
  {
   "cell_type": "markdown",
   "id": "8f820467-c9ec-4832-88eb-edc2ba96939d",
   "metadata": {},
   "source": [
    "The global variables are accessible in side the functions in python. \n",
    "But we can not access function variable out side function. \n",
    "Since x is global variable we are able to print it in side the function solution : 'iNeuron'"
   ]
  },
  {
   "cell_type": "raw",
   "id": "9442fb0c-b8e2-4bfb-814c-114053662a79",
   "metadata": {},
   "source": [
    "2. What is the result of the code, and explain?\n",
    "\n",
    "X = 'iNeuron'\n",
    "def func():\n",
    "    X = 'NI!'\n",
    "func()\n",
    "print(X)"
   ]
  },
  {
   "cell_type": "code",
   "execution_count": 10,
   "id": "9acd8667-abb2-43d6-b440-9e9ff45a1e47",
   "metadata": {},
   "outputs": [
    {
     "name": "stdout",
     "output_type": "stream",
     "text": [
      "iNeuron\n"
     ]
    }
   ],
   "source": [
    "X = 'iNeuron'\n",
    "def func():\n",
    "    X = 'NI!'\n",
    "\n",
    "func()\n",
    "print(X)"
   ]
  },
  {
   "cell_type": "markdown",
   "id": "4b004377-1fca-491d-9dc7-261e3c6b8b66",
   "metadata": {},
   "source": [
    "In the func() function, a new variable X is defined with the value 'NI!'.\n",
    "However, this X variable is local to the function and does not affect the global variable X defined outside the function.\n",
    "Therefore, when print(X) is called outside the function, it prints the original value of X, which is 'iNeuron'."
   ]
  },
  {
   "cell_type": "raw",
   "id": "beac9c6b-f209-4cc6-9687-72b7c1b02632",
   "metadata": {},
   "source": [
    "3. What does this code print, and why?\n",
    "\n",
    " X =iNeuron\n",
    "\n",
    "def func():\n",
    "X = NI\n",
    "print(X)\n",
    "\n",
    " func()\n",
    " print(X)"
   ]
  },
  {
   "cell_type": "code",
   "execution_count": 24,
   "id": "59df166b-ac8c-46a4-965e-3fd435e8f1b2",
   "metadata": {},
   "outputs": [
    {
     "name": "stdout",
     "output_type": "stream",
     "text": [
      "NI\n",
      "iNeuron\n"
     ]
    }
   ],
   "source": [
    " X = 'iNeuron'\n",
    "def func():\n",
    "    \n",
    "    X = 'NI' \n",
    "    print(X)\n",
    "func()\n",
    "print(X)"
   ]
  },
  {
   "cell_type": "markdown",
   "id": "a8db5fe6-559c-4dae-a59a-c1ccb0014ce8",
   "metadata": {},
   "source": [
    "Inside the func function, there is a new variable X defined with the value \"NI\". This variable is local to the function and has no effect on the global variable X defined outside the function. So, when we call func(), it prints \"NI\" as expected.\n",
    "\n",
    "When we print X after calling func(), it still prints the global variable X which has the value \"iNeuron\"."
   ]
  },
  {
   "cell_type": "raw",
   "id": "7889e638-dd19-47a1-97ac-275fbf3f5395",
   "metadata": {},
   "source": [
    "4. What output does this code produce? Why?\n",
    "\n",
    " X = iNeuron\n",
    "def func():\n",
    "global X\n",
    "X = NI\n",
    "\n",
    "func()\n",
    "print(X)"
   ]
  },
  {
   "cell_type": "code",
   "execution_count": 28,
   "id": "18923ab4-d415-491c-88bc-44cf23f9febe",
   "metadata": {},
   "outputs": [
    {
     "name": "stdout",
     "output_type": "stream",
     "text": [
      "NI\n"
     ]
    }
   ],
   "source": [
    " X = 'iNeuron'\n",
    "def func():\n",
    "    global X\n",
    "X = 'NI'\n",
    "\n",
    "func()\n",
    "print(X)"
   ]
  },
  {
   "cell_type": "markdown",
   "id": "8d279dcc-657a-4371-b583-db04b3a23e63",
   "metadata": {},
   "source": [
    "In this example, x is defined as a global variable with the value of 'ineuron'. The function func() is defined to modify the global variable by 'NI' to it and then print the updated value. By using the global keyword, the function is able to access and modify the global variable x inside the function."
   ]
  },
  {
   "cell_type": "raw",
   "id": "3475c1e2-c73d-4172-9059-10beea5bd747",
   "metadata": {},
   "source": [
    "5. What about this code—what’s the output, and why?\n",
    "\n",
    "X = 'iNeuron'\n",
    "def func():\n",
    "X = 'NI'\n",
    "def nested():\n",
    "print(X)\n",
    "nested()\n",
    "\n",
    "func()\n",
    " X"
   ]
  },
  {
   "cell_type": "code",
   "execution_count": 31,
   "id": "9a2dd013-4359-44fd-966d-95de159b9948",
   "metadata": {},
   "outputs": [
    {
     "name": "stdout",
     "output_type": "stream",
     "text": [
      "NI\n",
      "iNeuron\n"
     ]
    }
   ],
   "source": [
    "X = 'iNeuron'\n",
    "def func():\n",
    "    X = 'NI'\n",
    "    def nested():\n",
    "        print(X)\n",
    "    nested()\n",
    "\n",
    "func()\n",
    "print(X)"
   ]
  },
  {
   "cell_type": "markdown",
   "id": "916baa31-2433-4474-8deb-fef438417f2b",
   "metadata": {},
   "source": [
    "When the function func() is called, it defines a new variable X with the value 'NI' within its scope. Then, it calls the nested function nested(), which prints the value of X, which is 'NI' within its scope. Finally, when the print(X) statement is executed outside of the function func(), it prints the value of the global variable X, which is 'iNeuron'."
   ]
  },
  {
   "cell_type": "raw",
   "id": "3b5771b6-832d-4200-8231-2b88b130d25e",
   "metadata": {},
   "source": [
    "6. How about this code: what is its output in Python 3, and explain?\n",
    "\n",
    "def func():\n",
    "    X = 'NI'\n",
    "    def nested():\n",
    "        nonlocal X\n",
    "        X = 'Spam'\n",
    "    nested()\n",
    "    print(X)\n",
    "func()"
   ]
  },
  {
   "cell_type": "code",
   "execution_count": 36,
   "id": "85ef4ced-807b-4e9f-88bb-343b127e789d",
   "metadata": {},
   "outputs": [
    {
     "name": "stdout",
     "output_type": "stream",
     "text": [
      "spam\n"
     ]
    }
   ],
   "source": [
    "def func():\n",
    "    X = 'NI'\n",
    "    def nested():\n",
    "        nonlocal X\n",
    "        X = 'spam'\n",
    "    nested()\n",
    "    print(X)\n",
    "\n",
    "func()\n"
   ]
  },
  {
   "cell_type": "markdown",
   "id": "e7ed3aef-108d-4e66-9c79-d0a5b8ea3524",
   "metadata": {},
   "source": [
    "In this code, there is a nested function nested() which modifies the value of X using the nonlocal keyword. The nonlocal keyword allows the nested function to modify a variable that is defined in the enclosing function."
   ]
  },
  {
   "cell_type": "code",
   "execution_count": null,
   "id": "c096b4bb-6dc3-4fa5-ae8a-f626f3dd7ec7",
   "metadata": {},
   "outputs": [],
   "source": []
  }
 ],
 "metadata": {
  "kernelspec": {
   "display_name": "Python 3 (ipykernel)",
   "language": "python",
   "name": "python3"
  },
  "language_info": {
   "codemirror_mode": {
    "name": "ipython",
    "version": 3
   },
   "file_extension": ".py",
   "mimetype": "text/x-python",
   "name": "python",
   "nbconvert_exporter": "python",
   "pygments_lexer": "ipython3",
   "version": "3.10.6"
  }
 },
 "nbformat": 4,
 "nbformat_minor": 5
}
