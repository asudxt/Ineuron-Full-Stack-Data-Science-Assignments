{
 "cells": [
  {
   "cell_type": "raw",
   "id": "20a6fb2c-263c-4aba-be4e-0e7067bdd6f5",
   "metadata": {},
   "source": [
    "1. Assign the value 7 to the variable guess_me. Then, write the conditional tests (if, else, and elif) to\n",
    "print the string too low if guess_me is less than 7, too high if greater than 7, and just right if equal\n",
    "to 7."
   ]
  },
  {
   "cell_type": "code",
   "execution_count": 12,
   "id": "603c4b7d-798e-48b3-9df9-503a60801036",
   "metadata": {},
   "outputs": [
    {
     "name": "stdin",
     "output_type": "stream",
     "text": [
      "enter the value: 7\n"
     ]
    },
    {
     "name": "stdout",
     "output_type": "stream",
     "text": [
      "just_right\n"
     ]
    }
   ],
   "source": [
    "guess_me = int(input(\"enter the value:\"))\n",
    "if guess_me < 7:\n",
    "    print(\"too_low\")\n",
    "\n",
    "elif guess_me == 7:\n",
    "    print(\"just_right\")\n",
    "    \n",
    "else:\n",
    "    print(\"too_high\")"
   ]
  },
  {
   "cell_type": "raw",
   "id": "54fef1c6-c5b1-4af5-8aab-30e3e170b7a7",
   "metadata": {},
   "source": [
    "2. Assign the value 7 to the variable guess_me and the value 1 to the variable start. Write a while\n",
    "loop that compares start with guess_me. Print too low if start is less than guess me. If start equals\n",
    "guess_me, print found it and exit the loop. If start is greater than guess_me, print oops and exit\n",
    "the loop. Increment start at the end of the loop."
   ]
  },
  {
   "cell_type": "code",
   "execution_count": 19,
   "id": "d56a7ff3-dc74-4e8a-8795-e471522a854e",
   "metadata": {},
   "outputs": [
    {
     "name": "stdout",
     "output_type": "stream",
     "text": [
      "too low\n"
     ]
    }
   ],
   "source": [
    "\n",
    "guess_me = 7\n",
    "\n",
    "start = \n",
    "\n",
    "if start < guess_me:\n",
    "        print(\"too low\")\n",
    "    \n",
    "elif start == guess_me:\n",
    "    print(\"found it\")\n",
    "    \n",
    "else:\n",
    "    print(\"oops\")\n",
    "    \n",
    "start += 1\n"
   ]
  },
  {
   "cell_type": "code",
   "execution_count": 28,
   "id": "6fd06b67-47f6-4e66-909c-44bc5ed400d2",
   "metadata": {},
   "outputs": [
    {
     "name": "stdout",
     "output_type": "stream",
     "text": [
      "too low\n",
      "too low\n",
      "too low\n",
      "too low\n",
      "too low\n",
      "too low\n",
      "found it\n"
     ]
    }
   ],
   "source": [
    "guess_me = 7\n",
    "start = 1\n",
    "while True:\n",
    "    if start < guess_me:\n",
    "        print(\"too low\")\n",
    "        \n",
    "    elif start == guess_me:\n",
    "        print(\"found it\")\n",
    "        break\n",
    "    else:\n",
    "        print(\"oops\")\n",
    "        break\n",
    "    start += 1"
   ]
  },
  {
   "cell_type": "raw",
   "id": "0afe54cc-4a24-4af0-bb38-cbed1284e2ae",
   "metadata": {},
   "source": [
    "3. Print the following values of the list [3, 2, 1, 0] using a for loop."
   ]
  },
  {
   "cell_type": "code",
   "execution_count": 29,
   "id": "f00b2c0f-2d5e-4578-9e23-d27bd759b766",
   "metadata": {},
   "outputs": [
    {
     "name": "stdout",
     "output_type": "stream",
     "text": [
      "3\n",
      "2\n",
      "1\n",
      "0\n"
     ]
    }
   ],
   "source": [
    "list = [3,2,1,0]\n",
    "for i in list:\n",
    "    print(i)"
   ]
  },
  {
   "cell_type": "raw",
   "id": "81a9254c-8a9f-4f10-969b-f60b6eae22a4",
   "metadata": {},
   "source": [
    "4. Use a list comprehension to make a list of the even numbers in range(10)"
   ]
  },
  {
   "cell_type": "code",
   "execution_count": 32,
   "id": "bf7430b4-6143-4a5e-92fa-0c2c7d80ee58",
   "metadata": {},
   "outputs": [
    {
     "data": {
      "text/plain": [
       "[0, 2, 4, 6, 8]"
      ]
     },
     "execution_count": 32,
     "metadata": {},
     "output_type": "execute_result"
    }
   ],
   "source": [
    "even = [item for item in range(10) if item%2==0]\n",
    "even"
   ]
  },
  {
   "cell_type": "raw",
   "id": "0a03e2b6-aac7-4ad6-a6ad-0f1541298412",
   "metadata": {},
   "source": [
    "5. Use a dictionary comprehension to create the dictionary squares. Use range(10) to return the\n",
    "keys, and use the square of each key as its value."
   ]
  },
  {
   "cell_type": "code",
   "execution_count": 66,
   "id": "257685a2-4db6-437a-ac07-355549654ebe",
   "metadata": {},
   "outputs": [
    {
     "data": {
      "text/plain": [
       "{0: 0, 1: 1, 2: 4, 3: 9, 4: 16, 5: 25, 6: 36, 7: 49, 8: 64, 9: 81}"
      ]
     },
     "execution_count": 66,
     "metadata": {},
     "output_type": "execute_result"
    }
   ],
   "source": [
    "squares = {num: num * num for num in range(10)}\n",
    "squares\n",
    "     "
   ]
  },
  {
   "cell_type": "raw",
   "id": "e52131cc-757f-4163-b972-5f618c72d9ce",
   "metadata": {},
   "source": [
    "6. Construct the set odd from the odd numbers in the range using a set comprehension (10)."
   ]
  },
  {
   "cell_type": "code",
   "execution_count": 67,
   "id": "441294fa-bfd4-4ffb-b2f8-fe599333e018",
   "metadata": {},
   "outputs": [
    {
     "name": "stdout",
     "output_type": "stream",
     "text": [
      "{1, 3, 5, 7, 9}\n"
     ]
    }
   ],
   "source": [
    "odd = {nums for nums in range(10) if nums%2 !=0}\n",
    "print(odd)"
   ]
  },
  {
   "cell_type": "raw",
   "id": "b9dd3bd6-a8df-4fa5-a5eb-d11d20e02da7",
   "metadata": {},
   "source": [
    "7. Use a generator comprehension to return the string Got and a number for the numbers in range(10). Iterate through this by using a for loop."
   ]
  },
  {
   "cell_type": "code",
   "execution_count": 77,
   "id": "00d66744-d544-4c80-b962-86be1b038a80",
   "metadata": {},
   "outputs": [
    {
     "name": "stdout",
     "output_type": "stream",
     "text": [
      "Got 0\n",
      "Got 1\n",
      "Got 2\n",
      "Got 3\n",
      "Got 4\n",
      "Got 5\n",
      "Got 6\n",
      "Got 7\n",
      "Got 8\n",
      "Got 9\n"
     ]
    }
   ],
   "source": [
    "string_generator = ('Got ' + str(num) for num in range(10))\n",
    "for item in string_generator:\n",
    "    print(item)"
   ]
  },
  {
   "cell_type": "raw",
   "id": "5a716c7b-a21d-4011-b962-ea3a3b8ca57c",
   "metadata": {},
   "source": [
    "8. Define a function called good that returns the list [Harry,Ron, Hermione]."
   ]
  },
  {
   "cell_type": "code",
   "execution_count": 4,
   "id": "e65e85a8-201e-41e2-a57f-407c39102911",
   "metadata": {},
   "outputs": [],
   "source": [
    "def good():\n",
    "    return ['Harry', 'Ron' ,'Hermion']\n",
    "    "
   ]
  },
  {
   "cell_type": "code",
   "execution_count": 5,
   "id": "cac55a6f-c354-4364-a8ba-e7b0fccd6b10",
   "metadata": {},
   "outputs": [
    {
     "data": {
      "text/plain": [
       "['Harry', 'Ron', 'Hermion']"
      ]
     },
     "execution_count": 5,
     "metadata": {},
     "output_type": "execute_result"
    }
   ],
   "source": [
    "good()"
   ]
  },
  {
   "cell_type": "raw",
   "id": "fa2c88f6-6949-4692-ad0e-7bac9821e565",
   "metadata": {},
   "source": [
    "9. Define a generator function called get_odds that returns the odd numbers from range(10). Use a\n",
    "for loop to find and print the third value returned."
   ]
  },
  {
   "cell_type": "code",
   "execution_count": 45,
   "id": "44088caf-d5b2-47ca-bcef-0d89c136bebe",
   "metadata": {},
   "outputs": [
    {
     "name": "stdout",
     "output_type": "stream",
     "text": [
      "5\n"
     ]
    }
   ],
   "source": [
    "def get_odds():\n",
    "    for num in range(1, 10, 2):\n",
    "        yield num\n",
    "count = 1\n",
    "for odd in get_odds():\n",
    "    if count == 3:\n",
    "        print(odd)\n",
    "        break\n",
    "    count += 1"
   ]
  },
  {
   "cell_type": "raw",
   "id": "c4ec72c4-ab6e-42e4-b521-63f9f6ba1dfa",
   "metadata": {},
   "source": [
    "10. Define an exception called OopsException. Raise this exception to see what happens. Then write\n",
    "the code to catch this exception and print Caught an oops."
   ]
  },
  {
   "cell_type": "code",
   "execution_count": 1,
   "id": "46520fee-88e4-4c31-91eb-4576b36e65c5",
   "metadata": {},
   "outputs": [
    {
     "name": "stdout",
     "output_type": "stream",
     "text": [
      "Caught an oops\n"
     ]
    }
   ],
   "source": [
    "\n",
    "class OopsException(Exception):\n",
    "    pass\n",
    "\n",
    "def raiseException(num):\n",
    "    if num < 0:\n",
    "        raise OopsException(num)\n",
    "\n",
    "try:\n",
    "    raiseException(-1)\n",
    "except OopsException as err:\n",
    "    print('Caught an oops')"
   ]
  },
  {
   "cell_type": "raw",
   "id": "18ce88df-d00a-40d5-9e91-48d618faa508",
   "metadata": {},
   "source": [
    "11. Use zip() to make a dictionary called movies that pairs these lists: titles = [Creature of Habit,\n",
    "Crewel Fate] and plots = [A nun turns into a monster,A haunted yarn shop]."
   ]
  },
  {
   "cell_type": "code",
   "execution_count": 2,
   "id": "b0db04fa-53ce-40e1-99d2-d9675d3bedcf",
   "metadata": {},
   "outputs": [
    {
     "name": "stdout",
     "output_type": "stream",
     "text": [
      "{'Creature of Habit': 'A nun turns into a monster', 'Crewel Fate': 'A haunted yarn shop'}\n"
     ]
    }
   ],
   "source": [
    "\n",
    "titles = ['Creature of Habit', 'Crewel Fate']\n",
    "plots = ['A nun turns into a monster', 'A haunted yarn shop']\n",
    "movies = dict(zip(titles, plots))\n",
    "print(movies)"
   ]
  }
 ],
 "metadata": {
  "kernelspec": {
   "display_name": "Python 3 (ipykernel)",
   "language": "python",
   "name": "python3"
  },
  "language_info": {
   "codemirror_mode": {
    "name": "ipython",
    "version": 3
   },
   "file_extension": ".py",
   "mimetype": "text/x-python",
   "name": "python",
   "nbconvert_exporter": "python",
   "pygments_lexer": "ipython3",
   "version": "3.10.6"
  }
 },
 "nbformat": 4,
 "nbformat_minor": 5
}
