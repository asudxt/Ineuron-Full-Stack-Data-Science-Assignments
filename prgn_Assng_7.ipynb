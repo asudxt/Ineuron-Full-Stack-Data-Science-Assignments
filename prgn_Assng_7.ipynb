{
 "cells": [
  {
   "cell_type": "markdown",
   "id": "61f83ced-bf74-4d2b-884a-2aa4d7264c93",
   "metadata": {},
   "source": [
    "1. Write a Python Program to find sum of array?"
   ]
  },
  {
   "cell_type": "code",
   "execution_count": 1,
   "id": "e58168a8-5895-4075-a338-bb8197577c2c",
   "metadata": {},
   "outputs": [
    {
     "name": "stdout",
     "output_type": "stream",
     "text": [
      "The sum of the array is: 15\n"
     ]
    }
   ],
   "source": [
    "def calculate_sum(arr):\n",
    "    sum = 0\n",
    "    for num in arr:\n",
    "        sum += num\n",
    "    return sum\n",
    "\n",
    "# Example usage\n",
    "array = [1, 2, 3, 4, 5]\n",
    "result = calculate_sum(array)\n",
    "print(\"The sum of the array is:\", result)"
   ]
  },
  {
   "cell_type": "markdown",
   "id": "0fc6d853-c535-4837-bfdf-46cef96955fa",
   "metadata": {},
   "source": [
    "2. Write a Python Program to find largest element in an array?"
   ]
  },
  {
   "cell_type": "code",
   "execution_count": 12,
   "id": "d40397c3-7892-48b7-b79d-66d3417c3c5e",
   "metadata": {},
   "outputs": [
    {
     "name": "stdout",
     "output_type": "stream",
     "text": [
      "The largest element in the array is: 20\n"
     ]
    }
   ],
   "source": [
    "a = [10, 5, 20, 15, 8]\n",
    "max_element = a[0]\n",
    "\n",
    "for i in range(1, len(a)):\n",
    "    if a[i] > max_element:\n",
    "        max_element = a[i]\n",
    "\n",
    "print(\"The largest element in the array is:\", max_element)\n"
   ]
  },
  {
   "cell_type": "markdown",
   "id": "d90efc47-6552-4827-a039-b3043a70b179",
   "metadata": {},
   "source": [
    "3. Write a Python Program for array rotation?"
   ]
  },
  {
   "cell_type": "code",
   "execution_count": 1,
   "id": "88ddf1de-a833-4791-b124-8cf8b194eca3",
   "metadata": {},
   "outputs": [
    {
     "name": "stdin",
     "output_type": "stream",
     "text": [
      "enter the size of array 5\n",
      "enter element: 1\n"
     ]
    },
    {
     "name": "stdout",
     "output_type": "stream",
     "text": [
      "the original list is: [1]\n"
     ]
    },
    {
     "name": "stdin",
     "output_type": "stream",
     "text": [
      "enter element: 2\n"
     ]
    },
    {
     "name": "stdout",
     "output_type": "stream",
     "text": [
      "the original list is: [1, 2]\n"
     ]
    },
    {
     "name": "stdin",
     "output_type": "stream",
     "text": [
      "enter element: 3\n"
     ]
    },
    {
     "name": "stdout",
     "output_type": "stream",
     "text": [
      "the original list is: [1, 2, 3]\n"
     ]
    },
    {
     "name": "stdin",
     "output_type": "stream",
     "text": [
      "enter element: 4\n"
     ]
    },
    {
     "name": "stdout",
     "output_type": "stream",
     "text": [
      "the original list is: [1, 2, 3, 4]\n"
     ]
    },
    {
     "name": "stdin",
     "output_type": "stream",
     "text": [
      "enter element: 5\n"
     ]
    },
    {
     "name": "stdout",
     "output_type": "stream",
     "text": [
      "the original list is: [1, 2, 3, 4, 5]\n"
     ]
    },
    {
     "name": "stdin",
     "output_type": "stream",
     "text": [
      "enter how many position u want to shit? 2\n"
     ]
    },
    {
     "name": "stdout",
     "output_type": "stream",
     "text": [
      "array after reversing: [4, 5, 1, 2, 3]\n"
     ]
    }
   ],
   "source": [
    "a = []\n",
    "size = int(input(\"enter the size of array\"))\n",
    "for i in range (size):\n",
    "    val = int(input(\"enter element:\"))\n",
    "    a.append(val)\n",
    "    print(\"the original list is:\",a)\n",
    "n = int(input(\"enter how many position u want to shit?\"))\n",
    "for count in range (n):\n",
    "    x = a[size-1]\n",
    "    for i in range (size-2,-1,-1):\n",
    "        a[i+1] = a[i]\n",
    "    a[0] = x\n",
    "print(\"array after reversing:\",a)  \n",
    "    "
   ]
  },
  {
   "cell_type": "markdown",
   "id": "9673a314-73fd-43f8-94cf-c9a9f3dad1a5",
   "metadata": {},
   "source": [
    "4. Write a Python Program to Split the array and add the first part to the end?"
   ]
  },
  {
   "cell_type": "code",
   "execution_count": 2,
   "id": "fe53536c-7e48-423c-8b72-0e91f0aa8c20",
   "metadata": {},
   "outputs": [
    {
     "name": "stdout",
     "output_type": "stream",
     "text": [
      "Original array: [1, 2, 3, 4, 5]\n",
      "Split index: 2\n",
      "Array after splitting and adding: [4, 5, 1, 2, 3]\n"
     ]
    }
   ],
   "source": [
    "def split_and_add(arr, split_index):\n",
    "    # Check if the split index is valid\n",
    "    if split_index < 0 or split_index >= len(arr):\n",
    "        print(\"Invalid split index!\")\n",
    "        return arr\n",
    "    \n",
    "    # Split the array into two parts\n",
    "    first_part = arr[:split_index+1]\n",
    "    second_part = arr[split_index+1:]\n",
    "    \n",
    "    # Add the first part to the end\n",
    "    result = second_part + first_part\n",
    "    \n",
    "    return result\n",
    "\n",
    "# Test the program\n",
    "arr = [1, 2, 3, 4, 5]\n",
    "split_index = 2\n",
    "\n",
    "print(\"Original array:\", arr)\n",
    "print(\"Split index:\", split_index)\n",
    "\n",
    "result = split_and_add(arr, split_index)\n",
    "\n",
    "print(\"Array after splitting and adding:\", result)\n"
   ]
  },
  {
   "cell_type": "code",
   "execution_count": null,
   "id": "6bd62e6c-6079-43ae-ab9a-7bb83d07642b",
   "metadata": {},
   "outputs": [],
   "source": [
    "5. Write a Python Program to check if given array is Monotonic?"
   ]
  },
  {
   "cell_type": "code",
   "execution_count": 13,
   "id": "b4351704-ef67-4d53-85a7-24cc307d7449",
   "metadata": {},
   "outputs": [
    {
     "name": "stdout",
     "output_type": "stream",
     "text": [
      "this is monotonic Array\n"
     ]
    }
   ],
   "source": [
    "def is_monotonic(arr):\n",
    "    x,y = [],[]\n",
    "    x.extend(arr)\n",
    "    y.extend(arr)\n",
    "    x.sort()\n",
    "    y.sort(reverse = True)\n",
    "    if(arr==x or arr==y):\n",
    "        return True\n",
    "    return False\n",
    "\n",
    "arr = [10,54,60,65]\n",
    "if is_monotonic(arr):\n",
    "    print('this is monotonic Array')\n",
    "    \n",
    "else:\n",
    "    print('this is not monotonic Array')"
   ]
  }
 ],
 "metadata": {
  "kernelspec": {
   "display_name": "Python 3 (ipykernel)",
   "language": "python",
   "name": "python3"
  },
  "language_info": {
   "codemirror_mode": {
    "name": "ipython",
    "version": 3
   },
   "file_extension": ".py",
   "mimetype": "text/x-python",
   "name": "python",
   "nbconvert_exporter": "python",
   "pygments_lexer": "ipython3",
   "version": "3.10.6"
  }
 },
 "nbformat": 4,
 "nbformat_minor": 5
}
