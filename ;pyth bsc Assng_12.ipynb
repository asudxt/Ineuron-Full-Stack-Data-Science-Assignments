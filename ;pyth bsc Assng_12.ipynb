{
 "cells": [
  {
   "cell_type": "raw",
   "id": "efe5ad5f-31e9-4252-a1c5-deedc97cbf4e",
   "metadata": {},
   "source": [
    "1. In what modes should the PdfFileReader() and PdfFileWriter() File objects will be opened?\n",
    "\n",
    "Ans: PdfFileReader() needs to be opened in read-binary mode by passing 'rb' as the second argument to open(). \n",
    "     \n",
    "     PdfFileWriter() needs to be opened in write-binary mode with 'wb'"
   ]
  },
  {
   "cell_type": "raw",
   "id": "0bd5382d-ece9-4d5e-b75a-9ae393ca0ca3",
   "metadata": {},
   "source": [
    "2. From a PdfFileReader object, how do you get a Page object for page 5?\n",
    "\n",
    "Ans. Calling getPage(4) will return a Page object for page 5 since page 0 is the first page"
   ]
  },
  {
   "cell_type": "code",
   "execution_count": null,
   "id": "7934b1dd-8848-4275-8896-72e37de2b70b",
   "metadata": {},
   "outputs": [],
   "source": [
    "\n",
    "import PyPDF2 as pdf\n",
    "pdfFileObj = open(\"cardealer.pdf\",'rb')\n",
    "pdfReader = pdf.PdfFileReader(pdfFileObj)\n",
    "pageObj = pdfReader.getPage(4)\n",
    "pageObj.extractText()\n",
    "     "
   ]
  },
  {
   "cell_type": "code",
   "execution_count": 10,
   "id": "a234b7a1-5de2-454d-80c4-7d1afe9cc556",
   "metadata": {},
   "outputs": [
    {
     "name": "stdout",
     "output_type": "stream",
     "text": [
      "Requirement already satisfied: PyPDF2 in /opt/conda/lib/python3.10/site-packages (3.0.1)\n"
     ]
    }
   ],
   "source": [
    "!pip install PyPDF2"
   ]
  },
  {
   "cell_type": "raw",
   "id": "3654cd20-c9fe-4148-884e-bdf1a9dba64e",
   "metadata": {},
   "source": [
    "3. What PdfFileReader variable stores the number of pages in the PDF document?\n",
    "\n",
    "Ans: The numPages variable stores an integer of the number of pages in the PdfFileReader object."
   ]
  },
  {
   "cell_type": "raw",
   "id": "51b76e76-8172-4443-b021-92f84ef264d1",
   "metadata": {},
   "source": [
    "4. If a PdfFileReader object’s PDF is encrypted with the password swordfish, what must you do before you can obtain Page objects from it?\n",
    "\n",
    "Ans: Before we obtain the page object, the pdf has to be decrypted by calling .decrypt('swordfish')"
   ]
  },
  {
   "cell_type": "raw",
   "id": "99122db0-8c5b-4236-99bb-6c9bcaad1e2f",
   "metadata": {},
   "source": [
    "5. What methods do you use to rotate a page?\n",
    "\n",
    "Ans: \n",
    "    pageObj.rotateClockwise(180)\n",
    "    \n",
    "    The rotateClockwise() and rotateCounterClockwise() methods. The degrees to rotate is passed as an integer argument"
   ]
  },
  {
   "cell_type": "raw",
   "id": "3441b058-8c88-4648-8ba7-daed4482bc50",
   "metadata": {},
   "source": [
    "6. What is the difference between a Run object and a Paragraph object?\n",
    "\n",
    "Ans.\n",
    "\n",
    "Paragraph Object : A document contains multiple paragraphs. A paragraph begins on a new line and contains multiple\n",
    "runs. The Document object contains a list of Paragraph objects for the paragraphs in the document. (A new paragraph begins whenever the user presses ENTER or RETURN while typing in a Word document.)\n",
    "\n",
    "Run Objects : Runs are contiguous groups of characters within a paragraph with the same style"
   ]
  },
  {
   "cell_type": "raw",
   "id": "cde144e0-47d0-461e-b6ae-0b728af6be49",
   "metadata": {},
   "source": [
    "7. How do you obtain a list of Paragraph objects for a Document object that’s stored in a variable named doc?\n",
    "\n",
    "Ans:  !pip install python-docx\n",
    "      import docx\n",
    "      doc = docx.Document('abc.docx')\n",
    "      doc.paragraphs\n",
    "      By using doc.paragraphs"
   ]
  },
  {
   "cell_type": "raw",
   "id": "daedce3f-8367-4c5e-bc9f-a50195931614",
   "metadata": {},
   "source": [
    "8. What type of object has bold, underline, italic, strike, and outline variables?\n",
    "\n",
    "Ans. A Run object has bold, underline,italic,strike and outline variables"
   ]
  },
  {
   "cell_type": "raw",
   "id": "d3bf2be0-75dd-415e-a6af-2510b3256706",
   "metadata": {},
   "source": [
    "9. What is the difference between False, True, and None for the bold variable?\n",
    "\n",
    "Ans. Runs can be further styled using text attributes. Each attribute can be set to one of three values:\n",
    "\n",
    "True (the attribute is always enabled, no matter what other styles are applied to the run),\n",
    "False (the attribute is always disabled),\n",
    "None (defaults to whatever the run’s style is set to)\n",
    "\n",
    "True always makes the Run object bolded and False makes it always not bolded, no matter what the style’s bold setting is. None will make the Run object just use the style’s bold setting"
   ]
  },
  {
   "cell_type": "raw",
   "id": "09ddd48b-092b-48ff-abeb-f01ab0addd88",
   "metadata": {},
   "source": [
    "10. How do you create a Document object for a new Word document?\n",
    "\n",
    "Ans. By Calling the docx.Document() function."
   ]
  },
  {
   "cell_type": "raw",
   "id": "835f7640-d860-47df-bdf1-ee28e3f741fd",
   "metadata": {},
   "source": [
    "11. How do you add a paragraph with the text Hello, there! to a Document object stored in a\n",
    "variable named doc?\n",
    "\n",
    "Ans: import docx\n",
    "     doc = docx.Document()\n",
    "\n",
    "     doc.add_paragraph('Hello there!')\n",
    "     doc.save('hellothere.docx')"
   ]
  },
  {
   "cell_type": "raw",
   "id": "e81991fd-2dd0-4ea0-b680-e751dfeb3249",
   "metadata": {},
   "source": [
    "12. What integers represent the levels of headings available in Word documents?\n",
    "\n",
    "Ans: Integer from 0 to 4\n",
    "     The arguments to add_heading() are a string of the heading text and an integer from 0 to 4. The integer 0 makes the heading the Title style, which is used for the top of the          document. Integers 1 to 4 are for various heading levels, with 1 being the main heading and 4 the lowest subheading"
   ]
  }
 ],
 "metadata": {
  "kernelspec": {
   "display_name": "Python 3 (ipykernel)",
   "language": "python",
   "name": "python3"
  },
  "language_info": {
   "codemirror_mode": {
    "name": "ipython",
    "version": 3
   },
   "file_extension": ".py",
   "mimetype": "text/x-python",
   "name": "python",
   "nbconvert_exporter": "python",
   "pygments_lexer": "ipython3",
   "version": "3.10.6"
  }
 },
 "nbformat": 4,
 "nbformat_minor": 5
}
