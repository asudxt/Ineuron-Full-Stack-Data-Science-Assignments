{
 "cells": [
  {
   "cell_type": "raw",
   "id": "eb6fca10-14d4-4149-ae0a-ea2964c115a0",
   "metadata": {},
   "source": [
    "1. Create a zoo.py file first. Define the hours() function, which prints the string Open 9-5 daily.\n",
    "Then, use the interactive interpreter to import the zoo module and call its hours() function."
   ]
  },
  {
   "cell_type": "code",
   "execution_count": 1,
   "id": "deb96113-7bd8-432c-af97-26df04aabc81",
   "metadata": {},
   "outputs": [
    {
     "data": {
      "text/plain": [
       "'open 9-5 daily'"
      ]
     },
     "execution_count": 1,
     "metadata": {},
     "output_type": "execute_result"
    }
   ],
   "source": [
    "import zoo\n",
    "\n",
    "zoo.hour()\n"
   ]
  },
  {
   "cell_type": "raw",
   "id": "8ae08ed1-4bf0-44b7-ae3e-54932bd5ee7e",
   "metadata": {},
   "source": [
    "2. In the interactive interpreter, import the zoo module as menagerie and call its hours() function."
   ]
  },
  {
   "cell_type": "code",
   "execution_count": 2,
   "id": "67baebf0-96e0-4431-86ce-5f4ab23bde9d",
   "metadata": {},
   "outputs": [
    {
     "data": {
      "text/plain": [
       "'open 9-5 daily'"
      ]
     },
     "execution_count": 2,
     "metadata": {},
     "output_type": "execute_result"
    }
   ],
   "source": [
    "import zoo as menagerie \n",
    "menagerie.hour()"
   ]
  },
  {
   "cell_type": "raw",
   "id": "c57219a2-c46f-415a-9fcb-c600aadfe8a0",
   "metadata": {},
   "source": [
    "3. Using the interpreter, explicitly import and call the hours() function from zoo."
   ]
  },
  {
   "cell_type": "code",
   "execution_count": 4,
   "id": "a938f102-e5c6-4066-8151-d934ef75fabf",
   "metadata": {},
   "outputs": [
    {
     "data": {
      "text/plain": [
       "'open 9-5 daily'"
      ]
     },
     "execution_count": 4,
     "metadata": {},
     "output_type": "execute_result"
    }
   ],
   "source": [
    "from zoo import hour\n",
    "hour()"
   ]
  },
  {
   "cell_type": "code",
   "execution_count": null,
   "id": "1824149c-bf21-42d4-961b-35ac5a923ea7",
   "metadata": {},
   "outputs": [],
   "source": [
    "4. Import the hours() function as info and call it."
   ]
  },
  {
   "cell_type": "code",
   "execution_count": 1,
   "id": "e975d389-355a-4b73-b352-138c6cd9b3a6",
   "metadata": {},
   "outputs": [
    {
     "data": {
      "text/plain": [
       "'open 9-5 daily'"
      ]
     },
     "execution_count": 1,
     "metadata": {},
     "output_type": "execute_result"
    }
   ],
   "source": [
    "import zoo\n",
    "\n",
    "zoo.info()"
   ]
  },
  {
   "cell_type": "raw",
   "id": "ae4e8fe2-5299-45ed-bcb5-4b5f4383e58a",
   "metadata": {},
   "source": [
    "5. Create a plain dictionary with the key-value pairs a: 1,b: 2, and c: 3, and print it out."
   ]
  },
  {
   "cell_type": "code",
   "execution_count": 3,
   "id": "8b8fc5a7-a271-4eb8-878a-499ab0445624",
   "metadata": {},
   "outputs": [
    {
     "data": {
      "text/plain": [
       "{'a': 1, 'b': 2, 'c': 3}"
      ]
     },
     "execution_count": 3,
     "metadata": {},
     "output_type": "execute_result"
    }
   ],
   "source": [
    "plain={\"a\": 1, \"b\" : 2, \"c\": 3}\n",
    "plain"
   ]
  },
  {
   "cell_type": "raw",
   "id": "4ed8eb0c-aabc-498c-9c9b-2af1c078d111",
   "metadata": {},
   "source": [
    "6.Make an OrderedDict called fancy from the same pairs listed in 5 and print it. Did it print in the\n",
    "same order as plain?"
   ]
  },
  {
   "cell_type": "code",
   "execution_count": 7,
   "id": "1c7d6fc1-16cd-415e-adaf-7e7288e83b13",
   "metadata": {},
   "outputs": [
    {
     "data": {
      "text/plain": [
       "OrderedDict([('a', 1), ('b', 2), ('c', 3)])"
      ]
     },
     "execution_count": 7,
     "metadata": {},
     "output_type": "execute_result"
    }
   ],
   "source": [
    "#Yes\n",
    "from collections import OrderedDict\n",
    "fancy = OrderedDict([('a', 1), ('b', 2), ('c', 3)])\n",
    "fancy\n",
    "     "
   ]
  },
  {
   "cell_type": "raw",
   "id": "944fdfe2-62b5-40c0-bf7f-d9596c5b6c65",
   "metadata": {},
   "source": [
    "7. Make a default dictionary called dict_of_lists and pass it the argument list. Make the listdict_of_lists[a] and append the value something for a to it in one assignment. Print dict_of_lists[a]."
   ]
  },
  {
   "cell_type": "code",
   "execution_count": 12,
   "id": "afda92b1-c537-41dc-8bcb-ec980182cde8",
   "metadata": {},
   "outputs": [
    {
     "data": {
      "text/plain": [
       "['something for a']"
      ]
     },
     "execution_count": 12,
     "metadata": {},
     "output_type": "execute_result"
    }
   ],
   "source": [
    "\n",
    "from collections import defaultdict\n",
    "dict_of_lists = defaultdict(list)\n",
    "dict_of_lists['a'].append('something for a')\n",
    "dict_of_lists['a']"
   ]
  },
  {
   "cell_type": "code",
   "execution_count": null,
   "id": "77adc74d-f68d-4666-83c0-30c7d0927c67",
   "metadata": {},
   "outputs": [],
   "source": []
  }
 ],
 "metadata": {
  "kernelspec": {
   "display_name": "Python 3 (ipykernel)",
   "language": "python",
   "name": "python3"
  },
  "language_info": {
   "codemirror_mode": {
    "name": "ipython",
    "version": 3
   },
   "file_extension": ".py",
   "mimetype": "text/x-python",
   "name": "python",
   "nbconvert_exporter": "python",
   "pygments_lexer": "ipython3",
   "version": "3.10.6"
  }
 },
 "nbformat": 4,
 "nbformat_minor": 5
}
