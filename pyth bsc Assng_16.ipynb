{
 "cells": [
  {
   "cell_type": "raw",
   "id": "318233d9-2452-43b2-add7-fbbb2deba54c",
   "metadata": {},
   "source": [
    "1. Create a list called years_list, starting with the year of your birth, and each year thereafter until the year of your fifth birthday. For example, if you were born in 1980. the list would be years_list =\n",
    "[1980, 1981, 1982, 1983, 1984, 1985]."
   ]
  },
  {
   "cell_type": "code",
   "execution_count": 3,
   "id": "0ed30bd8-987c-41f6-b50f-1f3b794c3808",
   "metadata": {},
   "outputs": [
    {
     "name": "stdout",
     "output_type": "stream",
     "text": [
      "[1995, 1996, 1997, 1998, 1999, 2000]\n"
     ]
    }
   ],
   "source": [
    "birth_year = 1995  \n",
    "years_list = list(range(birth_year, birth_year + 6))\n",
    "print(years_list) "
   ]
  },
  {
   "cell_type": "raw",
   "id": "38a5ad58-e41d-490d-ae25-a7cacdf5ac81",
   "metadata": {},
   "source": [
    "2. In which year in years_list was your third birthday? Remember, you were 0 years of age for your\n",
    "first year."
   ]
  },
  {
   "cell_type": "code",
   "execution_count": 17,
   "id": "e6b74b8b-2fb6-4b1d-a722-460e2ccb6957",
   "metadata": {},
   "outputs": [
    {
     "name": "stdout",
     "output_type": "stream",
     "text": [
      "1998\n"
     ]
    }
   ],
   "source": [
    "#birth_year aga 0 = 1 \n",
    "\n",
    "#third_birthday age 3 = 4 year\n",
    "\n",
    "birth_year = 1995  \n",
    "years_list = list(range(birth_year, birth_year + 6))\n",
    "print(years_list[3])\n"
   ]
  },
  {
   "cell_type": "raw",
   "id": "11dca77f-2ace-4cb6-a690-33a537d3067b",
   "metadata": {},
   "source": [
    "3.In the years list, which year were you the oldest?"
   ]
  },
  {
   "cell_type": "code",
   "execution_count": 18,
   "id": "942126ad-03f0-4fb5-9506-f03f45b47f1a",
   "metadata": {},
   "outputs": [
    {
     "name": "stdout",
     "output_type": "stream",
     "text": [
      "2000\n"
     ]
    }
   ],
   "source": [
    "print(years_list[5])"
   ]
  },
  {
   "cell_type": "raw",
   "id": "8a05f394-26d0-47b1-855c-7bc94b6b2b58",
   "metadata": {},
   "source": [
    "4. Make a list called things with these three strings as elements: mozzarella, cinderell,\n",
    "salmonella."
   ]
  },
  {
   "cell_type": "code",
   "execution_count": 51,
   "id": "3dde562b-462c-46f3-8f55-424ce53ebd00",
   "metadata": {},
   "outputs": [
    {
     "data": {
      "text/plain": [
       "['mozzarella', 'cinderell', 'salmonella']"
      ]
     },
     "execution_count": 51,
     "metadata": {},
     "output_type": "execute_result"
    }
   ],
   "source": [
    "things =([\"mozzarella\" , \"cinderell\" , \"salmonella\"])\n",
    "things"
   ]
  },
  {
   "cell_type": "raw",
   "id": "5b0636ea-695b-400d-babb-618a1ac4ff7c",
   "metadata": {},
   "source": [
    "5. Capitalize the element in things that refers to a person and then print the list. Did it change the\n",
    "element in the list?"
   ]
  },
  {
   "cell_type": "code",
   "execution_count": 54,
   "id": "97ad6cff-e37e-44bf-81de-e1d3405aa62d",
   "metadata": {},
   "outputs": [
    {
     "name": "stdout",
     "output_type": "stream",
     "text": [
      "Mozzarella\n",
      "Cinderell\n",
      "Salmonella\n"
     ]
    },
    {
     "data": {
      "text/plain": [
       "['mozzarella', 'Cinderell', 'Salmonella']"
      ]
     },
     "execution_count": 54,
     "metadata": {},
     "output_type": "execute_result"
    }
   ],
   "source": [
    "for i in things:\n",
    "    print(i.capitalize())\n",
    "things\n",
    "#Capitalize() will not update the list original values."
   ]
  },
  {
   "cell_type": "raw",
   "id": "dac772a3-ae15-4dbb-b4e2-753fbac25670",
   "metadata": {},
   "source": [
    "6. Make a surprise list with the elements Groucho, Chico, and Harpo"
   ]
  },
  {
   "cell_type": "code",
   "execution_count": 55,
   "id": "f92dab38-107c-4ef3-9bf3-54955ddb0078",
   "metadata": {},
   "outputs": [
    {
     "data": {
      "text/plain": [
       "['Groucho', 'Chico', 'Harpo']"
      ]
     },
     "execution_count": 55,
     "metadata": {},
     "output_type": "execute_result"
    }
   ],
   "source": [
    "\n",
    "surprise_list = [\"Groucho\", \"Chico\", \"Harpo\"]\n",
    "surprise_list"
   ]
  },
  {
   "cell_type": "raw",
   "id": "5e1c5ab6-5f50-43e4-ae30-71c0ba4f6686",
   "metadata": {},
   "source": [
    "7. Lowercase the last element of the surprise list, reverse it, and then capitalize it."
   ]
  },
  {
   "cell_type": "code",
   "execution_count": 60,
   "id": "663bd3ae-d444-4947-ba2e-261eaa4a886e",
   "metadata": {},
   "outputs": [
    {
     "data": {
      "text/plain": [
       "'harpo'"
      ]
     },
     "execution_count": 60,
     "metadata": {},
     "output_type": "execute_result"
    }
   ],
   "source": [
    "surprise_list[2].lower()"
   ]
  },
  {
   "cell_type": "code",
   "execution_count": 81,
   "id": "55ce6302-94f5-40f2-b9f3-b1d8529f545c",
   "metadata": {},
   "outputs": [
    {
     "data": {
      "text/plain": [
       "'opraH'"
      ]
     },
     "execution_count": 81,
     "metadata": {},
     "output_type": "execute_result"
    }
   ],
   "source": [
    "surprise_list[2][::-1]"
   ]
  },
  {
   "cell_type": "code",
   "execution_count": 82,
   "id": "70be4863-012e-4c78-a0a4-62551024df56",
   "metadata": {},
   "outputs": [
    {
     "data": {
      "text/plain": [
       "'OPRAH'"
      ]
     },
     "execution_count": 82,
     "metadata": {},
     "output_type": "execute_result"
    }
   ],
   "source": [
    "\n",
    "surprise_list[-1][::-1].upper()"
   ]
  },
  {
   "cell_type": "raw",
   "id": "efc1b6d7-b804-49a2-8d5c-9ca2af2e192e",
   "metadata": {},
   "source": [
    "8. Make an English-to-French dictionary called e2f and print it. Here are your starter words: dog is\n",
    "chien, cat is chat, and walrus is morse."
   ]
  },
  {
   "cell_type": "code",
   "execution_count": 88,
   "id": "ba9c996b-d68f-4fe0-9494-8a48611611e4",
   "metadata": {},
   "outputs": [
    {
     "data": {
      "text/plain": [
       "{'dog': 'chien', 'cat': 'chat', 'walrus': 'morse'}"
      ]
     },
     "execution_count": 88,
     "metadata": {},
     "output_type": "execute_result"
    }
   ],
   "source": [
    "e2f = {\"dog\" : 'chien' , \"cat\" : 'chat' , \"walrus\" : 'morse'}\n",
    "e2f"
   ]
  },
  {
   "cell_type": "raw",
   "id": "a12d1d2c-859f-4460-a022-17e432881eac",
   "metadata": {},
   "source": [
    "9. Write the French word for walrus in your three-word dictionary e2f."
   ]
  },
  {
   "cell_type": "code",
   "execution_count": 90,
   "id": "0d1a21b3-5058-43b8-bbf9-5828706517c3",
   "metadata": {},
   "outputs": [
    {
     "data": {
      "text/plain": [
       "'morse'"
      ]
     },
     "execution_count": 90,
     "metadata": {},
     "output_type": "execute_result"
    }
   ],
   "source": [
    "e2f[\"walrus\"]"
   ]
  },
  {
   "cell_type": "raw",
   "id": "16084183-5a2d-4929-bf70-4321e21ef10d",
   "metadata": {},
   "source": [
    "10. Make a French-to-English dictionary called f2e from e2f. Use the items method."
   ]
  },
  {
   "cell_type": "code",
   "execution_count": 94,
   "id": "2cf5600b-c4ec-472e-90c9-f8674fd639a0",
   "metadata": {},
   "outputs": [
    {
     "data": {
      "text/plain": [
       "{'chien': 'dog', 'chat': 'cat', 'morse': 'walrus'}"
      ]
     },
     "execution_count": 94,
     "metadata": {},
     "output_type": "execute_result"
    }
   ],
   "source": [
    "f2e = dict((key,value) for value,key in e2f.items())\n",
    "f2e\n",
    "   "
   ]
  },
  {
   "cell_type": "raw",
   "id": "31fb2766-be78-4919-ad41-f15645fa4305",
   "metadata": {},
   "source": [
    "11. Print the English version of the French word chien using f2e."
   ]
  },
  {
   "cell_type": "code",
   "execution_count": 95,
   "id": "9af70186-2e6d-43de-9125-ccd9a321db1a",
   "metadata": {},
   "outputs": [
    {
     "data": {
      "text/plain": [
       "'dog'"
      ]
     },
     "execution_count": 95,
     "metadata": {},
     "output_type": "execute_result"
    }
   ],
   "source": [
    "f2e[\"chien\"]"
   ]
  },
  {
   "cell_type": "raw",
   "id": "9e2c9e10-b006-44de-a2e7-2a7f949fcfea",
   "metadata": {},
   "source": [
    "12. Make and print a set of English words from the keys in e2f."
   ]
  },
  {
   "cell_type": "code",
   "execution_count": 96,
   "id": "cd0cd2ea-a88b-4e84-83a0-033094773d74",
   "metadata": {},
   "outputs": [
    {
     "data": {
      "text/plain": [
       "dict_keys(['dog', 'cat', 'walrus'])"
      ]
     },
     "execution_count": 96,
     "metadata": {},
     "output_type": "execute_result"
    }
   ],
   "source": [
    "e2f.keys()"
   ]
  },
  {
   "cell_type": "raw",
   "id": "1ce1b4f7-f11b-438a-b920-96a406799424",
   "metadata": {},
   "source": [
    "13. Make a multilevel dictionary called life. Use these strings for the topmost keys: animals, plants,and other. Make the animals key refer to another dictionary with the keys cats,octopic, andemus. Make the cats key refer to a list ofstring with the values Henri,Grumpy and LuckyMake all the other keys refer to empty dictionaries."
   ]
  },
  {
   "cell_type": "code",
   "execution_count": 97,
   "id": "19fed3ca-a347-4955-9ce6-a086cb53be8b",
   "metadata": {},
   "outputs": [
    {
     "data": {
      "text/plain": [
       "{'animals': {'cat': ['Henri', 'Grumpy', 'Lucy'], 'octopi': '', 'emus': ''},\n",
       " 'plants': '',\n",
       " 'other': ''}"
      ]
     },
     "execution_count": 97,
     "metadata": {},
     "output_type": "execute_result"
    }
   ],
   "source": [
    "\n",
    "life ={'animals':{'cat':['Henri', 'Grumpy', 'Lucy'], 'octopi':'', 'emus':''},\n",
    "       'plants' :'',\n",
    "       'other' :'' }\n",
    "life\n"
   ]
  },
  {
   "cell_type": "raw",
   "id": "1f7f594b-9e16-4698-835b-0f5eb139599e",
   "metadata": {},
   "source": [
    "14. Print the top-level keys of life."
   ]
  },
  {
   "cell_type": "code",
   "execution_count": 98,
   "id": "b51d7f3a-7e12-4734-9eb9-b1b66702a6f1",
   "metadata": {},
   "outputs": [
    {
     "data": {
      "text/plain": [
       "dict_keys(['animals', 'plants', 'other'])"
      ]
     },
     "execution_count": 98,
     "metadata": {},
     "output_type": "execute_result"
    }
   ],
   "source": [
    "life.keys()"
   ]
  },
  {
   "cell_type": "raw",
   "id": "167cf171-6150-47ea-af6d-0f7fe37f0eb2",
   "metadata": {},
   "source": [
    "15. Print the keys for life[animals]."
   ]
  },
  {
   "cell_type": "code",
   "execution_count": 99,
   "id": "601d7145-9ea1-4af6-b4c9-fa19deb8c5de",
   "metadata": {},
   "outputs": [
    {
     "data": {
      "text/plain": [
       "dict_keys(['cat', 'octopi', 'emus'])"
      ]
     },
     "execution_count": 99,
     "metadata": {},
     "output_type": "execute_result"
    }
   ],
   "source": [
    "life['animals'].keys()"
   ]
  },
  {
   "cell_type": "raw",
   "id": "e6cbb5fe-848d-40e9-89a8-752778c5c24f",
   "metadata": {},
   "source": [
    "16. Print the values for life[animals][cats]"
   ]
  },
  {
   "cell_type": "code",
   "execution_count": 100,
   "id": "5b344a67-c90c-4512-bfaa-1f9cbaf4db79",
   "metadata": {},
   "outputs": [
    {
     "data": {
      "text/plain": [
       "['Henri', 'Grumpy', 'Lucy']"
      ]
     },
     "execution_count": 100,
     "metadata": {},
     "output_type": "execute_result"
    }
   ],
   "source": [
    "\n",
    "life['animals']['cat']"
   ]
  }
 ],
 "metadata": {
  "kernelspec": {
   "display_name": "Python 3 (ipykernel)",
   "language": "python",
   "name": "python3"
  },
  "language_info": {
   "codemirror_mode": {
    "name": "ipython",
    "version": 3
   },
   "file_extension": ".py",
   "mimetype": "text/x-python",
   "name": "python",
   "nbconvert_exporter": "python",
   "pygments_lexer": "ipython3",
   "version": "3.10.6"
  }
 },
 "nbformat": 4,
 "nbformat_minor": 5
}
