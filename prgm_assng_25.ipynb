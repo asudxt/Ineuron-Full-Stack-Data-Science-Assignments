{
 "cells": [
  {
   "cell_type": "markdown",
   "id": "f87587a7-eeb4-44b8-9571-25249d601c02",
   "metadata": {},
   "source": [
    "Question1\n",
    "Create a function that takes three integer arguments (a, b, c) and returns the amount of\n",
    "integers which are of equal value.\n",
    "Examples\n",
    "equal(3, 4, 3) ➞ 2\n",
    "equal(1, 1, 1) ➞ 3\n",
    "equal(3, 4, 1) ➞ 0\n",
    "Notes\n",
    "Your function must return 0, 2 or 3."
   ]
  },
  {
   "cell_type": "code",
   "execution_count": 2,
   "id": "eb711ae7-bb41-45dc-acfd-24fe2f6b2857",
   "metadata": {},
   "outputs": [
    {
     "name": "stdout",
     "output_type": "stream",
     "text": [
      "2\n",
      "3\n",
      "0\n"
     ]
    }
   ],
   "source": [
    "def equal(a, b, c):\n",
    "    if a == b == c:  # If all three integers are equal\n",
    "        return 3\n",
    "    elif a == b or a == c or b == c:  # If two integers are equal\n",
    "        return 2\n",
    "    else:  # If no integers are equal\n",
    "        return 0\n",
    "    \n",
    "print(equal(3, 4, 3)) \n",
    "print(equal(1, 1, 1)) \n",
    "print(equal(3, 4, 1)) "
   ]
  },
  {
   "cell_type": "markdown",
   "id": "7de065e7-bac2-419a-916d-99998ea10064",
   "metadata": {},
   "source": [
    "Question2\n",
    "Write a function that converts a dictionary into a list of keys-values tuples.\n",
    "Examples\n",
    "dict_to_list({\n",
    "&quot;D&quot;: 1,\n",
    "&quot;B&quot;: 2,\n",
    "&quot;C&quot;: 3\n",
    "}) ➞ [(&quot;B&quot;, 2), (&quot;C&quot;, 3), (&quot;D&quot;, 1)]\n",
    "dict_to_list({\n",
    "&quot;likes&quot;: 2,\n",
    "&quot;dislikes&quot;: 3,\n",
    "&quot;followers&quot;: 10\n",
    "}) ➞ [(&quot;dislikes&quot;, 3), (&quot;followers&quot;, 10), (&quot;likes&quot;, 2)]\n",
    "Notes\n",
    "Return the elements in the list in alphabetical order."
   ]
  },
  {
   "cell_type": "code",
   "execution_count": 3,
   "id": "c77fdea1-07c2-43c1-8eea-8dce756b63f1",
   "metadata": {},
   "outputs": [
    {
     "name": "stdout",
     "output_type": "stream",
     "text": [
      "['B', 'C', 'D']\n",
      "['dislikes', 'followers', 'likes']\n"
     ]
    }
   ],
   "source": [
    "def dict_to_list(keys):\n",
    "    sorted_keys = sorted(keys)  # Sort the keys of the dictionary\n",
    "    result = [key for key in sorted_keys]  # Create a list from the sorted keys\n",
    "    return result\n",
    "\n",
    "print(dict_to_list({ \"D\": 1, \"B\": 2, \"C\": 3 })) \n",
    "print(dict_to_list({ \"likes\": 2, \"dislikes\": 3, \"followers\": 10 })) "
   ]
  },
  {
   "cell_type": "markdown",
   "id": "2e429069-60a7-4506-a0da-a94a074e6282",
   "metadata": {},
   "source": [
    "Question3\n",
    "Write a function that creates a dictionary with each (key, value) pair being the (lower case,\n",
    "upper case) versions of a letter, respectively.\n",
    "Examples\n",
    "mapping([&quot;p&quot;, &quot;s&quot;]) ➞ { &quot;p&quot;: &quot;P&quot;, &quot;s&quot;: &quot;S&quot; }\n",
    "\n",
    "mapping([&quot;a&quot;, &quot;b&quot;, &quot;c&quot;]) ➞ { &quot;a&quot;: &quot;A&quot;, &quot;b&quot;: &quot;B&quot;, &quot;c&quot;: &quot;C&quot; }\n",
    "mapping([&quot;a&quot;, &quot;v&quot;, &quot;y&quot;, &quot;z&quot;]) ➞ { &quot;a&quot;: &quot;A&quot;, &quot;v&quot;: &quot;V&quot;, &quot;y&quot;: &quot;Y&quot;, &quot;z&quot;: &quot;Z&quot; }\n",
    "Notes\n",
    "All of the letters in the input list will always be lowercase."
   ]
  },
  {
   "cell_type": "code",
   "execution_count": 11,
   "id": "cd7660e3-cc56-4ed6-aff8-b6b43e24143e",
   "metadata": {},
   "outputs": [
    {
     "name": "stdout",
     "output_type": "stream",
     "text": [
      "{'p': 'P', 's': 'S'}\n",
      "{'a': 'A', 'b': 'B', 'c': 'C'}\n",
      "{'a': 'A', 'v': 'V', 'y': 'Y', 'z': 'Z'}\n"
     ]
    }
   ],
   "source": [
    "def mapping(lst):\n",
    "\n",
    "    result={}\n",
    "    for letter in lst:\n",
    "        result[letter] = letter.upper()\n",
    "    return result\n",
    "\n",
    "print(mapping([\"p\", \"s\"])) \n",
    "print(mapping([\"a\", \"b\", \"c\"])) \n",
    "print(mapping([\"a\", \"v\", \"y\", \"z\"]))"
   ]
  },
  {
   "cell_type": "markdown",
   "id": "422ae21a-419d-45cc-9fb9-6c13442a01d8",
   "metadata": {},
   "source": [
    "Question4\n",
    "Write a function, that replaces all vowels in a string with a specified vowel.\n",
    "Examples\n",
    "vow_replace(&quot;apples and bananas&quot;, &quot;u&quot;) ➞ &quot;upplus und bununus&quot;\n",
    "vow_replace(&quot;cheese casserole&quot;, &quot;o&quot;) ➞ &quot;chooso cossorolo&quot;\n",
    "vow_replace(&quot;stuffed jalapeno poppers&quot;, &quot;e&quot;) ➞ &quot;steffed jelepene peppers&quot;\n",
    "Notes\n",
    "All words will be lowercase. Y is not considered a vowel."
   ]
  },
  {
   "cell_type": "code",
   "execution_count": 12,
   "id": "3b508bcb-28e5-49de-a50a-e2a7616151bc",
   "metadata": {},
   "outputs": [
    {
     "name": "stdout",
     "output_type": "stream",
     "text": [
      "upplus und bununus\n",
      "chooso cossorolo\n",
      "steffed jelepene peppers\n"
     ]
    }
   ],
   "source": [
    "def vow_replace(string, vowel):\n",
    "    vowels = ['a', 'e', 'i', 'o', 'u']\n",
    "    result = ''\n",
    "    for char in string:\n",
    "        if char in vowels:\n",
    "            result += vowel\n",
    "        else:\n",
    "            result += char\n",
    "    return result\n",
    "\n",
    "print(vow_replace(\"apples and bananas\", \"u\"))\n",
    "# Output: \"upplus und bununus\"\n",
    "\n",
    "print(vow_replace(\"cheese casserole\", \"o\"))\n",
    "# Output: \"chooso cossorolo\"\n",
    "\n",
    "print(vow_replace(\"stuffed jalapeno poppers\", \"e\"))\n",
    "# Output: \"steffed jelepene peppers\"\n"
   ]
  },
  {
   "cell_type": "markdown",
   "id": "442481ec-bab6-42f7-b836-ad1ca247e667",
   "metadata": {},
   "source": [
    "Question5\n",
    "Create a function that takes a string as input and capitalizes a letter if its ASCII code is even\n",
    "and returns its lower case version if its ASCII code is odd.\n",
    "Examples\n",
    "ascii_capitalize(&quot;to be or not to be!&quot;) ➞ &quot;To Be oR NoT To Be!&quot;\n",
    "ascii_capitalize(&quot;THE LITTLE MERMAID&quot;) ➞ &quot;THe LiTTLe meRmaiD&quot;\n",
    "ascii_capitalize(&quot;Oh what a beautiful morning.&quot;) ➞ &quot;oH wHaT a BeauTiFuL\n",
    "moRNiNg.&quot;"
   ]
  },
  {
   "cell_type": "code",
   "execution_count": 13,
   "id": "b03467bb-639a-4adf-ad67-c6ab58246b81",
   "metadata": {},
   "outputs": [
    {
     "name": "stdout",
     "output_type": "stream",
     "text": [
      "To Be oR NoT To Be!\n",
      "THe LiTTLe meRmaiD\n",
      "oH wHaT a BeauTiFuL moRNiNg.\n"
     ]
    }
   ],
   "source": [
    "def ascii_capitalize(string):\n",
    "    result = ''\n",
    "    for char in string:\n",
    "        if ord(char) % 2 == 0:\n",
    "            result += char.upper()\n",
    "        else:\n",
    "            result += char.lower()\n",
    "    return result\n",
    "\n",
    "print(ascii_capitalize(\"to be or not to be!\"))\n",
    "# Output: \"To Be oR NoT To Be!\"\n",
    "\n",
    "print(ascii_capitalize(\"THE LITTLE MERMAID\"))\n",
    "# Output: \"THe LiTTLe meRmaiD\"\n",
    "\n",
    "print(ascii_capitalize(\"Oh what a beautiful morning.\"))\n",
    "# Output: \"oH wHaT a BeauTiFuL moRNiNg.\"\n"
   ]
  }
 ],
 "metadata": {
  "kernelspec": {
   "display_name": "Python 3 (ipykernel)",
   "language": "python",
   "name": "python3"
  },
  "language_info": {
   "codemirror_mode": {
    "name": "ipython",
    "version": 3
   },
   "file_extension": ".py",
   "mimetype": "text/x-python",
   "name": "python",
   "nbconvert_exporter": "python",
   "pygments_lexer": "ipython3",
   "version": "3.10.6"
  }
 },
 "nbformat": 4,
 "nbformat_minor": 5
}
