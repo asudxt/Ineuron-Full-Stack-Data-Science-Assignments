{
 "cells": [
  {
   "cell_type": "code",
   "execution_count": null,
   "id": "537a50c7-70e8-48cb-ad7c-7f12956f2700",
   "metadata": {},
   "outputs": [],
   "source": [
    "1. Write a Python program to find words which are greater than given length k?"
   ]
  },
  {
   "cell_type": "code",
   "execution_count": 1,
   "id": "9d4351a3-d235-47aa-853e-ecc7ddb49aba",
   "metadata": {},
   "outputs": [
    {
     "name": "stdout",
     "output_type": "stream",
     "text": [
      "Words greater than length 5 :\n",
      "banana\n",
      "cherry\n",
      "durian\n",
      "elderberry\n"
     ]
    }
   ],
   "source": [
    "def find_words_greater_than_length(words, k):\n",
    "    result = []\n",
    "    for word in words:\n",
    "        if len(word) > k:\n",
    "            result.append(word)\n",
    "    return result\n",
    "\n",
    "word_list = ['apple', 'banana', 'cherry', 'durian', 'elderberry']\n",
    "length = 5\n",
    "\n",
    "words_greater_than_length = find_words_greater_than_length(word_list, length)\n",
    "\n",
    "print(\"Words greater than length\", length, \":\")\n",
    "for word in words_greater_than_length:\n",
    "    print(word)\n"
   ]
  },
  {
   "cell_type": "code",
   "execution_count": null,
   "id": "df032c99-d3e4-4808-bfcf-955362e2be49",
   "metadata": {},
   "outputs": [],
   "source": [
    "2. Write a Python program for removing i-th character from a string?"
   ]
  },
  {
   "cell_type": "code",
   "execution_count": 2,
   "id": "2d2cf506-e038-4762-9d07-78143f525fa4",
   "metadata": {},
   "outputs": [
    {
     "name": "stdout",
     "output_type": "stream",
     "text": [
      "Modified string: Hello, orld!\n"
     ]
    }
   ],
   "source": [
    "def remove_character(string, i):\n",
    "    if i < 0 or i >= len(string):\n",
    "        return string\n",
    "    else:\n",
    "        return string[:i] + string[i+1:]\n",
    "\n",
    "input_string = \"Hello, World!\"\n",
    "index = 7\n",
    "\n",
    "result_string = remove_character(input_string, index)\n",
    "print(\"Modified string:\", result_string)\n"
   ]
  },
  {
   "cell_type": "code",
   "execution_count": null,
   "id": "9961d8e8-491d-4b15-bf5b-cb7290845891",
   "metadata": {},
   "outputs": [],
   "source": [
    "3. Write a Python program to split and join a string?"
   ]
  },
  {
   "cell_type": "code",
   "execution_count": 3,
   "id": "3daf102d-0fca-4ebf-b286-ca8b39247074",
   "metadata": {},
   "outputs": [
    {
     "name": "stdout",
     "output_type": "stream",
     "text": [
      "['Hello', ' World!']\n",
      "Hello- World!\n"
     ]
    }
   ],
   "source": [
    "\n",
    "string = \"Hello, World!\"\n",
    "splitted = string.split(\",\")\n",
    "print(splitted) \n",
    "\n",
    "# Joining a list of strings\n",
    "joined = \"-\".join(splitted)\n",
    "print(joined)\n"
   ]
  },
  {
   "cell_type": "code",
   "execution_count": null,
   "id": "bcc7d523-2359-438a-b1ad-0e91e17a0227",
   "metadata": {},
   "outputs": [],
   "source": [
    "4. Write a Python to check if a given string is binary string or not?"
   ]
  },
  {
   "cell_type": "code",
   "execution_count": 5,
   "id": "6ef997a9-b3ab-4dd7-91fa-9a22fc638a5c",
   "metadata": {},
   "outputs": [
    {
     "name": "stdout",
     "output_type": "stream",
     "text": [
      "True\n",
      "False\n",
      "True\n"
     ]
    }
   ],
   "source": [
    "def is_binary_string(string):\n",
    "    for char in string:\n",
    "        if char != '0' and char != '1':\n",
    "            return False\n",
    "    return True\n",
    "\n",
    "print(is_binary_string(\"101010\"))\n",
    "print(is_binary_string(\"10102\"))  \n",
    "print(is_binary_string(\"101001\"))\n"
   ]
  },
  {
   "cell_type": "code",
   "execution_count": null,
   "id": "4b20c74c-9855-4edd-bd1d-9e86b0e90ba0",
   "metadata": {},
   "outputs": [],
   "source": [
    "5. Write a Python program to find uncommon words from two Strings?"
   ]
  },
  {
   "cell_type": "code",
   "execution_count": 9,
   "id": "a64ab17d-2290-4289-9c10-98c147d6d08b",
   "metadata": {},
   "outputs": [
    {
     "name": "stdout",
     "output_type": "stream",
     "text": [
      "['Learning', 'from']\n"
     ]
    }
   ],
   "source": [
    "\n",
    "def UncommonWords(A, B):\n",
    "\n",
    "    count = {}\n",
    " \n",
    "    for word in A.split():\n",
    "        count[word] = count.get(word, 0) + 1\n",
    " \n",
    "    for word in B.split():\n",
    "        count[word] = count.get(word, 0) + 1\n",
    " \n",
    "\n",
    "    return [word for word in count if count[word] == 1]\n",
    " \n",
    " \n",
    "\n",
    "A = \"Geeks for Geeks\"\n",
    "B = \"Learning from Geeks for Geeks\"\n",
    "print(UncommonWords(A, B))"
   ]
  },
  {
   "cell_type": "code",
   "execution_count": null,
   "id": "defca018-7d49-4de4-877b-8cde3fe90b52",
   "metadata": {},
   "outputs": [],
   "source": [
    "6. Write a Python to find all duplicate characters in string?"
   ]
  },
  {
   "cell_type": "code",
   "execution_count": 11,
   "id": "72c3358c-965d-4f36-968b-dd09797d8558",
   "metadata": {},
   "outputs": [
    {
     "name": "stdout",
     "output_type": "stream",
     "text": [
      "['g', 'e', 'k', 's']\n"
     ]
    }
   ],
   "source": [
    "def duplicate_characters(string):\n",
    "    chars = {}\n",
    " \n",
    "    for char in string:\n",
    "        if char not in chars:\n",
    "            chars[char] = 1\n",
    "        else:\n",
    "            chars[char] += 1\n",
    " \n",
    "    duplicates = []\n",
    "    for char, count in chars.items():\n",
    "        if count > 1:\n",
    "            duplicates.append(char)\n",
    " \n",
    "    return duplicates\n",
    "print(duplicate_characters(\"geeksforgeeks\"))"
   ]
  },
  {
   "cell_type": "code",
   "execution_count": null,
   "id": "91e28ef9-98ab-4e09-bdc7-df41ec47c249",
   "metadata": {},
   "outputs": [],
   "source": [
    "7. Write a Python Program to check if a string contains any special character?"
   ]
  },
  {
   "cell_type": "code",
   "execution_count": 10,
   "id": "6175b953-c630-4d54-bd72-84525f9853e1",
   "metadata": {},
   "outputs": [
    {
     "name": "stdout",
     "output_type": "stream",
     "text": [
      "String contains special characters.\n"
     ]
    }
   ],
   "source": [
    "def has_special_character(string):\n",
    "    for char in string:\n",
    "        if not char.isalnum():\n",
    "            return True\n",
    "    return False\n",
    "\n",
    "\n",
    "text = \"Hello@123\"\n",
    "if has_special_character(text):\n",
    "    print(\"String contains special characters.\")\n",
    "else:\n",
    "    print(\"String does not contain special characters.\")\n"
   ]
  }
 ],
 "metadata": {
  "kernelspec": {
   "display_name": "Python 3 (ipykernel)",
   "language": "python",
   "name": "python3"
  },
  "language_info": {
   "codemirror_mode": {
    "name": "ipython",
    "version": 3
   },
   "file_extension": ".py",
   "mimetype": "text/x-python",
   "name": "python",
   "nbconvert_exporter": "python",
   "pygments_lexer": "ipython3",
   "version": "3.10.6"
  }
 },
 "nbformat": 4,
 "nbformat_minor": 5
}
