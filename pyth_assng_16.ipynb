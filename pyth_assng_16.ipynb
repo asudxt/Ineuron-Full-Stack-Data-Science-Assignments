{
 "cells": [
  {
   "cell_type": "markdown",
   "id": "0f9b8636-d69c-4efb-a90a-f31e7076b636",
   "metadata": {},
   "source": [
    "Question1. Write a function that stutters a word as if someone is struggling to read it. The\n",
    "first two letters are repeated twice with an ellipsis ... and space after each, and then the\n",
    "word is pronounced with a question mark ?.\n",
    "Examples\n",
    "stutter(&quot;incredible&quot;) ➞ &quot;in... in... incredible?&quot;\n",
    "stutter(&quot;enthusiastic&quot;) ➞ &quot;en... en... enthusiastic?&quot;\n",
    "stutter(&quot;outstanding&quot;) ➞ &quot;ou... ou... outstanding?&quot;\n",
    "\n",
    "Hint :- Assume all input is in lower case and at least two characters long."
   ]
  },
  {
   "cell_type": "code",
   "execution_count": 1,
   "id": "032003f1-2355-4925-9d0b-767d29c5fd7c",
   "metadata": {},
   "outputs": [
    {
     "name": "stdout",
     "output_type": "stream",
     "text": [
      "in... in... incredible?\n",
      "en... en... enthusiastic?\n",
      "ou... ou... outstanding?\n"
     ]
    }
   ],
   "source": [
    "def stutter(word):\n",
    "    if len(word) < 2:\n",
    "        return word\n",
    "    \n",
    "    first_two_letters = word[:2]\n",
    "    stuttered_word = f\"{first_two_letters}... {first_two_letters}... {word}?\"\n",
    "    return stuttered_word\n",
    "\n",
    "# Example usage\n",
    "print(stutter(\"incredible\")) \n",
    "print(stutter(\"enthusiastic\"))\n",
    "print(stutter(\"outstanding\")) \n"
   ]
  },
  {
   "cell_type": "markdown",
   "id": "ba1ecfbf-6198-41e2-af6f-bafa81d85271",
   "metadata": {},
   "source": [
    "Question 2.Create a function that takes an angle in radians and returns the corresponding\n",
    "angle in degrees rounded to one decimal place.\n",
    "Examples\n",
    "radians_to_degrees(1) ➞ 57.3\n",
    "radians_to_degrees(20) ➞ 1145.9\n",
    "radians_to_degrees(50) ➞ 2864.8"
   ]
  },
  {
   "cell_type": "code",
   "execution_count": 2,
   "id": "4c797648-a909-4f58-b1cc-86ce6112ee37",
   "metadata": {},
   "outputs": [
    {
     "name": "stdout",
     "output_type": "stream",
     "text": [
      "57.3\n",
      "1145.9\n",
      "2864.8\n"
     ]
    }
   ],
   "source": [
    "import math\n",
    "\n",
    "def radians_to_degrees(angle_radians):\n",
    "    angle_degrees = math.degrees(angle_radians)\n",
    "    return round(angle_degrees, 1)\n",
    "\n",
    "print(radians_to_degrees(1)) \n",
    "print(radians_to_degrees(20)) \n",
    "print(radians_to_degrees(50))\n",
    "\n",
    "    "
   ]
  },
  {
   "cell_type": "markdown",
   "id": "79bf1162-5e18-41fb-bab4-f97101cacb54",
   "metadata": {},
   "source": [
    "Question 3. In this challenge, establish if a given integer num is a Curzon number. If 1 plus\n",
    "2 elevated to num is exactly divisible by 1 plus 2 multiplied by num, then num is a Curzon\n",
    "number.\n",
    "Given a non-negative integer num, implement a function that returns True if num is a Curzon\n",
    "number, or False otherwise.\n",
    "Examples\n",
    "is_curzon(5) ➞ True\n",
    "# 2 ** 5 + 1 = 33\n",
    "# 2 * 5 + 1 = 11\n",
    "# 33 is a multiple of 11\n",
    "is_curzon(10) ➞ False\n",
    "# 2 ** 10 + 1 = 1025\n",
    "# 2 * 10 + 1 = 21\n",
    "# 1025 is not a multiple of 21\n",
    "is_curzon(14) ➞ True\n",
    "# 2 ** 14 + 1 = 16385\n",
    "# 2 * 14 + 1 = 29\n",
    "# 16385 is a multiple of 29"
   ]
  },
  {
   "cell_type": "code",
   "execution_count": null,
   "id": "31a95668-fb69-471b-a4ae-12666cfb4024",
   "metadata": {},
   "outputs": [],
   "source": [
    "def is_curzon(num):\n",
    "    numerator = 2 ** num + 1\n",
    "    denominator = 2 * num + 1\n",
    "    remainder = numerator % denominator\n",
    "    return remainder == 0\n",
    "\n",
    "print(is_curzon(5))  # Output: True\n",
    "print(is_curzon(10))  # Output: False\n",
    "print(is_curzon(14))  # Output: True\n"
   ]
  },
  {
   "cell_type": "code",
   "execution_count": null,
   "id": "8a7463f9-6752-4206-bd14-48685fcca079",
   "metadata": {},
   "outputs": [],
   "source": [
    "Question 4.Given the side length x find the area of a hexagon.\n",
    "\n",
    "Examples\n",
    "area_of_hexagon(1) ➞ 2.6\n",
    "area_of_hexagon(2) ➞ 10.4\n",
    "area_of_hexagon(3) ➞ 23.4"
   ]
  },
  {
   "cell_type": "code",
   "execution_count": 3,
   "id": "c5aeb552-23a2-482a-8427-6261f9023656",
   "metadata": {},
   "outputs": [
    {
     "name": "stdout",
     "output_type": "stream",
     "text": [
      "2.6\n",
      "10.4\n",
      "23.4\n"
     ]
    }
   ],
   "source": [
    "import math\n",
    "\n",
    "def area_of_hexagon(x):\n",
    "    area = (3 * math.sqrt(3) * x**2) / 2\n",
    "    return round(area, 1)\n",
    "\n",
    "print(area_of_hexagon(1)) \n",
    "print(area_of_hexagon(2)) \n",
    "print(area_of_hexagon(3))  "
   ]
  },
  {
   "cell_type": "markdown",
   "id": "ff960963-46ac-4354-8f0c-4a118da8bf9b",
   "metadata": {},
   "source": [
    "Question 5. Create a function that returns a base-2 (binary) representation of a base-10\n",
    "(decimal) string number. To convert is simple: ((2) means base-2 and (10) means base-10)\n",
    "010101001(2) = 1 + 8 + 32 + 128.\n",
    "Going from right to left, the value of the most right bit is 1, now from that every bit to the left\n",
    "will be x2 the value, value of an 8 bit binary numbers are (256, 128, 64, 32, 16, 8, 4, 2, 1).\n",
    "Examples\n",
    "binary(1) ➞ &quot;1&quot;\n",
    "# 1*1 = 1\n",
    "binary(5) ➞ &quot;101&quot;\n",
    "# 1*1 + 1*4 = 5\n",
    "binary(10) ➞ &quot;1010&quot;\n",
    "# 1*2 + 1*8 = 10"
   ]
  },
  {
   "cell_type": "code",
   "execution_count": 9,
   "id": "d8ef24cb-c9c7-4243-9811-c8a104f703fc",
   "metadata": {},
   "outputs": [
    {
     "name": "stdout",
     "output_type": "stream",
     "text": [
      "1\n",
      "101\n",
      "1010\n"
     ]
    }
   ],
   "source": [
    "def binary(decimal):\n",
    "    binary_string = bin(decimal)[2:]\n",
    "    return binary_string\n",
    "\n",
    "print(binary(1))\n",
    "print(binary(5))  \n",
    "print(binary(10)) \n"
   ]
  },
  {
   "cell_type": "code",
   "execution_count": null,
   "id": "51d54481-f3d1-42e9-9fc2-223adf135133",
   "metadata": {},
   "outputs": [],
   "source": []
  }
 ],
 "metadata": {
  "kernelspec": {
   "display_name": "Python 3 (ipykernel)",
   "language": "python",
   "name": "python3"
  },
  "language_info": {
   "codemirror_mode": {
    "name": "ipython",
    "version": 3
   },
   "file_extension": ".py",
   "mimetype": "text/x-python",
   "name": "python",
   "nbconvert_exporter": "python",
   "pygments_lexer": "ipython3",
   "version": "3.10.6"
  }
 },
 "nbformat": 4,
 "nbformat_minor": 5
}
