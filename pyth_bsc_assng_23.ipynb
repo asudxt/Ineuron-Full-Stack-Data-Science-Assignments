{
 "cells": [
  {
   "cell_type": "markdown",
   "id": "263281bf-2ba3-4a65-be75-29b4fa83cb37",
   "metadata": {},
   "source": [
    "1. What is the result of the code, and why?\n",
    "\n",
    "&gt;&gt;&gt; def func(a, b=6, c=8):\n",
    "\n",
    "print(a, b, c)\n",
    "\n",
    "&gt;&gt;&gt; func(1, 2)"
   ]
  },
  {
   "cell_type": "code",
   "execution_count": 1,
   "id": "47fd9f9d-353c-4ab8-a020-b91df3616b73",
   "metadata": {},
   "outputs": [
    {
     "name": "stdout",
     "output_type": "stream",
     "text": [
      "1 2 8\n"
     ]
    }
   ],
   "source": [
    "def func(a, b=6, c=8):\n",
    "    print(a, b, c)\n",
    "func(1, 2)"
   ]
  },
  {
   "cell_type": "markdown",
   "id": "566822db-7d6f-42e1-9270-3de80ed7105c",
   "metadata": {},
   "source": [
    "In the function call func(1, 2), the arguments 1 and 2 are passed to the parameters a and b respectively.\n",
    "Since no argument is passed for the parameter c, it takes the default value of 8."
   ]
  },
  {
   "cell_type": "markdown",
   "id": "5d9fffdc-89c4-4b6a-808b-09fbfa02839d",
   "metadata": {},
   "source": [
    "2. What is the result of this code, and why?\n",
    "\n",
    "&gt;&gt;&gt; def func(a, b, c=5):\n",
    "\n",
    "print(a, b, c)\n",
    "\n",
    "&gt;&gt;&gt; func(1, c=3, b=2)"
   ]
  },
  {
   "cell_type": "code",
   "execution_count": 2,
   "id": "f095ce75-7800-4c08-a9e9-379ca747e547",
   "metadata": {},
   "outputs": [
    {
     "name": "stdout",
     "output_type": "stream",
     "text": [
      "1 2 3\n"
     ]
    }
   ],
   "source": [
    "def func(a, b, c=5):\n",
    "    print(a, b, c)\n",
    "func(1, c=3, b=2)"
   ]
  },
  {
   "cell_type": "markdown",
   "id": "bf4c1645-2e65-4959-8431-3099913380b1",
   "metadata": {},
   "source": [
    "This function call explicitly assigns values to the parameters c and b, while leaving a to be assigned its default value of 1. "
   ]
  },
  {
   "cell_type": "markdown",
   "id": "db6fc000-68c7-42c0-a114-a9cfd97ac8bd",
   "metadata": {},
   "source": [
    "3. How about this code: what is its result, and why?\n",
    "\n",
    "&gt;&gt;&gt; def func(a, *pargs):\n",
    "\n",
    "print(a, pargs)\n",
    "\n",
    "&gt;&gt;&gt; func(1, 2, 3)"
   ]
  },
  {
   "cell_type": "code",
   "execution_count": 3,
   "id": "253f8fda-ad3d-43d7-a3a4-c98ff5ef8d0b",
   "metadata": {},
   "outputs": [
    {
     "name": "stdout",
     "output_type": "stream",
     "text": [
      "1 (2, 3)\n"
     ]
    }
   ],
   "source": [
    "def func(a, *pargs):\n",
    "    print(a, pargs)\n",
    "func(1, 2, 3)"
   ]
  },
  {
   "cell_type": "markdown",
   "id": "472636fb-61d1-482a-b405-ceb45a1e2969",
   "metadata": {},
   "source": [
    "When func(1, 2, 3) is called, a is assigned the value 1, and the remaining arguments 2, 3 are packed into a tuple (2, 3) and assigned to pargs"
   ]
  },
  {
   "cell_type": "markdown",
   "id": "941b34f9-f5dc-41db-a189-5bbb0d97bd67",
   "metadata": {},
   "source": [
    "4. What does this code print, and why?\n",
    "\n",
    "&gt;&gt;&gt; def func(a, **kargs):\n",
    "\n",
    "print(a, kargs)\n",
    "\n",
    "&gt;&gt;&gt; func(a=1, c=3, b=2)"
   ]
  },
  {
   "cell_type": "code",
   "execution_count": 4,
   "id": "ba60270e-0156-4f28-b08f-afb3535e151a",
   "metadata": {},
   "outputs": [
    {
     "name": "stdout",
     "output_type": "stream",
     "text": [
      "1 {'c': 3, 'b': 2}\n"
     ]
    }
   ],
   "source": [
    " def func(a, **kargs):\n",
    "    print(a, kargs)\n",
    "func(a=1, c=3, b=2)"
   ]
  },
  {
   "cell_type": "markdown",
   "id": "176ef9a3-3eea-4adc-9925-05b46c8bda95",
   "metadata": {},
   "source": [
    "When the function is called with a=1, c=3, b=2, the value of a is assigned to 1, and the remaining arguments are collected into a dictionary with keys c and b and values 3 and 2, respectively."
   ]
  },
  {
   "cell_type": "markdown",
   "id": "098d8e00-2f55-4276-a288-adf7656ce1d1",
   "metadata": {},
   "source": [
    "5. What gets printed by this, and explain?\n",
    "\n",
    "&gt;&gt;&gt; def func(a, b, c=8, d=5):\n",
    "    \n",
    "    print(a, b, c, d)\n",
    "\n",
    "&gt;&gt;&gt; func(1, *(5, 6))"
   ]
  },
  {
   "cell_type": "code",
   "execution_count": 6,
   "id": "cf5f9bd1-9e66-4e6b-ac7f-113ab94bc967",
   "metadata": {},
   "outputs": [
    {
     "name": "stdout",
     "output_type": "stream",
     "text": [
      "1 5 6 5\n"
     ]
    }
   ],
   "source": [
    "def func(a, b, c=8, d=5):\n",
    "    print(a, b, c, d)\n",
    "func(1, *(5, 6))"
   ]
  },
  {
   "cell_type": "markdown",
   "id": "51c70e00-2de3-4f05-bd7a-e2daa5872210",
   "metadata": {},
   "source": [
    "In this case, a is assigned the value 1. The expression *(5, 6) is using the * operator to unpack the tuple (5, 6). This means that b is assigned the value 5, and c is assigned the value 6. Since no value is provided for d, it is assigned the default value of 5."
   ]
  },
  {
   "cell_type": "markdown",
   "id": "27b95dc0-c16f-450d-bc5f-249e9aeb4d1d",
   "metadata": {},
   "source": [
    "6. what is the result of this, and explain?\n",
    "\n",
    "&gt;&gt;&gt; def func(a, b, c): a = 2; b[0] = &#39;x&#39;; c[&#39;a&#39;] = &#39;y&#39;\n",
    "\n",
    "&gt;&gt;&gt; l=1; m=[1]; n={&#39;a&#39;:0}\n",
    "                            \n",
    "&gt;&gt;&gt; func(l, m, n)\n",
    "\n",
    "&gt;&gt;&gt; l, m, n"
   ]
  },
  {
   "cell_type": "code",
   "execution_count": 7,
   "id": "8d9be329-5276-4f2c-8b07-07a0dc098a9e",
   "metadata": {},
   "outputs": [
    {
     "data": {
      "text/plain": [
       "(1, ['x'], {'a': 'y'})"
      ]
     },
     "execution_count": 7,
     "metadata": {},
     "output_type": "execute_result"
    }
   ],
   "source": [
    "def func(a, b, c): a = 2; b[0] = 'x'; c['a'] = 'y'\n",
    "\n",
    "l=1; m=[1]; n={'a':0}\n",
    "func(l, m, n)\n",
    "l, m, n"
   ]
  },
  {
   "cell_type": "markdown",
   "id": "bc905aba-0b98-4bc9-a1f8-30ab16bab31b",
   "metadata": {},
   "source": [
    "After the function call, the value of l is still 1 because integers are immutable, the value of m is ['x'] because the original list was modified inside the function, and the value of n is {'a': 'y'} because the original dictionary was modified inside the function."
   ]
  }
 ],
 "metadata": {
  "kernelspec": {
   "display_name": "Python 3 (ipykernel)",
   "language": "python",
   "name": "python3"
  },
  "language_info": {
   "codemirror_mode": {
    "name": "ipython",
    "version": 3
   },
   "file_extension": ".py",
   "mimetype": "text/x-python",
   "name": "python",
   "nbconvert_exporter": "python",
   "pygments_lexer": "ipython3",
   "version": "3.10.6"
  }
 },
 "nbformat": 4,
 "nbformat_minor": 5
}
